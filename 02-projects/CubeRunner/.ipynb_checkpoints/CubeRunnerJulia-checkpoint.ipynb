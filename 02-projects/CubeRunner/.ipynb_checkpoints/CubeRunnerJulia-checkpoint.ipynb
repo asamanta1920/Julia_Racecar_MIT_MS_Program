{
 "cells": [
  {
   "cell_type": "code",
   "execution_count": 1,
   "metadata": {},
   "outputs": [
    {
     "data": {
      "text/plain": [
       "prettyPrint (generic function with 2 methods)"
      ]
     },
     "execution_count": 1,
     "metadata": {},
     "output_type": "execute_result"
    }
   ],
   "source": [
    "function updateScore(score)\n",
    "    return score + 1\n",
    "end\n",
    "\n",
    "function prettyPrint(cubes, player, score, gridSize=5)\n",
    "    @assert 0 <= player[1] < gridSize\n",
    "    @assert player[2] == gridSize - 3\n",
    "    \n",
    "    square = \"\\u25A0\"\n",
    "    triangle = \"\\u25B2\"\n",
    "    space = \" \"\n",
    "    toRet = \"\\n+\" * \"--+\"^gridSize * \"\\n\"\n",
    "    for y in 0:4\n",
    "        toRet = \"| \" * join([[x,y] == player ? triangle : (!([x,y] in cubes) ? space : square) for x in\n",
    "            0:4], \"|\") * \" |\\n\" * toRet\n",
    "        toRet = '+' * \"--+\"^gridSize * \"\\n\" * toRet\n",
    "    end\n",
    "    println(toRet)\n",
    "end\n"
   ]
  },
  {
   "cell_type": "code",
   "execution_count": 2,
   "metadata": {},
   "outputs": [
    {
     "data": {
      "text/plain": [
       "updateCubes (generic function with 1 method)"
      ]
     },
     "execution_count": 2,
     "metadata": {},
     "output_type": "execute_result"
    }
   ],
   "source": [
    "function updateCubes(cubes)\n",
    "    num2 = []\n",
    "    for j in 1:6\n",
    "        append!(num2, rand(0:4))\n",
    "    end\n",
    "    final = []\n",
    "    append!(final, [num2[1],num2[2]])\n",
    "    append!(final, [num2[3],num2[4]])\n",
    "    append!(final, [num2[5],num2[6]])\n",
    "    \n",
    "    return final\n",
    "end"
   ]
  },
  {
   "cell_type": "code",
   "execution_count": 3,
   "metadata": {},
   "outputs": [
    {
     "data": {
      "text/plain": [
       "updatePlayerLocation (generic function with 1 method)"
      ]
     },
     "execution_count": 3,
     "metadata": {},
     "output_type": "execute_result"
    }
   ],
   "source": [
    "function updatePlayerLocation(player, direction)\n",
    "    player_new = [player[1], player[2]]\n",
    "    if direction == \"left\"\n",
    "        if player_new[1] > 0\n",
    "            player_new[1] = player[1] - 1\n",
    "        end\n",
    "\n",
    "    elseif direction == \"right\"\n",
    "        if player_new[1] < 4\n",
    "            player_new[1] = player[1] + 1\n",
    "        end\n",
    "    end\n",
    "\n",
    "    player1 = player_new\n",
    "    return player1\n",
    "end"
   ]
  },
  {
   "cell_type": "code",
   "execution_count": 4,
   "metadata": {},
   "outputs": [
    {
     "data": {
      "text/plain": [
       "collision (generic function with 1 method)"
      ]
     },
     "execution_count": 4,
     "metadata": {},
     "output_type": "execute_result"
    }
   ],
   "source": [
    "function collision(cubes, player)\n",
    "    return player in cubes\n",
    "end"
   ]
  },
  {
   "cell_type": "code",
   "execution_count": 5,
   "metadata": {},
   "outputs": [
    {
     "data": {
      "text/plain": [
       "runGame (generic function with 1 method)"
      ]
     },
     "execution_count": 5,
     "metadata": {},
     "output_type": "execute_result"
    }
   ],
   "source": [
    "function runGame()\n",
    "    player = [2,2]                \n",
    "    score = 0                     \n",
    "    cubes = [[1,1], [3,2], [2, 3]] \n",
    "    println(\"Welcome to cubes!  Quit by typing 'quit'\")\n",
    "    \n",
    "    prettyPrint(cubes, player, score)\n",
    "    println(player)\n",
    "    # Main loop\n",
    "    while true\n",
    "        \n",
    "        cubes_first = updateCubes(cubes)\n",
    "        cubes = [[cubes_first[1],cubes_first[2]], [cubes_first[3], cubes_first[4]], [cubes_first[5],cubes_first[6]]] \n",
    "        println(cubes)\n",
    "        \n",
    "        println(\"Enter 'left', 'right', 'stay', or 'quit': \")\n",
    "        direction = readline()\n",
    "        if direction == \"quit\"\n",
    "            println(\"You quit!  Score was \", score)\n",
    "            break\n",
    "        elseif direction == \"left\" || direction == \"right\" || direction == \"stay\"\n",
    "            player = updatePlayerLocation(player, direction)\n",
    "            println(player)\n",
    "        end\n",
    "\n",
    "        score = updateScore(score)\n",
    "        prettyPrint(cubes, player, score)\n",
    "\n",
    "        if collision(cubes, player)\n",
    "            println(\"You lose!  Score was \" , score)\n",
    "            break\n",
    "        end\n",
    "    end\n",
    "end"
   ]
  },
  {
   "cell_type": "code",
   "execution_count": 6,
   "metadata": {},
   "outputs": [
    {
     "name": "stdout",
     "output_type": "stream",
     "text": [
      "Welcome to cubes!  Quit by typing 'quit'\n",
      "+---+---+---+---+---+\n",
      "|  | | | |  |\n",
      "+---+---+---+---+---+\n",
      "|  | |■| |  |\n",
      "+---+---+---+---+---+\n",
      "|  | |▲|■|  |\n",
      "+---+---+---+---+---+\n",
      "|  |■| | |  |\n",
      "+---+---+---+---+---+\n",
      "|  | | | |  |\n",
      "\n",
      "+---+---+---+---+---+\n",
      "\n",
      "[2, 2]\n",
      "Array{Int64,1}[[0, 0], [0, 0], [2, 1]]\n",
      "Enter 'left', 'right', 'stay', or 'quit': \n",
      "stdin> right\n",
      "[3, 2]\n",
      "+---+---+---+---+---+\n",
      "|  | | | |  |\n",
      "+---+---+---+---+---+\n",
      "|  | | | |  |\n",
      "+---+---+---+---+---+\n",
      "|  | | |▲|  |\n",
      "+---+---+---+---+---+\n",
      "|  | |■| |  |\n",
      "+---+---+---+---+---+\n",
      "| ■| | | |  |\n",
      "\n",
      "+---+---+---+---+---+\n",
      "\n",
      "Array{Int64,1}[[3, 4], [0, 4], [1, 3]]\n",
      "Enter 'left', 'right', 'stay', or 'quit': \n",
      "stdin> lrft\n",
      "+---+---+---+---+---+\n",
      "| ■| | |■|  |\n",
      "+---+---+---+---+---+\n",
      "|  |■| | |  |\n",
      "+---+---+---+---+---+\n",
      "|  | | |▲|  |\n",
      "+---+---+---+---+---+\n",
      "|  | | | |  |\n",
      "+---+---+---+---+---+\n",
      "|  | | | |  |\n",
      "\n",
      "+---+---+---+---+---+\n",
      "\n",
      "Array{Int64,1}[[2, 0], [1, 0], [1, 4]]\n",
      "Enter 'left', 'right', 'stay', or 'quit': \n",
      "stdin> left\n",
      "[2, 2]\n",
      "+---+---+---+---+---+\n",
      "|  |■| | |  |\n",
      "+---+---+---+---+---+\n",
      "|  | | | |  |\n",
      "+---+---+---+---+---+\n",
      "|  | |▲| |  |\n",
      "+---+---+---+---+---+\n",
      "|  | | | |  |\n",
      "+---+---+---+---+---+\n",
      "|  |■|■| |  |\n",
      "\n",
      "+---+---+---+---+---+\n",
      "\n",
      "Array{Int64,1}[[1, 3], [3, 3], [1, 3]]\n",
      "Enter 'left', 'right', 'stay', or 'quit': \n",
      "stdin> left\n",
      "[1, 2]\n",
      "+---+---+---+---+---+\n",
      "|  | | | |  |\n",
      "+---+---+---+---+---+\n",
      "|  |■| |■|  |\n",
      "+---+---+---+---+---+\n",
      "|  |▲| | |  |\n",
      "+---+---+---+---+---+\n",
      "|  | | | |  |\n",
      "+---+---+---+---+---+\n",
      "|  | | | |  |\n",
      "\n",
      "+---+---+---+---+---+\n",
      "\n",
      "Array{Int64,1}[[4, 4], [1, 0], [3, 3]]\n",
      "Enter 'left', 'right', 'stay', or 'quit': \n",
      "stdin> left\n",
      "[0, 2]\n",
      "+---+---+---+---+---+\n",
      "|  | | | |■ |\n",
      "+---+---+---+---+---+\n",
      "|  | | |■|  |\n",
      "+---+---+---+---+---+\n",
      "| ▲| | | |  |\n",
      "+---+---+---+---+---+\n",
      "|  | | | |  |\n",
      "+---+---+---+---+---+\n",
      "|  |■| | |  |\n",
      "\n",
      "+---+---+---+---+---+\n",
      "\n",
      "Array{Int64,1}[[0, 0], [2, 0], [2, 0]]\n",
      "Enter 'left', 'right', 'stay', or 'quit': \n",
      "stdin> left\n",
      "[0, 2]\n",
      "+---+---+---+---+---+\n",
      "|  | | | |  |\n",
      "+---+---+---+---+---+\n",
      "|  | | | |  |\n",
      "+---+---+---+---+---+\n",
      "| ▲| | | |  |\n",
      "+---+---+---+---+---+\n",
      "|  | | | |  |\n",
      "+---+---+---+---+---+\n",
      "| ■| |■| |  |\n",
      "\n",
      "+---+---+---+---+---+\n",
      "\n",
      "Array{Int64,1}[[0, 4], [0, 4], [1, 3]]\n",
      "Enter 'left', 'right', 'stay', or 'quit': \n",
      "stdin> wuit\n",
      "+---+---+---+---+---+\n",
      "| ■| | | |  |\n",
      "+---+---+---+---+---+\n",
      "|  |■| | |  |\n",
      "+---+---+---+---+---+\n",
      "| ▲| | | |  |\n",
      "+---+---+---+---+---+\n",
      "|  | | | |  |\n",
      "+---+---+---+---+---+\n",
      "|  | | | |  |\n",
      "\n",
      "+---+---+---+---+---+\n",
      "\n",
      "Array{Int64,1}[[2, 1], [3, 4], [3, 0]]\n",
      "Enter 'left', 'right', 'stay', or 'quit': \n",
      "stdin> quit\n",
      "You quit!  Score was 7\n"
     ]
    }
   ],
   "source": [
    "runGame()"
   ]
  },
  {
   "cell_type": "code",
   "execution_count": null,
   "metadata": {},
   "outputs": [],
   "source": []
  }
 ],
 "metadata": {
  "kernelspec": {
   "display_name": "Julia 1.2.0",
   "language": "julia",
   "name": "julia-1.2"
  },
  "language_info": {
   "file_extension": ".jl",
   "mimetype": "application/julia",
   "name": "julia",
   "version": "1.2.0"
  }
 },
 "nbformat": 4,
 "nbformat_minor": 2
}
