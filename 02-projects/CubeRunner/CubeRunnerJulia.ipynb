{
 "cells": [
  {
   "cell_type": "code",
   "execution_count": 2,
   "metadata": {},
   "outputs": [
    {
     "ename": "LoadError",
     "evalue": "syntax: missing comma or ) in argument list",
     "output_type": "error",
     "traceback": [
      "syntax: missing comma or ) in argument list",
      ""
     ]
    }
   ],
   "source": [
    "function updateScore(score)\n",
    "    return score + 1\n",
    "end\n",
    "\n",
    "function prettyPrint(cubes, player, score, gridSize=5)\n",
    "    @assert 0 <= player[1] < gridSize\n",
    "    @assert player[2] == gridSize - 1\n",
    "    square = u\" \\u25A0 \"\n",
    "    triangle = u\" \\u25B2 \"\n",
    "    space = \"   \"\n",
    "    toRet = \"\\n+\" * \"---+\"^gridSize * \"\\n\"\n",
    "    for y in 0:5\n",
    "        toRet += \"|\" * join([if [x,y] == player triangle else (space if [x,y] not in cubes else square) for x in\n",
    "            0:5], \"|\") * \"|\"\n",
    "        toRet += \"+\" * \"---+\"^gridSize * \"\"\n",
    "    end\n",
    "    println(toRet)\n",
    "end"
   ]
  },
  {
   "cell_type": "code",
   "execution_count": null,
   "metadata": {},
   "outputs": [],
   "source": [
    "function updateCubes(cubes)\n",
    "    num2 = []\n",
    "    for j in 1:6\n",
    "        append!(num2, rand(0:5))\n",
    "    end\n",
    "    final = []\n",
    "    append!(final, [num2[1],num2[2]])\n",
    "    append!(final, [num2[3],num2[4]])\n",
    "    append!(final, [num2[5],num2[6]])\n",
    "    \n",
    "    return final\n",
    "end"
   ]
  },
  {
   "cell_type": "code",
   "execution_count": null,
   "metadata": {},
   "outputs": [],
   "source": [
    "function updatePlayerLocation(player, direction)\n",
    "    player_new = [player[1], player[2]]\n",
    "    if direction == \"left\"\n",
    "        if player_new[1] > 0\n",
    "            player_new[1] = player[1] - 1\n",
    "        end\n",
    "\n",
    "    elseif direction == \"right\"\n",
    "        if player_new[1] < 4\n",
    "            player_new[1] = player[1] + 1\n",
    "        end\n",
    "    end\n",
    "\n",
    "    player1 = player_new\n",
    "    return player1\n",
    "end"
   ]
  },
  {
   "cell_type": "code",
   "execution_count": null,
   "metadata": {},
   "outputs": [],
   "source": [
    "function collision(cubes, player)\n",
    "    return player in cubes\n",
    "end"
   ]
  },
  {
   "cell_type": "code",
   "execution_count": null,
   "metadata": {},
   "outputs": [],
   "source": [
    "function runGame()\n",
    "    player = [2,4]                \n",
    "    score = 0                     \n",
    "    cubes = [[0,0], [3,0], [4,0]] \n",
    "    println(\"Welcome to cubes!  Quit by typing 'quit'\")\n",
    "    \n",
    "    #prettyPrint(cubes, player, score)\n",
    "    println(player)\n",
    "    # Main loop\n",
    "    while true\n",
    "        println(\"Enter 'left', 'right', 'stay', or 'quit': \")\n",
    "        direction = readline()\n",
    "        if direction == \"quit\"\n",
    "            println(\"You quit!  Score was\", score)\n",
    "            break\n",
    "        elseif direction == \"left\" || direction == \"right\" || direction == \"stay\"\n",
    "            player = updatePlayerLocation(player, direction)\n",
    "            println(player)\n",
    "        end\n",
    "\n",
    "        cubes = updateCubes(cubes)\n",
    "        score = updateScore(score)\n",
    "        #prettyPrint(cubes, player, score)\n",
    "\n",
    "        if collision(cubes, player)\n",
    "            println(\"You lose!  Score was \" , score)\n",
    "            break\n",
    "        end\n",
    "    end\n",
    "end"
   ]
  },
  {
   "cell_type": "code",
   "execution_count": null,
   "metadata": {},
   "outputs": [],
   "source": [
    "runGame()"
   ]
  },
  {
   "cell_type": "code",
   "execution_count": null,
   "metadata": {},
   "outputs": [],
   "source": []
  }
 ],
 "metadata": {
  "kernelspec": {
   "display_name": "Julia 1.2.0",
   "language": "julia",
   "name": "julia-1.2"
  },
  "language_info": {
   "file_extension": ".jl",
   "mimetype": "application/julia",
   "name": "julia",
   "version": "1.2.0"
  }
 },
 "nbformat": 4,
 "nbformat_minor": 2
}
