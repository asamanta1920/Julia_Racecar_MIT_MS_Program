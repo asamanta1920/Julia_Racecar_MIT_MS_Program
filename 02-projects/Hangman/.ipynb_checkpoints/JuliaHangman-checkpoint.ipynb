{
 "cells": [
  {
   "cell_type": "code",
   "execution_count": 1,
   "metadata": {},
   "outputs": [
    {
     "data": {
      "text/plain": [
       "7-element Array{String,1}:\n",
       " \"\\n   +---+\\n       |\\n       |\\n       |\\n      ===\"\n",
       " \"\\n   +---+\\n   O   |\\n       |\\n       |\\n      ===\"\n",
       " \"\\n   +---+\\n   O   |\\n   |   |\\n       |\\n      ===\"\n",
       " \"\\n   +---+\\n   O   |\\n  /|   |\\n       |\\n      ===\"\n",
       " \"\\n   +---+\\n   O   |\\n  /|\\\\ |\\n       |\\n      ===\"\n",
       " \"\\n   +---+\\n   O   |\\n  /|\\\\ |\\n  /    |\\n     ===\" \n",
       " \"\\n   +---+\\n   O   |\\n  /|\\\\ |\\n  / \\\\ |\\n     ===\" "
      ]
     },
     "execution_count": 1,
     "metadata": {},
     "output_type": "execute_result"
    }
   ],
   "source": [
    "word_list = [\"hello\", \"cello\", \"grape\", \"grate\",\n",
    "             \"grass\", \"brass\", \"right\", \"sight\",\n",
    "             \"maria\", \"chair\", \"wooly\", \"laced\",\n",
    "             \"smile\", \"ghost\", \"fries\", \"amaze\",\n",
    "             \"sleep\", \"jewel\"]\n",
    "\n",
    "hangman = [\"\n",
    "   +---+\n",
    "       |\n",
    "       |\n",
    "       |\n",
    "      ===\", \"\n",
    "   +---+\n",
    "   O   |\n",
    "       |\n",
    "       |\n",
    "      ===\", \"\n",
    "   +---+\n",
    "   O   |\n",
    "   |   |\n",
    "       |\n",
    "      ===\", \"\n",
    "   +---+\n",
    "   O   |\n",
    "  /|   |\n",
    "       |\n",
    "      ===\", \"\n",
    "   +---+\n",
    "   O   |\n",
    "  /|\\\\ |\n",
    "       |\n",
    "      ===\", \"\n",
    "   +---+\n",
    "   O   |\n",
    "  /|\\\\ |\n",
    "  /    |\n",
    "     ===\", \"\n",
    "   +---+\n",
    "   O   |\n",
    "  /|\\\\ |\n",
    "  / \\\\ |\n",
    "     ===\"]\n"
   ]
  },
  {
   "cell_type": "code",
   "execution_count": 2,
   "metadata": {},
   "outputs": [
    {
     "data": {
      "text/plain": [
       "display_board (generic function with 1 method)"
      ]
     },
     "execution_count": 2,
     "metadata": {},
     "output_type": "execute_result"
    }
   ],
   "source": [
    "secret_word = rand(word_list)\n",
    "\n",
    "function display_board(missed_letters, word_state)\n",
    "    println(hangman[length(missed_letters) + 1])\n",
    "    println(\"Number of letters missed\")\n",
    "    println(missed_letters)\n",
    "    println(\"Word State\")\n",
    "    println(word_state)\n",
    "end"
   ]
  },
  {
   "cell_type": "code",
   "execution_count": 3,
   "metadata": {},
   "outputs": [
    {
     "name": "stdout",
     "output_type": "stream",
     "text": [
      "\n",
      "   +---+\n",
      "   O   |\n",
      "  /|   |\n",
      "       |\n",
      "      ===\n",
      "Number of letters missed\n",
      "aiu\n",
      "Word State\n",
      "_r__\n"
     ]
    }
   ],
   "source": [
    "display_board(\"aiu\", \"_r__\")"
   ]
  },
  {
   "cell_type": "code",
   "execution_count": 4,
   "metadata": {},
   "outputs": [
    {
     "data": {
      "text/plain": [
       "get_word_state (generic function with 1 method)"
      ]
     },
     "execution_count": 4,
     "metadata": {},
     "output_type": "execute_result"
    }
   ],
   "source": [
    "function get_word_state(word, correct_letters)\n",
    "    word_state = \"\"\n",
    "    for letter in word\n",
    "       if letter in correct_letters \n",
    "            append!(word_state, letter)\n",
    "       else\n",
    "            append!(word_state, \"_\")\n",
    "       end\n",
    "    end\n",
    "    return word_state\n",
    "end"
   ]
  },
  {
   "cell_type": "code",
   "execution_count": 5,
   "metadata": {},
   "outputs": [],
   "source": [
    "# ********EXAMPLE OF APPEND!********\n",
    "\n",
    "# a = [1]\n",
    "# b = [2, 3]\n",
    "\n",
    "# append!(a, b)\n",
    "\n",
    "# println(a)\n",
    "# println(b)"
   ]
  },
  {
   "cell_type": "code",
   "execution_count": 12,
   "metadata": {},
   "outputs": [
    {
     "data": {
      "text/plain": [
       "get_guess (generic function with 1 method)"
      ]
     },
     "execution_count": 12,
     "metadata": {},
     "output_type": "execute_result"
    }
   ],
   "source": [
    "function get_guess(letters_guessed)\n",
    "    #valid_letters = \"abcdefghijklmnopqrstuvwxyzABCDEFGHIJKLMNOPQRSTUVWXYZ\"  # valid characters\n",
    "    valid_guess = false                                                     # assume guess is not valid\n",
    "    \n",
    "    guess = \"\"\n",
    "    \n",
    "    # While the guess is not valid...\n",
    "    while valid_guess == false\n",
    "    \n",
    "        # Get input from the player (this is written for you)\n",
    "        println(\"Guess a letter: \")\n",
    "        guess = readline()\n",
    "        \n",
    "\n",
    "        # If guess does not have length 1, tell the player\n",
    "        \n",
    "        if length(guess) != 1\n",
    "            println(\"Please guess a single letter\")\n",
    "\n",
    "        # Otherwise, guess is not a valid letter, tell the player. (Hint: elif)\n",
    "            \n",
    "        elseif !((guess[1] in 'a':'z') | (guess[1] in 'A':'Z'))\n",
    "            println(\"Please guess a valid letter\")\n",
    "\n",
    "        # Otherwise, guess has already been guessed, tell the player. (Hint: elif) \n",
    "        # Remember, letters_guessed is a string of the letters that have been guessed already.\n",
    "        elseif guess[1] ∉ letters_guessed\n",
    "            println(\"You already guessed that letter. Guess again.\")\n",
    "\n",
    "        # Otherwise,(Hint: else) set valid_guess to True\n",
    "        else\n",
    "            valid_guess = true\n",
    "        end\n",
    "    end\n",
    "        \n",
    "        \n",
    "    # Return the guess\n",
    "    return guess\n",
    "end"
   ]
  },
  {
   "cell_type": "code",
   "execution_count": 14,
   "metadata": {},
   "outputs": [
    {
     "name": "stdout",
     "output_type": "stream",
     "text": [
      "Guess a letter: \n",
      "stdin> 1\n",
      "Please guess a valid letter\n",
      "Guess a letter: \n",
      "stdin> a\n"
     ]
    },
    {
     "data": {
      "text/plain": [
       "\"a\""
      ]
     },
     "execution_count": 14,
     "metadata": {},
     "output_type": "execute_result"
    }
   ],
   "source": [
    "get_guess(\"abcdef\")"
   ]
  },
  {
   "cell_type": "code",
   "execution_count": null,
   "metadata": {},
   "outputs": [],
   "source": [
    "function play_hangman(word)\n",
    "    game_over = False             # keeps track of if the game is over\n",
    "    correct_letters = \"\"         # string of correctly guessed letters\n",
    "    missed_letters = \"\"# string of incorrectly guessed letters\n",
    "    word_state = '_' * len(word)  # the word state (start with all underscores)\n",
    "    \n",
    "    # While the game is not over...\n",
    "    while game_over == False\n",
    "    \n",
    "        # Display the current board (call the display_board function!)\n",
    "        display_board(missed_letters, word_state)\n",
    "        \n",
    "        # Find all letters_guessed (Hint: Use concatenation between correct and missed letters)\n",
    "        \n",
    "        letters_guessed = correct * missed_letters\n",
    "        \n",
    "        # Get and save a guess from the user (call the get_guess function!)\n",
    "        \n",
    "        guess = get_guess(letters_guessed)\n",
    "        \n",
    "        # If the guess is correct (if the guess is in the word)...\n",
    "        \n",
    "        if guess in word\n",
    "        \n",
    "            # Print correct guess message\n",
    "            \n",
    "            println(\"Your letter was in the word\")\n",
    "        \n",
    "            # Update correct_letters (add the guess)\n",
    "            \n",
    "            append!(correct_letters, guess)\n",
    "            \n",
    "            # Update word_state (call the get_word_state function)\n",
    "            word_state = get_word_state(word, correct_letters)\n",
    "            \n",
    "            \n",
    "            # If they have won the game (there will be no more underscores in word_state)...\n",
    "            if !('_' in word_state)\n",
    "                \n",
    "                # Print the board (call display_board!)\n",
    "                \n",
    "                display_board(missed_letters, word_state)\n",
    "            \n",
    "                # Print winning message\n",
    "                \n",
    "                println(\"You guessed the word!\")\n",
    "                \n",
    "                # Set game_over to True\n",
    "                \n",
    "                game_over = true\n",
    "            \n",
    "        # Otherwise, if the guess is incorrect...\n",
    "        else    \n",
    "            \n",
    "        \n",
    "            # Print incorrect guess message\n",
    "            \n",
    "            println(\"The letter was incorrect\")\n",
    "        \n",
    "            # Update missed_letters\n",
    "            \n",
    "            append!(missed_letters, guess)\n",
    "            \n",
    "            # If they have lost the game (6 or more missed letters)\n",
    "            \n",
    "            if length(missed_letters) > 5\n",
    "            \n",
    "                # Print the board (call display_board!)\n",
    "                \n",
    "                display_board(missed_letters, word_state)\n",
    "                \n",
    "                # Let the player know what the correct word was!\n",
    "                \n",
    "                println(\"The correct word was\" * word)\n",
    "                \n",
    "                # Print losing message\n",
    "                \n",
    "                println(\"You lost!\")\n",
    "                \n",
    "                # Set game_over to True\n",
    "                    \n",
    "                game_over = true"
   ]
  }
 ],
 "metadata": {
  "kernelspec": {
   "display_name": "Julia 1.2.0",
   "language": "julia",
   "name": "julia-1.2"
  },
  "language_info": {
   "file_extension": ".jl",
   "mimetype": "application/julia",
   "name": "julia",
   "version": "1.2.0"
  }
 },
 "nbformat": 4,
 "nbformat_minor": 2
}
