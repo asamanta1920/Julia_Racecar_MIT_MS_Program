{
 "cells": [
  {
   "cell_type": "code",
   "execution_count": 1,
   "metadata": {},
   "outputs": [
    {
     "data": {
      "text/plain": [
       "26-element Array{Char,1}:\n",
       " 'a'\n",
       " 'b'\n",
       " 'c'\n",
       " 'd'\n",
       " 'e'\n",
       " 'f'\n",
       " 'g'\n",
       " 'h'\n",
       " 'i'\n",
       " 'j'\n",
       " 'k'\n",
       " 'l'\n",
       " 'm'\n",
       " 'n'\n",
       " 'o'\n",
       " 'p'\n",
       " 'q'\n",
       " 'r'\n",
       " 's'\n",
       " 't'\n",
       " 'u'\n",
       " 'v'\n",
       " 'w'\n",
       " 'x'\n",
       " 'y'\n",
       " 'z'"
      ]
     },
     "execution_count": 1,
     "metadata": {},
     "output_type": "execute_result"
    }
   ],
   "source": [
    "# Link to Pyhton Hangman AI: https://repl.it/@asamanta/hangmanai\n",
    "\n",
    "\n",
    "word_list = [\"hello\", \"cello\", \"grape\", \"grate\",\n",
    "             \"grass\", \"brass\", \"right\", \"sight\",\n",
    "             \"maria\", \"chair\", \"wooly\", \"laced\",\n",
    "             \"smile\", \"ghost\", \"fries\", \"amaze\",\n",
    "             \"sleep\", \"jewel\"]\n",
    "\n",
    "letters = ['a','b','c','d','e','f','g','h','i','j','k','l','m','n','o','p','q','r','s','t','u','v','w','x','y','z']"
   ]
  },
  {
   "cell_type": "code",
   "execution_count": 3,
   "metadata": {},
   "outputs": [
    {
     "data": {
      "text/plain": [
       "list_of_lengths_partition (generic function with 1 method)"
      ]
     },
     "execution_count": 3,
     "metadata": {},
     "output_type": "execute_result"
    }
   ],
   "source": [
    "letter_pattern(word, letter) =\n",
    "    map(char -> char == letter ? char : '-',word)\n",
    "\n",
    "partition_list(word_list, letter) =\n",
    "  let d = Dict()\n",
    "    for word in word_list\n",
    "      let pattern = letter_pattern(word, letter)\n",
    "        d[pattern] = push!(get(() -> [], d, pattern), word)\n",
    "      end\n",
    "    end\n",
    "    values(d)\n",
    "  end\n",
    "\n",
    "list_of_lengths_partition(word_list, letter) =\n",
    "    let partitions = partition_list(word_list, letter)\n",
    "        map(x -> length(x), partitions)\n",
    "    end"
   ]
  },
  {
   "cell_type": "code",
   "execution_count": 4,
   "metadata": {},
   "outputs": [
    {
     "data": {
      "text/plain": [
       "entropy (generic function with 1 method)"
      ]
     },
     "execution_count": 4,
     "metadata": {},
     "output_type": "execute_result"
    }
   ],
   "source": [
    "measure_information1(list_lengths) =\n",
    "    reduce(max, list_lengths)\n",
    "\n",
    "measure_information2(list_lengths) =\n",
    "    length(list_lengths)\n",
    "\n",
    "entropy(list_lengths) =\n",
    "    let total_length = reduce(+, list_lengths)\n",
    "        -reduce((total, len) -> total + len / total_length * log2(len / total_length), list_lengths; init=0)\n",
    "    end"
   ]
  },
  {
   "cell_type": "code",
   "execution_count": 5,
   "metadata": {},
   "outputs": [
    {
     "data": {
      "text/plain": [
       "best_letter_bob (generic function with 1 method)"
      ]
     },
     "execution_count": 5,
     "metadata": {},
     "output_type": "execute_result"
    }
   ],
   "source": [
    "function best_letter_internal_bigger(state, letter)\n",
    "    current_index, best_value, best_letter, word_list, measure = state\n",
    "    information = measure(list_lengths)\n",
    "    if information > best_value\n",
    "        current_index + 1, information, letter, word_list, measure\n",
    "    else\n",
    "        current_index + 1, best_value, best_letter, word_list, measure\n",
    "    end\n",
    "end\n",
    "\n",
    "function best_letter_internal_smaller(state, letter)\n",
    "    current_index, best_value, best_letter, word_list, measure = state\n",
    "    information = measure(list_lengths)\n",
    "    if information < best_value\n",
    "        current_index + 1, information, letter, word_list, measure\n",
    "    else\n",
    "        current_index + 1, best_value, best_letter, word_list, measure\n",
    "    end\n",
    "end\n",
    "\n",
    "function best_letter1(word_list, measure, bigger_better)\n",
    "    if bigger_better == true\n",
    "        current_index, best_value, best_letter, x, y = reduce(best_letter_internal_bigger, letters, (0, Inf, \"dummy\", word_list, measure))\n",
    "    elseif bigger_better == false\n",
    "        current_index, best_value, best_letter, x, y = reduce(best_letter_internal_smaller, letters, (0, Inf, \"dummy\", word_list, measure))\n",
    "    end\n",
    "end\n",
    "\n",
    "function best_letter_bob(state, letter)\n",
    "    current_index, best_value, best_letter, word_list, measure, comparison = state\n",
    "    information = measure(list_lengths)\n",
    "    if comparison(information, best_value)\n",
    "        current_index + 1, information, letter, word_list, measure\n",
    "    else\n",
    "        current_index + 1, best_value, best_letter, word_list, measure\n",
    "    end\n",
    "end"
   ]
  },
  {
   "cell_type": "code",
   "execution_count": 6,
   "metadata": {},
   "outputs": [
    {
     "data": {
      "text/plain": [
       "matching_words_filter (generic function with 1 method)"
      ]
     },
     "execution_count": 6,
     "metadata": {},
     "output_type": "execute_result"
    }
   ],
   "source": [
    "function word_pattern_match(word, letter, pattern)\n",
    "    letter_pattern(word, letter) == pattern\n",
    "end\n",
    "\n",
    "function matching_words(list_words, letter, pattern)\n",
    "    result = []\n",
    "    for word in list_words\n",
    "        if word_pattern_match(word, letter, pattern) == true\n",
    "            push!(result, word)\n",
    "        end\n",
    "    end\n",
    "    result\n",
    "end\n",
    "\n",
    "function matching_words_filter(list_words, letter, pattern)\n",
    "    result = filter(word -> word_pattern_match(word, letter, pattern), list_words)\n",
    "    result\n",
    "end"
   ]
  },
  {
   "cell_type": "code",
   "execution_count": 7,
   "metadata": {},
   "outputs": [
    {
     "name": "stdout",
     "output_type": "stream",
     "text": [
      "--ll-\n",
      "[4, 2, 1, 2, 1, 8]\n",
      "8\n",
      "6\n",
      "2.169925001442312\n"
     ]
    }
   ],
   "source": [
    "println(letter_pattern(\"hello\", 'l'))\n",
    "list_lengths = list_of_lengths_partition(word_list, 'e')\n",
    "println(list_lengths)\n",
    "println(measure_information1(list_lengths))\n",
    "println(measure_information2(list_lengths))\n",
    "println(entropy(list_lengths))"
   ]
  },
  {
   "cell_type": "code",
   "execution_count": 8,
   "metadata": {},
   "outputs": [],
   "source": [
    "@assert matching_words([\"hello\", \"jello\", \"cello\"], 'e', \"-e---\") == [\"hello\",\"jello\",\"cello\"]\n",
    "@assert word_pattern_match(\"hello\", 'l', \"---l-\") == false\n",
    "@assert matching_words_filter([\"hello\", \"jello\", \"jewel\"], 'l', \"--ll-\") == [\"hello\", \"jello\"]"
   ]
  },
  {
   "cell_type": "code",
   "execution_count": null,
   "metadata": {},
   "outputs": [],
   "source": []
  }
 ],
 "metadata": {
  "kernelspec": {
   "display_name": "Julia 1.3.0",
   "language": "julia",
   "name": "julia-1.3"
  },
  "language_info": {
   "file_extension": ".jl",
   "mimetype": "application/julia",
   "name": "julia",
   "version": "1.3.0"
  }
 },
 "nbformat": 4,
 "nbformat_minor": 2
}
