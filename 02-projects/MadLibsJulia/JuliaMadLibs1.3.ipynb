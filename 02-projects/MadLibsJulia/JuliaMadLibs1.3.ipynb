{
 "cells": [
  {
   "cell_type": "code",
   "execution_count": 1,
   "metadata": {},
   "outputs": [
    {
     "name": "stdout",
     "output_type": "stream",
     "text": [
      "Hello my name is Adrita. I want to work for a software company.\n"
     ]
    }
   ],
   "source": [
    "name = \"Adrita\"\n",
    "job = \"software\"\n",
    "\n",
    "println(\"Hello my name is \" * name * \". I want to work for a \" * job * \" company.\")"
   ]
  },
  {
   "cell_type": "code",
   "execution_count": 2,
   "metadata": {},
   "outputs": [
    {
     "name": "stdout",
     "output_type": "stream",
     "text": [
      "Adrita biked to the beach and played for 3 hours."
     ]
    }
   ],
   "source": [
    "name = \"Adrita\"\n",
    "verb = \"biked\"\n",
    "location = \"beach\"\n",
    "verb2 = \"played for\"\n",
    "number = \"3\"\n",
    "time = \"hours\"\n",
    "\n",
    "print(name * \" \" * verb * \" to the \" * location * \" and \" * verb2 * \n",
    "         \" \" * number * \" \" * time * \".\")"
   ]
  },
  {
   "cell_type": "code",
   "execution_count": null,
   "metadata": {},
   "outputs": [],
   "source": []
  }
 ],
 "metadata": {
  "kernelspec": {
   "display_name": "Julia 1.3.0",
   "language": "julia",
   "name": "julia-1.3"
  },
  "language_info": {
   "file_extension": ".jl",
   "mimetype": "application/julia",
   "name": "julia",
   "version": "1.3.0"
  }
 },
 "nbformat": 4,
 "nbformat_minor": 2
}
