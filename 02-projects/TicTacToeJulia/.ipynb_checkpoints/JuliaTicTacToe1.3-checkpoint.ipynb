{
 "cells": [
  {
   "cell_type": "code",
   "execution_count": 1,
   "metadata": {},
   "outputs": [
    {
     "data": {
      "text/plain": [
       "is_valid_move (generic function with 1 method)"
      ]
     },
     "execution_count": 1,
     "metadata": {},
     "output_type": "execute_result"
    }
   ],
   "source": [
    "function is_valid_move(choice, board)\n",
    "    if choice < \n",
    "        return false\n",
    "    elseif choice > 8\n",
    "        return false\n",
    "    elseif board[choice] == 'X'\n",
    "        return false\n",
    "    elseif board[choice] == 'O'\n",
    "        return false\n",
    "    else\n",
    "        return true\n",
    "    end\n",
    "end"
   ]
  },
  {
   "cell_type": "code",
   "execution_count": 2,
   "metadata": {},
   "outputs": [
    {
     "data": {
      "text/plain": [
       "mark_board (generic function with 1 method)"
      ]
     },
     "execution_count": 2,
     "metadata": {},
     "output_type": "execute_result"
    }
   ],
   "source": [
    "function mark_board(board, choice, player_one_turn)\n",
    "    if player_one_turn == true\n",
    "        board[choice] = 'X'\n",
    "    else\n",
    "        board[choice] = 'O'\n",
    "    end\n",
    "end"
   ]
  },
  {
   "cell_type": "code",
   "execution_count": 3,
   "metadata": {},
   "outputs": [
    {
     "data": {
      "text/plain": [
       "is_winner (generic function with 1 method)"
      ]
     },
     "execution_count": 3,
     "metadata": {},
     "output_type": "execute_result"
    }
   ],
   "source": [
    "function is_winner(board)\n",
    "    any((win) -> board[win[1]] == board[win[2]] == board[win[3]] && board[win[1]] != '-',\n",
    "        [[1, 2, 3],\n",
    "         [4, 5, 6],\n",
    "         [7, 8, 9],\n",
    "         [1, 4, 7],\n",
    "         [2, 5, 8],\n",
    "         [3, 6, 9],\n",
    "         [1, 5, 9],\n",
    "         [3, 5, 7]])\n",
    "end"
   ]
  },
  {
   "cell_type": "code",
   "execution_count": 4,
   "metadata": {},
   "outputs": [
    {
     "data": {
      "text/plain": [
       "print_board (generic function with 1 method)"
      ]
     },
     "execution_count": 4,
     "metadata": {},
     "output_type": "execute_result"
    }
   ],
   "source": [
    "board = []\n",
    "for x in 1:10\n",
    "    push!(board, '-')\n",
    "end\n",
    "\n",
    "function print_board(board)\n",
    "    println(\" ----- \")\n",
    "    println('|' * board[1] * '|' * board[2] * '|' * board[3] * '|')\n",
    "    println(\" ----- \")\n",
    "    println('|' * board[4] * '|' * board[5] * '|' * board[6] * '|')\n",
    "    println(\" ----- \")\n",
    "    println('|' * board[7] * '|' * board[8] * '|' * board[9] * '|')\n",
    "end"
   ]
  },
  {
   "cell_type": "code",
   "execution_count": 5,
   "metadata": {},
   "outputs": [
    {
     "name": "stdout",
     "output_type": "stream",
     "text": [
      " ----- \n",
      "|-|-|-|\n",
      " ----- \n",
      "|-|-|-|\n",
      " ----- \n",
      "|-|-|-|\n"
     ]
    },
    {
     "data": {
      "text/plain": [
       "get_choice (generic function with 1 method)"
      ]
     },
     "execution_count": 5,
     "metadata": {},
     "output_type": "execute_result"
    }
   ],
   "source": [
    "player_one_turn = true\n",
    "winner = false\n",
    "\n",
    "print_board(board)\n",
    "\n",
    "function get_choice()\n",
    "    println(\"Enter a position --> \")\n",
    "    choice = readline()\n",
    "    return parse(Int, choice)\n",
    "end"
   ]
  },
  {
   "cell_type": "code",
   "execution_count": null,
   "metadata": {},
   "outputs": [
    {
     "name": "stdout",
     "output_type": "stream",
     "text": [
      "Player 1(X):\n",
      "Enter a position --> \n",
      "stdin> 1\n",
      " ----- \n",
      "|X|-|-|\n",
      " ----- \n",
      "|-|-|-|\n",
      " ----- \n",
      "|-|-|-|\n",
      "Player 2(O):\n",
      "Enter a position --> \n",
      "stdin> 2\n",
      " ----- \n",
      "|X|O|-|\n",
      " ----- \n",
      "|-|-|-|\n",
      " ----- \n",
      "|-|-|-|\n",
      "Player 1(X):\n",
      "Enter a position --> \n"
     ]
    }
   ],
   "source": [
    "while winner == false\n",
    "    println(\" \")\n",
    "    if player_one_turn\n",
    "        println(\"Player 1(X):\")\n",
    "    else\n",
    "        println(\"Player 2(O):\")\n",
    "    end\n",
    "    choice = get_choice()\n",
    "    if is_valid_move == false\n",
    "        println(\"Illegal move, please try again\")\n",
    "    end\n",
    "    mark_board(board, choice, player_one_turn)\n",
    "\n",
    "    global player_one_turn = !player_one_turn\n",
    "\n",
    "    global winner = is_winner(board)\n",
    "\n",
    "    print_board(board)\n",
    "end\n",
    "\n",
    "println(\"Player \" * (player_one_turn ? \"2\" : \"1\") * \" wins!\")"
   ]
  },
  {
   "cell_type": "code",
   "execution_count": null,
   "metadata": {},
   "outputs": [],
   "source": [
    "██████ ██████   ██ ██\n",
    "  ██     ██    ██\n",
    "  ██     ██    ██\n",
    "  ██   ██████   ██ ██"
   ]
  }
 ],
 "metadata": {
  "kernelspec": {
   "display_name": "Julia 1.3.0",
   "language": "julia",
   "name": "julia-1.3"
  },
  "language_info": {
   "file_extension": ".jl",
   "mimetype": "application/julia",
   "name": "julia",
   "version": "1.3.0"
  }
 },
 "nbformat": 4,
 "nbformat_minor": 2
}
