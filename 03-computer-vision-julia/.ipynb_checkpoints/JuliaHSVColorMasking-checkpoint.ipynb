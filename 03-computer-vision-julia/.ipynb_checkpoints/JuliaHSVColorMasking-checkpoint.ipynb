{
 "cells": [
  {
   "cell_type": "code",
   "execution_count": 1,
   "metadata": {},
   "outputs": [
    {
     "name": "stderr",
     "output_type": "stream",
     "text": [
      "\u001b[32m\u001b[1m   Building\u001b[22m\u001b[39m MbedTLS → `~/.julia/packages/MbedTLS/a1JFn/deps/build.log`\n",
      "\u001b[32m\u001b[1m   Building\u001b[22m\u001b[39m WebIO ──→ `~/.julia/packages/WebIO/2nnB1/deps/build.log`\n"
     ]
    },
    {
     "data": {
      "text/html": [
       "<script>\n",
       "// Immediately-invoked-function-expression to avoid global variables.\n",
       "(function() {\n",
       "    var warning_div = document.getElementById(\"webio-warning-4117680547886788858\");\n",
       "    var hide = function () {\n",
       "        var script = document.getElementById(\"webio-setup-13388486926728579252\");\n",
       "        var parent = script && script.parentElement;\n",
       "        var grandparent = parent && parent.parentElement;\n",
       "        if (grandparent) {\n",
       "            grandparent.style.display = \"none\";\n",
       "        }\n",
       "        warning_div.style.display = \"none\";\n",
       "    };\n",
       "    if (typeof Jupyter !== \"undefined\") {\n",
       "        console.log(\"WebIO detected Jupyter notebook environment.\");\n",
       "        // Jupyter notebook.\n",
       "        var extensions = (\n",
       "            Jupyter\n",
       "            && Jupyter.notebook.config.data\n",
       "            && Jupyter.notebook.config.data.load_extensions\n",
       "        );\n",
       "        if (extensions && extensions[\"webio-jupyter-notebook\"]) {\n",
       "            // Extension already loaded.\n",
       "            console.log(\"Jupyter WebIO nbextension detected; not loading ad-hoc.\");\n",
       "            hide();\n",
       "            return;\n",
       "        }\n",
       "    } else if (window.location.pathname.includes(\"/lab\")) {\n",
       "        // Guessing JupyterLa\n",
       "        console.log(\"Jupyter Lab detected; make sure the @webio/jupyter-lab-provider labextension is installed.\");\n",
       "        hide();\n",
       "        return;\n",
       "    }\n",
       "})();\n",
       "\n",
       "</script>\n",
       "<p\n",
       "    id=\"webio-warning-4117680547886788858\"\n",
       "    class=\"output_text output_stderr\"\n",
       "    style=\"padding: 1em; font-weight: bold;\"\n",
       ">\n",
       "    Unable to load WebIO. Please make sure WebIO works for your Jupyter client.\n",
       "    For troubleshooting, please see <a href=\"https://juliagizmos.github.io/WebIO.jl/latest/providers/ijulia/\">\n",
       "    the WebIO/IJulia documentation</a>.\n",
       "    <!-- TODO: link to installation docs. -->\n",
       "</p>\n"
      ],
      "text/plain": [
       "HTML{String}(\"<script>\\n// Immediately-invoked-function-expression to avoid global variables.\\n(function() {\\n    var warning_div = document.getElementById(\\\"webio-warning-4117680547886788858\\\");\\n    var hide = function () {\\n        var script = document.getElementById(\\\"webio-setup-13388486926728579252\\\");\\n        var parent = script && script.parentElement;\\n        var grandparent = parent && parent.parentElement;\\n        if (grandparent) {\\n            grandparent.style.display = \\\"none\\\";\\n        }\\n        warning_div.style.display = \\\"none\\\";\\n    };\\n    if (typeof Jupyter !== \\\"undefined\\\") {\\n        console.log(\\\"WebIO detected Jupyter notebook environment.\\\");\\n        // Jupyter notebook.\\n        var extensions = (\\n            Jupyter\\n            && Jupyter.notebook.config.data\\n            && Jupyter.notebook.config.data.load_extensions\\n        );\\n        if (extensions && extensions[\\\"webio-jupyter-notebook\\\"]) {\\n            // Extension already loaded.\\n            console.log(\\\"Jupyter WebIO nbextension detected; not loading ad-hoc.\\\");\\n            hide();\\n            return;\\n        }\\n    } else if (window.location.pathname.includes(\\\"/lab\\\")) {\\n        // Guessing JupyterLa\\n        console.log(\\\"Jupyter Lab detected; make sure the @webio/jupyter-lab-provider labextension is installed.\\\");\\n        hide();\\n        return;\\n    }\\n})();\\n\\n</script>\\n<p\\n    id=\\\"webio-warning-4117680547886788858\\\"\\n    class=\\\"output_text output_stderr\\\"\\n    style=\\\"padding: 1em; font-weight: bold;\\\"\\n>\\n    Unable to load WebIO. Please make sure WebIO works for your Jupyter client.\\n    For troubleshooting, please see <a href=\\\"https://juliagizmos.github.io/WebIO.jl/latest/providers/ijulia/\\\">\\n    the WebIO/IJulia documentation</a>.\\n    <!-- TODO: link to installation docs. -->\\n</p>\\n\")"
      ]
     },
     "metadata": {},
     "output_type": "display_data"
    },
    {
     "name": "stderr",
     "output_type": "stream",
     "text": [
      "┌ Info: Installing Jupyter WebIO extension...\n",
      "│   cmd = `\u001b[4m/Library/Frameworks/Python.framework/Versions/3.8/bin/jupyter\u001b[24m \u001b[4mnbextension\u001b[24m \u001b[4minstall\u001b[24m \u001b[4m--user\u001b[24m \u001b[4m/Users/adrita/.julia/packages/WebIO/2nnB1/deps/bundles/webio-jupyter-notebook.js\u001b[24m`\n",
      "└ @ WebIO /Users/adrita/.julia/packages/WebIO/2nnB1/deps/jupyter.jl:237\n",
      "Up to date: /Users/adrita/Library/Jupyter/nbextensions/webio-jupyter-notebook.js\n",
      "\n",
      "    To initialize this nbextension in the browser every time the notebook (or other app) loads:\n",
      "    \n",
      "          jupyter nbextension enable <the entry point> --user\n",
      "    \n",
      "┌ Info: Enabling Jupyter WebIO extension...\n",
      "│   cmd = `\u001b[4m/Library/Frameworks/Python.framework/Versions/3.8/bin/jupyter\u001b[24m \u001b[4mnbextension\u001b[24m \u001b[4menable\u001b[24m \u001b[4m--user\u001b[24m \u001b[4mwebio-jupyter-notebook\u001b[24m`\n",
      "└ @ WebIO /Users/adrita/.julia/packages/WebIO/2nnB1/deps/jupyter.jl:241\n",
      "Enabling notebook extension webio-jupyter-notebook...\n",
      "      - Validating: \u001b[32mOK\u001b[0m\n"
     ]
    }
   ],
   "source": [
    "import Pkg; Pkg.build(\"WebIO\")\n",
    "using WebIO\n",
    "WebIO.install_jupyter_nbextension()"
   ]
  },
  {
   "cell_type": "code",
   "execution_count": 2,
   "metadata": {},
   "outputs": [],
   "source": [
    "using Makie\n",
    "using VideoIO\n",
    "try\n",
    "    VideoIO.viewcam()\n",
    "catch\n",
    "end"
   ]
  },
  {
   "cell_type": "code",
   "execution_count": 3,
   "metadata": {},
   "outputs": [
    {
     "ename": "UndefRefError",
     "evalue": "UndefRefError: access to undefined reference",
     "output_type": "error",
     "traceback": [
      "UndefRefError: access to undefined reference",
      "",
      "Stacktrace:",
      " [1] getproperty at ./Base.jl:33 [inlined]",
      " [2] getindex at ./refvalue.jl:32 [inlined]",
      " [3] opencamera() at /Users/adrita/.julia/packages/VideoIO/AZ2p0/src/avio.jl:673",
      " [4] top-level scope at In[3]:3"
     ]
    }
   ],
   "source": [
    "using Images\n",
    "using VideoIO\n",
    "cam = VideoIO.opencamera()\n",
    "try\n",
    "    while true\n",
    "        IJulia.clear_output(true)\n",
    "        display(read(cam))\n",
    "        sleep(1/cam.framerate)\n",
    "    end\n",
    "catch\n",
    "end\n",
    "close(cam)"
   ]
  },
  {
   "cell_type": "code",
   "execution_count": null,
   "metadata": {},
   "outputs": [],
   "source": []
  },
  {
   "cell_type": "code",
   "execution_count": null,
   "metadata": {},
   "outputs": [],
   "source": [
    "using VideoIO\n",
    "cam = VideoIO.opencamera()\n",
    "for i in 1:100\n",
    "    img = read(cam)\n",
    "    sleep(1/cam.framerate)\n",
    "end"
   ]
  },
  {
   "cell_type": "code",
   "execution_count": null,
   "metadata": {},
   "outputs": [],
   "source": [
    "using Makie\n",
    "using VideoIO\n",
    "VideoIO.viewcam()"
   ]
  }
 ],
 "metadata": {
  "@webio": {
   "lastCommId": null,
   "lastKernelId": null
  },
  "kernelspec": {
   "display_name": "Julia 1.4.0",
   "language": "julia",
   "name": "julia-1.4"
  },
  "language_info": {
   "file_extension": ".jl",
   "mimetype": "application/julia",
   "name": "julia",
   "version": "1.4.0"
  }
 },
 "nbformat": 4,
 "nbformat_minor": 2
}
