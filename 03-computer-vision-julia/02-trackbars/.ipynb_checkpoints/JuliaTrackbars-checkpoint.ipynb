{
 "cells": [
  {
   "cell_type": "code",
   "execution_count": null,
   "metadata": {},
   "outputs": [],
   "source": [
    "using Images, TestImages, Interact, Luxor"
   ]
  },
  {
   "cell_type": "code",
   "execution_count": null,
   "metadata": {},
   "outputs": [],
   "source": [
    "birdie = load(\"birdie.jpg\")"
   ]
  },
  {
   "cell_type": "code",
   "execution_count": null,
   "metadata": {},
   "outputs": [],
   "source": [
    "@manipulate for r in 0:0.01:1, g in 0:0.01:1, b in 0:0.01:1\n",
    "    widget(\n",
    "    @draw begin\n",
    "         setline(10)\n",
    "         sethue(r,g,b)\n",
    "         circle(Point(0,50), 100, :fill)\n",
    "    end)\n",
    "#     sleep(0.5)\n",
    "#     IJulia.clear_output(true)\n",
    "    \n",
    "end"
   ]
  },
  {
   "cell_type": "code",
   "execution_count": null,
   "metadata": {},
   "outputs": [],
   "source": [
    "using Interact\n",
    "using Plots\n",
    "pyplot()\n",
    "\n",
    "A = slider(1:1:100,value=50,label=\"A\");\n",
    "display.([A])\n",
    "foreach(signal(A)) do a\n",
    "    x = rand(a)\n",
    "    y = rand(a)\n",
    "    plot(x,y)\n",
    "end"
   ]
  },
  {
   "cell_type": "code",
   "execution_count": null,
   "metadata": {},
   "outputs": [],
   "source": []
  }
 ],
 "metadata": {
  "@webio": {
   "lastCommId": null,
   "lastKernelId": null
  },
  "kernelspec": {
   "display_name": "Julia 1.3.0",
   "language": "julia",
   "name": "julia-1.3"
  },
  "language_info": {
   "file_extension": ".jl",
   "mimetype": "application/julia",
   "name": "julia",
   "version": "1.3.0"
  }
 },
 "nbformat": 4,
 "nbformat_minor": 2
}
