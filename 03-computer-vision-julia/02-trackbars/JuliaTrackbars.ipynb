{
 "cells": [
  {
   "cell_type": "code",
   "execution_count": 3,
   "metadata": {},
   "outputs": [
    {
     "name": "stdout",
     "output_type": "stream",
     "text": [
      "\u001b[32m\u001b[1m Resolving\u001b[22m\u001b[39m package versions...\n",
      "\u001b[32m\u001b[1m  Updating\u001b[22m\u001b[39m `~/.julia/environments/v1.3/Project.toml`\n",
      "\u001b[90m [no changes]\u001b[39m\n",
      "\u001b[32m\u001b[1m  Updating\u001b[22m\u001b[39m `~/.julia/environments/v1.3/Manifest.toml`\n",
      "\u001b[90m [no changes]\u001b[39m\n"
     ]
    }
   ],
   "source": [
    "using Pkg\n",
    "Pkg.add(\"ProgressMeter\")"
   ]
  },
  {
   "cell_type": "code",
   "execution_count": 4,
   "metadata": {},
   "outputs": [
    {
     "name": "stderr",
     "output_type": "stream",
     "text": [
      "\u001b[32mYour first Trackbar...100%|█████████████████████████████| Time: 0:00:05\u001b[39m\n"
     ]
    }
   ],
   "source": [
    "using ProgressMeter\n",
    "\n",
    "@showprogress 1 \"Your first Trackbar...\" for i in 1:50\n",
    "    sleep(0.1)\n",
    "end"
   ]
  },
  {
   "cell_type": "code",
   "execution_count": 5,
   "metadata": {},
   "outputs": [
    {
     "name": "stdout",
     "output_type": "stream",
     "text": [
      "\u001b[32m\u001b[1m Resolving\u001b[22m\u001b[39m package versions...\n",
      "\u001b[32m\u001b[1m  Updating\u001b[22m\u001b[39m `~/.julia/environments/v1.3/Project.toml`\n",
      "\u001b[90m [no changes]\u001b[39m\n",
      "\u001b[32m\u001b[1m  Updating\u001b[22m\u001b[39m `~/.julia/environments/v1.3/Manifest.toml`\n",
      "\u001b[90m [no changes]\u001b[39m\n"
     ]
    }
   ],
   "source": [
    "import Pkg\n",
    "Pkg.add(\"WebIO\")"
   ]
  },
  {
   "cell_type": "code",
   "execution_count": 6,
   "metadata": {},
   "outputs": [
    {
     "data": {
      "text/html": [
       "<script>\n",
       "// Immediately-invoked-function-expression to avoid global variables.\n",
       "(function() {\n",
       "    var warning_div = document.getElementById(\"webio-warning-16412279789764480406\");\n",
       "    var hide = function () {\n",
       "        var script = document.getElementById(\"webio-setup-15818749572133731160\");\n",
       "        var parent = script && script.parentElement;\n",
       "        var grandparent = parent && parent.parentElement;\n",
       "        if (grandparent) {\n",
       "            grandparent.style.display = \"none\";\n",
       "        }\n",
       "        warning_div.style.display = \"none\";\n",
       "    };\n",
       "    if (typeof Jupyter !== \"undefined\") {\n",
       "        console.log(\"WebIO detected Jupyter notebook environment.\");\n",
       "        // Jupyter notebook.\n",
       "        var extensions = (\n",
       "            Jupyter\n",
       "            && Jupyter.notebook.config.data\n",
       "            && Jupyter.notebook.config.data.load_extensions\n",
       "        );\n",
       "        if (extensions && extensions[\"webio-jupyter-notebook\"]) {\n",
       "            // Extension already loaded.\n",
       "            console.log(\"Jupyter WebIO nbextension detected; not loading ad-hoc.\");\n",
       "            hide();\n",
       "            return;\n",
       "        }\n",
       "    } else if (window.location.pathname.includes(\"/lab\")) {\n",
       "        // Guessing JupyterLa\n",
       "        console.log(\"Jupyter Lab detected; make sure the @webio/jupyter-lab-provider labextension is installed.\");\n",
       "        hide();\n",
       "        return;\n",
       "    }\n",
       "})();\n",
       "\n",
       "</script>\n",
       "<p\n",
       "    id=\"webio-warning-16412279789764480406\"\n",
       "    class=\"output_text output_stderr\"\n",
       "    style=\"padding: 1em; font-weight: bold;\"\n",
       ">\n",
       "    Unable to load WebIO. Please make sure WebIO works for your Jupyter client.\n",
       "    For troubleshooting, please see <a href=\"https://juliagizmos.github.io/WebIO.jl/latest/providers/ijulia/\">\n",
       "    the WebIO/IJulia documentation</a>.\n",
       "    <!-- TODO: link to installation docs. -->\n",
       "</p>\n"
      ],
      "text/plain": [
       "HTML{String}(\"<script>\\n// Immediately-invoked-function-expression to avoid global variables.\\n(function() {\\n    var warning_div = document.getElementById(\\\"webio-warning-16412279789764480406\\\");\\n    var hide = function () {\\n        var script = document.getElementById(\\\"webio-setup-15818749572133731160\\\");\\n        var parent = script && script.parentElement;\\n        var grandparent = parent && parent.parentElement;\\n        if (grandparent) {\\n            grandparent.style.display = \\\"none\\\";\\n        }\\n        warning_div.style.display = \\\"none\\\";\\n    };\\n    if (typeof Jupyter !== \\\"undefined\\\") {\\n        console.log(\\\"WebIO detected Jupyter notebook environment.\\\");\\n        // Jupyter notebook.\\n        var extensions = (\\n            Jupyter\\n            && Jupyter.notebook.config.data\\n            && Jupyter.notebook.config.data.load_extensions\\n        );\\n        if (extensions && extensions[\\\"webio-jupyter-notebook\\\"]) {\\n            // Extension already loaded.\\n            console.log(\\\"Jupyter WebIO nbextension detected; not loading ad-hoc.\\\");\\n            hide();\\n            return;\\n        }\\n    } else if (window.location.pathname.includes(\\\"/lab\\\")) {\\n        // Guessing JupyterLa\\n        console.log(\\\"Jupyter Lab detected; make sure the @webio/jupyter-lab-provider labextension is installed.\\\");\\n        hide();\\n        return;\\n    }\\n})();\\n\\n</script>\\n<p\\n    id=\\\"webio-warning-16412279789764480406\\\"\\n    class=\\\"output_text output_stderr\\\"\\n    style=\\\"padding: 1em; font-weight: bold;\\\"\\n>\\n    Unable to load WebIO. Please make sure WebIO works for your Jupyter client.\\n    For troubleshooting, please see <a href=\\\"https://juliagizmos.github.io/WebIO.jl/latest/providers/ijulia/\\\">\\n    the WebIO/IJulia documentation</a>.\\n    <!-- TODO: link to installation docs. -->\\n</p>\\n\")"
      ]
     },
     "metadata": {},
     "output_type": "display_data"
    },
    {
     "name": "stderr",
     "output_type": "stream",
     "text": [
      "┌ Info: Installing Jupyter WebIO extension...\n",
      "│   cmd = `\u001b[4m/Users/adrita/opt/anaconda2/bin/jupyter\u001b[24m \u001b[4mnbextension\u001b[24m \u001b[4minstall\u001b[24m \u001b[4m--user\u001b[24m \u001b[4m/Users/adrita/.julia/packages/WebIO/2nnB1/deps/bundles/webio-jupyter-notebook.js\u001b[24m`\n",
      "└ @ WebIO /Users/adrita/.julia/packages/WebIO/2nnB1/deps/jupyter.jl:237\n",
      "Up to date: /Users/adrita/Library/Jupyter/nbextensions/webio-jupyter-notebook.js\n",
      "\n",
      "    To initialize this nbextension in the browser every time the notebook (or other app) loads:\n",
      "    \n",
      "          jupyter nbextension enable <the entry point> --user\n",
      "    \n",
      "┌ Info: Enabling Jupyter WebIO extension...\n",
      "│   cmd = `\u001b[4m/Users/adrita/opt/anaconda2/bin/jupyter\u001b[24m \u001b[4mnbextension\u001b[24m \u001b[4menable\u001b[24m \u001b[4m--user\u001b[24m \u001b[4mwebio-jupyter-notebook\u001b[24m`\n",
      "└ @ WebIO /Users/adrita/.julia/packages/WebIO/2nnB1/deps/jupyter.jl:241\n",
      "Enabling notebook extension webio-jupyter-notebook...\n",
      "      - Validating: \u001b[32mOK\u001b[0m\n"
     ]
    }
   ],
   "source": [
    "using WebIO\n",
    "WebIO.install_jupyter_nbextension()"
   ]
  },
  {
   "cell_type": "code",
   "execution_count": 9,
   "metadata": {},
   "outputs": [
    {
     "name": "stdout",
     "output_type": "stream",
     "text": [
      "\u001b[32m\u001b[1m Resolving\u001b[22m\u001b[39m package versions...\n",
      "\u001b[32m\u001b[1m  Updating\u001b[22m\u001b[39m `~/.julia/environments/v1.3/Project.toml`\n",
      " \u001b[90m [189a3867]\u001b[39m\u001b[92m + Reexport v0.2.0\u001b[39m\n",
      "\u001b[32m\u001b[1m  Updating\u001b[22m\u001b[39m `~/.julia/environments/v1.3/Manifest.toml`\n",
      "\u001b[90m [no changes]\u001b[39m\n"
     ]
    }
   ],
   "source": [
    "Pkg.add(\"Reexport\")"
   ]
  },
  {
   "cell_type": "code",
   "execution_count": 11,
   "metadata": {},
   "outputs": [
    {
     "name": "stdout",
     "output_type": "stream",
     "text": [
      "\u001b[32m\u001b[1m Resolving\u001b[22m\u001b[39m package versions...\n",
      "\u001b[32m\u001b[1m Installed\u001b[22m\u001b[39m JSExpr ─────── v0.5.1\n",
      "\u001b[32m\u001b[1m Installed\u001b[22m\u001b[39m CSSUtil ────── v0.1.0\n",
      "\u001b[32m\u001b[1m Installed\u001b[22m\u001b[39m Knockout ───── v0.2.3\n",
      "\u001b[32m\u001b[1m Installed\u001b[22m\u001b[39m InteractBase ─ v0.10.3\n",
      "\u001b[32m\u001b[1m  Updating\u001b[22m\u001b[39m `~/.julia/environments/v1.3/Project.toml`\n",
      " \u001b[90m [d3863d7c]\u001b[39m\u001b[92m + InteractBase v0.10.3\u001b[39m\n",
      "\u001b[32m\u001b[1m  Updating\u001b[22m\u001b[39m `~/.julia/environments/v1.3/Manifest.toml`\n",
      " \u001b[90m [70588ee8]\u001b[39m\u001b[92m + CSSUtil v0.1.0\u001b[39m\n",
      " \u001b[90m [d3863d7c]\u001b[39m\u001b[92m + InteractBase v0.10.3\u001b[39m\n",
      " \u001b[90m [97c1335a]\u001b[39m\u001b[92m + JSExpr v0.5.1\u001b[39m\n",
      " \u001b[90m [bcebb21b]\u001b[39m\u001b[92m + Knockout v0.2.3\u001b[39m\n",
      "\u001b[32m\u001b[1m  Building\u001b[22m\u001b[39m Knockout ────→ `~/.julia/packages/Knockout/1sDlc/deps/build.log`\n",
      "\u001b[32m\u001b[1m  Building\u001b[22m\u001b[39m InteractBase → `~/.julia/packages/InteractBase/9mFwe/deps/build.log`\n"
     ]
    }
   ],
   "source": [
    "Pkg.add(\"InteractBase\")"
   ]
  },
  {
   "cell_type": "code",
   "execution_count": 13,
   "metadata": {},
   "outputs": [
    {
     "name": "stdout",
     "output_type": "stream",
     "text": [
      "\u001b[32m\u001b[1m Resolving\u001b[22m\u001b[39m package versions...\n",
      "\u001b[32m\u001b[1m  Updating\u001b[22m\u001b[39m `~/.julia/environments/v1.3/Project.toml`\n",
      " \u001b[90m [cc8bc4a8]\u001b[39m\u001b[92m + Widgets v0.6.2\u001b[39m\n",
      "\u001b[32m\u001b[1m  Updating\u001b[22m\u001b[39m `~/.julia/environments/v1.3/Manifest.toml`\n",
      "\u001b[90m [no changes]\u001b[39m\n"
     ]
    }
   ],
   "source": [
    "Pkg.add(\"Widgets\")"
   ]
  },
  {
   "cell_type": "code",
   "execution_count": 15,
   "metadata": {},
   "outputs": [
    {
     "name": "stdout",
     "output_type": "stream",
     "text": [
      "\u001b[32m\u001b[1m Resolving\u001b[22m\u001b[39m package versions...\n",
      "\u001b[32m\u001b[1m  Updating\u001b[22m\u001b[39m `~/.julia/environments/v1.3/Project.toml`\n",
      " \u001b[90m [510215fc]\u001b[39m\u001b[92m + Observables v0.2.3\u001b[39m\n",
      "\u001b[32m\u001b[1m  Updating\u001b[22m\u001b[39m `~/.julia/environments/v1.3/Manifest.toml`\n",
      "\u001b[90m [no changes]\u001b[39m\n"
     ]
    }
   ],
   "source": [
    "Pkg.add(\"Observables\")"
   ]
  },
  {
   "cell_type": "code",
   "execution_count": 17,
   "metadata": {},
   "outputs": [
    {
     "name": "stdout",
     "output_type": "stream",
     "text": [
      "\u001b[32m\u001b[1m Resolving\u001b[22m\u001b[39m package versions...\n",
      "\u001b[32m\u001b[1m  Updating\u001b[22m\u001b[39m `~/.julia/environments/v1.3/Project.toml`\n",
      " \u001b[90m [bac558e1]\u001b[39m\u001b[92m + OrderedCollections v1.1.0\u001b[39m\n",
      "\u001b[32m\u001b[1m  Updating\u001b[22m\u001b[39m `~/.julia/environments/v1.3/Manifest.toml`\n",
      "\u001b[90m [no changes]\u001b[39m\n"
     ]
    }
   ],
   "source": [
    "Pkg.add(\"OrderedCollections\")"
   ]
  },
  {
   "cell_type": "code",
   "execution_count": 19,
   "metadata": {},
   "outputs": [
    {
     "name": "stdout",
     "output_type": "stream",
     "text": [
      "\u001b[32m\u001b[1m Resolving\u001b[22m\u001b[39m package versions...\n",
      "\u001b[32m\u001b[1m  Updating\u001b[22m\u001b[39m `~/.julia/environments/v1.3/Project.toml`\n",
      " \u001b[90m [bcebb21b]\u001b[39m\u001b[92m + Knockout v0.2.3\u001b[39m\n",
      "\u001b[32m\u001b[1m  Updating\u001b[22m\u001b[39m `~/.julia/environments/v1.3/Manifest.toml`\n",
      "\u001b[90m [no changes]\u001b[39m\n"
     ]
    }
   ],
   "source": [
    "Pkg.add(\"Knockout\")"
   ]
  },
  {
   "cell_type": "code",
   "execution_count": 21,
   "metadata": {},
   "outputs": [
    {
     "name": "stdout",
     "output_type": "stream",
     "text": [
      "\u001b[32m\u001b[1m Resolving\u001b[22m\u001b[39m package versions...\n",
      "\u001b[32m\u001b[1m  Updating\u001b[22m\u001b[39m `~/.julia/environments/v1.3/Project.toml`\n",
      " \u001b[90m [70588ee8]\u001b[39m\u001b[92m + CSSUtil v0.1.0\u001b[39m\n",
      "\u001b[32m\u001b[1m  Updating\u001b[22m\u001b[39m `~/.julia/environments/v1.3/Manifest.toml`\n",
      "\u001b[90m [no changes]\u001b[39m\n"
     ]
    }
   ],
   "source": [
    "Pkg.add(\"CSSUtil\")"
   ]
  },
  {
   "cell_type": "code",
   "execution_count": 22,
   "metadata": {},
   "outputs": [
    {
     "name": "stderr",
     "output_type": "stream",
     "text": [
      "WARNING: replacing module Interact.\n"
     ]
    },
    {
     "data": {
      "text/plain": [
       "Main.Interact"
      ]
     },
     "execution_count": 22,
     "metadata": {},
     "output_type": "execute_result"
    }
   ],
   "source": [
    "module Interact\n",
    "\n",
    "using Reexport\n",
    "\n",
    "@reexport using InteractBase\n",
    "import InteractBase: notifications\n",
    "import Widgets: Widget, @layout, @nodeps\n",
    "import Observables: @on, @map!, @map\n",
    "\n",
    "@reexport using OrderedCollections\n",
    "@reexport using Observables\n",
    "@reexport using Knockout\n",
    "@reexport using CSSUtil\n",
    "@reexport using WebIO\n",
    "@reexport using Widgets\n",
    "\n",
    "struct Bulma<:InteractBase.WidgetTheme; end\n",
    "\n",
    "const notebookdir = joinpath(@__DIR__, \"..\", \"doc\", \"notebooks\")\n",
    "\n",
    "const bulma_css = joinpath(@__DIR__, \"..\", \"assets\", \"bulma.min.css\")\n",
    "const bulma_confined_css = joinpath(@__DIR__, \"..\", \"assets\", \"bulma_confined.min.css\")\n",
    "\n",
    "function InteractBase.libraries(::Bulma)\n",
    "    bulmalib = InteractBase.isijulia() ? bulma_confined_css : bulma_css\n",
    "    vcat(InteractBase.font_awesome, InteractBase.style_css, bulmalib)\n",
    "end\n",
    "\n",
    "function __init__()\n",
    "    InteractBase.registertheme!(:bulma, Bulma())\n",
    "    settheme!(Bulma())\n",
    "    nothing\n",
    "end\n",
    "\n",
    "end"
   ]
  },
  {
   "cell_type": "code",
   "execution_count": 25,
   "metadata": {},
   "outputs": [
    {
     "name": "stdout",
     "output_type": "stream",
     "text": [
      "\u001b[32m\u001b[1m Resolving\u001b[22m\u001b[39m package versions...\n",
      "\u001b[32m\u001b[1m  Updating\u001b[22m\u001b[39m `~/.julia/environments/v1.3/Project.toml`\n",
      "\u001b[90m [no changes]\u001b[39m\n",
      "\u001b[32m\u001b[1m  Updating\u001b[22m\u001b[39m `~/.julia/environments/v1.3/Manifest.toml`\n",
      "\u001b[90m [no changes]\u001b[39m\n"
     ]
    }
   ],
   "source": [
    "Pkg.add(\"Interact\")"
   ]
  },
  {
   "cell_type": "code",
   "execution_count": 70,
   "metadata": {},
   "outputs": [
    {
     "data": {
      "application/vnd.webio.node+json": {
       "children": [
        {
         "children": [
          {
           "children": [
            {
             "children": [
              {
               "children": [
                {
                 "children": [
                  "nsamples"
                 ],
                 "instanceArgs": {
                  "namespace": "html",
                  "tag": "label"
                 },
                 "nodeType": "DOM",
                 "props": {
                  "className": "interact ",
                  "style": {
                   "padding": "5px 10px 0px 10px"
                  }
                 },
                 "type": "node"
                }
               ],
               "instanceArgs": {
                "namespace": "html",
                "tag": "div"
               },
               "nodeType": "DOM",
               "props": {
                "className": "interact-flex-row-left"
               },
               "type": "node"
              },
              {
               "children": [
                {
                 "children": [],
                 "instanceArgs": {
                  "namespace": "html",
                  "tag": "input"
                 },
                 "nodeType": "DOM",
                 "props": {
                  "attributes": {
                   "data-bind": "numericValue: index, valueUpdate: 'input', event: {change: function (){this.changes(this.changes()+1)}}",
                   "orient": "horizontal",
                   "type": "range"
                  },
                  "className": "slider slider is-fullwidth",
                  "max": 200,
                  "min": 1,
                  "step": 1,
                  "style": {}
                 },
                 "type": "node"
                }
               ],
               "instanceArgs": {
                "namespace": "html",
                "tag": "div"
               },
               "nodeType": "DOM",
               "props": {
                "className": "interact-flex-row-center"
               },
               "type": "node"
              },
              {
               "children": [
                {
                 "children": [],
                 "instanceArgs": {
                  "namespace": "html",
                  "tag": "p"
                 },
                 "nodeType": "DOM",
                 "props": {
                  "attributes": {
                   "data-bind": "text: formatted_val"
                  }
                 },
                 "type": "node"
                }
               ],
               "instanceArgs": {
                "namespace": "html",
                "tag": "div"
               },
               "nodeType": "DOM",
               "props": {
                "className": "interact-flex-row-right"
               },
               "type": "node"
              }
             ],
             "instanceArgs": {
              "namespace": "html",
              "tag": "div"
             },
             "nodeType": "DOM",
             "props": {
              "className": "interact-flex-row interact-widget"
             },
             "type": "node"
            }
           ],
           "instanceArgs": {
            "handlers": {
             "changes": [
              "(function (val){return (val!=this.model[\"changes\"]()) ? (this.valueFromJulia[\"changes\"]=true, this.model[\"changes\"](val)) : undefined})"
             ],
             "index": [
              "(function (val){return (val!=this.model[\"index\"]()) ? (this.valueFromJulia[\"index\"]=true, this.model[\"index\"](val)) : undefined})"
             ]
            },
            "id": "18259801315482872728",
            "imports": {
             "data": [
              {
               "name": "knockout",
               "type": "js",
               "url": "/assetserver/0e408749c48bdf320cff510588f31e1b0173133c-knockout.js"
              },
              {
               "name": "knockout_punches",
               "type": "js",
               "url": "/assetserver/a3a43557819f8cc1c4cea9496b4d4a77212507ee-knockout_punches.js"
              },
              {
               "name": null,
               "type": "js",
               "url": "/assetserver/945325143ba7fe2937cdb272fc55d17f63839e43-all.js"
              },
              {
               "name": null,
               "type": "css",
               "url": "/assetserver/7783c00ca61c9df17c8321cd19f354ef277da9b0-style.css"
              },
              {
               "name": null,
               "type": "css",
               "url": "/assetserver/b23615e7c1fa57d5c1e45c084590fb1d9bbd3c04-bulma_confined.min.css"
              }
             ],
             "type": "async_block"
            },
            "mount_callbacks": [
             "function () {\n    var handler = (function (ko, koPunches) {\n    ko.punches.enableAll();\n    ko.bindingHandlers.numericValue = {\n        init: function(element, valueAccessor, allBindings, data, context) {\n            var stringified = ko.observable(ko.unwrap(valueAccessor()));\n            stringified.subscribe(function(value) {\n                var val = parseFloat(value);\n                if (!isNaN(val)) {\n                    valueAccessor()(val);\n                }\n            });\n            valueAccessor().subscribe(function(value) {\n                var str = JSON.stringify(value);\n                if ((str == \"0\") && ([\"-0\", \"-0.\"].indexOf(stringified()) >= 0))\n                     return;\n                 if ([\"null\", \"\"].indexOf(str) >= 0)\n                     return;\n                stringified(str);\n            });\n            ko.applyBindingsToNode(\n                element,\n                {\n                    value: stringified,\n                    valueUpdate: allBindings.get('valueUpdate'),\n                },\n                context,\n            );\n        }\n    };\n    var json_data = {\"formatted_vals\":[\"1\",\"2\",\"3\",\"4\",\"5\",\"6\",\"7\",\"8\",\"9\",\"10\",\"11\",\"12\",\"13\",\"14\",\"15\",\"16\",\"17\",\"18\",\"19\",\"20\",\"21\",\"22\",\"23\",\"24\",\"25\",\"26\",\"27\",\"28\",\"29\",\"30\",\"31\",\"32\",\"33\",\"34\",\"35\",\"36\",\"37\",\"38\",\"39\",\"40\",\"41\",\"42\",\"43\",\"44\",\"45\",\"46\",\"47\",\"48\",\"49\",\"50\",\"51\",\"52\",\"53\",\"54\",\"55\",\"56\",\"57\",\"58\",\"59\",\"60\",\"61\",\"62\",\"63\",\"64\",\"65\",\"66\",\"67\",\"68\",\"69\",\"70\",\"71\",\"72\",\"73\",\"74\",\"75\",\"76\",\"77\",\"78\",\"79\",\"80\",\"81\",\"82\",\"83\",\"84\",\"85\",\"86\",\"87\",\"88\",\"89\",\"90\",\"91\",\"92\",\"93\",\"94\",\"95\",\"96\",\"97\",\"98\",\"99\",\"100\",\"101\",\"102\",\"103\",\"104\",\"105\",\"106\",\"107\",\"108\",\"109\",\"110\",\"111\",\"112\",\"113\",\"114\",\"115\",\"116\",\"117\",\"118\",\"119\",\"120\",\"121\",\"122\",\"123\",\"124\",\"125\",\"126\",\"127\",\"128\",\"129\",\"130\",\"131\",\"132\",\"133\",\"134\",\"135\",\"136\",\"137\",\"138\",\"139\",\"140\",\"141\",\"142\",\"143\",\"144\",\"145\",\"146\",\"147\",\"148\",\"149\",\"150\",\"151\",\"152\",\"153\",\"154\",\"155\",\"156\",\"157\",\"158\",\"159\",\"160\",\"161\",\"162\",\"163\",\"164\",\"165\",\"166\",\"167\",\"168\",\"169\",\"170\",\"171\",\"172\",\"173\",\"174\",\"175\",\"176\",\"177\",\"178\",\"179\",\"180\",\"181\",\"182\",\"183\",\"184\",\"185\",\"186\",\"187\",\"188\",\"189\",\"190\",\"191\",\"192\",\"193\",\"194\",\"195\",\"196\",\"197\",\"198\",\"199\",\"200\"],\"changes\":WebIO.getval({\"name\":\"changes\",\"scope\":\"18259801315482872728\",\"id\":\"ob_658\",\"type\":\"observable\"}),\"index\":WebIO.getval({\"name\":\"index\",\"scope\":\"18259801315482872728\",\"id\":\"ob_657\",\"type\":\"observable\"})};\n    var self = this;\n    function AppViewModel() {\n        for (var key in json_data) {\n            var el = json_data[key];\n            this[key] = Array.isArray(el) ? ko.observableArray(el) : ko.observable(el);\n        }\n        \n        [this[\"formatted_val\"]=ko.computed(    function(){\n        return this.formatted_vals()[parseInt(this.index())-(1)];\n    }\n,this)]\n        [this[\"changes\"].subscribe((function (val){!(this.valueFromJulia[\"changes\"]) ? (WebIO.setval({\"name\":\"changes\",\"scope\":\"18259801315482872728\",\"id\":\"ob_658\",\"type\":\"observable\"},val)) : undefined; return this.valueFromJulia[\"changes\"]=false}),self),this[\"index\"].subscribe((function (val){!(this.valueFromJulia[\"index\"]) ? (WebIO.setval({\"name\":\"index\",\"scope\":\"18259801315482872728\",\"id\":\"ob_657\",\"type\":\"observable\"},val)) : undefined; return this.valueFromJulia[\"index\"]=false}),self)]\n        \n    }\n    self.model = new AppViewModel();\n    self.valueFromJulia = {};\n    for (var key in json_data) {\n        self.valueFromJulia[key] = false;\n    }\n    ko.applyBindings(self.model, self.dom);\n}\n);\n    (WebIO.importBlock({\"data\":[{\"name\":\"knockout\",\"type\":\"js\",\"url\":\"/assetserver/0e408749c48bdf320cff510588f31e1b0173133c-knockout.js\"},{\"name\":\"knockout_punches\",\"type\":\"js\",\"url\":\"/assetserver/a3a43557819f8cc1c4cea9496b4d4a77212507ee-knockout_punches.js\"}],\"type\":\"async_block\"})).then((imports) => handler.apply(this, imports));\n}\n"
            ],
            "observables": {
             "changes": {
              "id": "ob_658",
              "sync": false,
              "value": 0
             },
             "index": {
              "id": "ob_657",
              "sync": true,
              "value": 100
             }
            },
            "systemjs_options": null
           },
           "nodeType": "Scope",
           "props": {},
           "type": "node"
          }
         ],
         "instanceArgs": {
          "namespace": "html",
          "tag": "div"
         },
         "nodeType": "DOM",
         "props": {
          "className": "field interact-widget"
         },
         "type": "node"
        },
        {
         "children": [
          {
           "children": [
            {
             "children": [
              {
               "children": [
                {
                 "children": [
                  "sample step"
                 ],
                 "instanceArgs": {
                  "namespace": "html",
                  "tag": "label"
                 },
                 "nodeType": "DOM",
                 "props": {
                  "className": "interact ",
                  "style": {
                   "padding": "5px 10px 0px 10px"
                  }
                 },
                 "type": "node"
                }
               ],
               "instanceArgs": {
                "namespace": "html",
                "tag": "div"
               },
               "nodeType": "DOM",
               "props": {
                "className": "interact-flex-row-left"
               },
               "type": "node"
              },
              {
               "children": [
                {
                 "children": [],
                 "instanceArgs": {
                  "namespace": "html",
                  "tag": "input"
                 },
                 "nodeType": "DOM",
                 "props": {
                  "attributes": {
                   "data-bind": "numericValue: index, valueUpdate: 'input', event: {change: function (){this.changes(this.changes()+1)}}",
                   "orient": "horizontal",
                   "type": "range"
                  },
                  "className": "slider slider is-fullwidth",
                  "max": 100,
                  "min": 1,
                  "step": 1,
                  "style": {}
                 },
                 "type": "node"
                }
               ],
               "instanceArgs": {
                "namespace": "html",
                "tag": "div"
               },
               "nodeType": "DOM",
               "props": {
                "className": "interact-flex-row-center"
               },
               "type": "node"
              },
              {
               "children": [
                {
                 "children": [],
                 "instanceArgs": {
                  "namespace": "html",
                  "tag": "p"
                 },
                 "nodeType": "DOM",
                 "props": {
                  "attributes": {
                   "data-bind": "text: formatted_val"
                  }
                 },
                 "type": "node"
                }
               ],
               "instanceArgs": {
                "namespace": "html",
                "tag": "div"
               },
               "nodeType": "DOM",
               "props": {
                "className": "interact-flex-row-right"
               },
               "type": "node"
              }
             ],
             "instanceArgs": {
              "namespace": "html",
              "tag": "div"
             },
             "nodeType": "DOM",
             "props": {
              "className": "interact-flex-row interact-widget"
             },
             "type": "node"
            }
           ],
           "instanceArgs": {
            "handlers": {
             "changes": [
              "(function (val){return (val!=this.model[\"changes\"]()) ? (this.valueFromJulia[\"changes\"]=true, this.model[\"changes\"](val)) : undefined})"
             ],
             "index": [
              "(function (val){return (val!=this.model[\"index\"]()) ? (this.valueFromJulia[\"index\"]=true, this.model[\"index\"](val)) : undefined})"
             ]
            },
            "id": "925122228397481237",
            "imports": {
             "data": [
              {
               "name": "knockout",
               "type": "js",
               "url": "/assetserver/0e408749c48bdf320cff510588f31e1b0173133c-knockout.js"
              },
              {
               "name": "knockout_punches",
               "type": "js",
               "url": "/assetserver/a3a43557819f8cc1c4cea9496b4d4a77212507ee-knockout_punches.js"
              },
              {
               "name": null,
               "type": "js",
               "url": "/assetserver/945325143ba7fe2937cdb272fc55d17f63839e43-all.js"
              },
              {
               "name": null,
               "type": "css",
               "url": "/assetserver/7783c00ca61c9df17c8321cd19f354ef277da9b0-style.css"
              },
              {
               "name": null,
               "type": "css",
               "url": "/assetserver/b23615e7c1fa57d5c1e45c084590fb1d9bbd3c04-bulma_confined.min.css"
              }
             ],
             "type": "async_block"
            },
            "mount_callbacks": [
             "function () {\n    var handler = (function (ko, koPunches) {\n    ko.punches.enableAll();\n    ko.bindingHandlers.numericValue = {\n        init: function(element, valueAccessor, allBindings, data, context) {\n            var stringified = ko.observable(ko.unwrap(valueAccessor()));\n            stringified.subscribe(function(value) {\n                var val = parseFloat(value);\n                if (!isNaN(val)) {\n                    valueAccessor()(val);\n                }\n            });\n            valueAccessor().subscribe(function(value) {\n                var str = JSON.stringify(value);\n                if ((str == \"0\") && ([\"-0\", \"-0.\"].indexOf(stringified()) >= 0))\n                     return;\n                 if ([\"null\", \"\"].indexOf(str) >= 0)\n                     return;\n                stringified(str);\n            });\n            ko.applyBindingsToNode(\n                element,\n                {\n                    value: stringified,\n                    valueUpdate: allBindings.get('valueUpdate'),\n                },\n                context,\n            );\n        }\n    };\n    var json_data = {\"formatted_vals\":[\"0.01\",\"0.02\",\"0.03\",\"0.04\",\"0.05\",\"0.06\",\"0.07\",\"0.08\",\"0.09\",\"0.1\",\"0.11\",\"0.12\",\"0.13\",\"0.14\",\"0.15\",\"0.16\",\"0.17\",\"0.18\",\"0.19\",\"0.2\",\"0.21\",\"0.22\",\"0.23\",\"0.24\",\"0.25\",\"0.26\",\"0.27\",\"0.28\",\"0.29\",\"0.3\",\"0.31\",\"0.32\",\"0.33\",\"0.34\",\"0.35\",\"0.36\",\"0.37\",\"0.38\",\"0.39\",\"0.4\",\"0.41\",\"0.42\",\"0.43\",\"0.44\",\"0.45\",\"0.46\",\"0.47\",\"0.48\",\"0.49\",\"0.5\",\"0.51\",\"0.52\",\"0.53\",\"0.54\",\"0.55\",\"0.56\",\"0.57\",\"0.58\",\"0.59\",\"0.6\",\"0.61\",\"0.62\",\"0.63\",\"0.64\",\"0.65\",\"0.66\",\"0.67\",\"0.68\",\"0.69\",\"0.7\",\"0.71\",\"0.72\",\"0.73\",\"0.74\",\"0.75\",\"0.76\",\"0.77\",\"0.78\",\"0.79\",\"0.8\",\"0.81\",\"0.82\",\"0.83\",\"0.84\",\"0.85\",\"0.86\",\"0.87\",\"0.88\",\"0.89\",\"0.9\",\"0.91\",\"0.92\",\"0.93\",\"0.94\",\"0.95\",\"0.96\",\"0.97\",\"0.98\",\"0.99\",\"1.0\"],\"changes\":WebIO.getval({\"name\":\"changes\",\"scope\":\"925122228397481237\",\"id\":\"ob_661\",\"type\":\"observable\"}),\"index\":WebIO.getval({\"name\":\"index\",\"scope\":\"925122228397481237\",\"id\":\"ob_660\",\"type\":\"observable\"})};\n    var self = this;\n    function AppViewModel() {\n        for (var key in json_data) {\n            var el = json_data[key];\n            this[key] = Array.isArray(el) ? ko.observableArray(el) : ko.observable(el);\n        }\n        \n        [this[\"formatted_val\"]=ko.computed(    function(){\n        return this.formatted_vals()[parseInt(this.index())-(1)];\n    }\n,this)]\n        [this[\"changes\"].subscribe((function (val){!(this.valueFromJulia[\"changes\"]) ? (WebIO.setval({\"name\":\"changes\",\"scope\":\"925122228397481237\",\"id\":\"ob_661\",\"type\":\"observable\"},val)) : undefined; return this.valueFromJulia[\"changes\"]=false}),self),this[\"index\"].subscribe((function (val){!(this.valueFromJulia[\"index\"]) ? (WebIO.setval({\"name\":\"index\",\"scope\":\"925122228397481237\",\"id\":\"ob_660\",\"type\":\"observable\"},val)) : undefined; return this.valueFromJulia[\"index\"]=false}),self)]\n        \n    }\n    self.model = new AppViewModel();\n    self.valueFromJulia = {};\n    for (var key in json_data) {\n        self.valueFromJulia[key] = false;\n    }\n    ko.applyBindings(self.model, self.dom);\n}\n);\n    (WebIO.importBlock({\"data\":[{\"name\":\"knockout\",\"type\":\"js\",\"url\":\"/assetserver/0e408749c48bdf320cff510588f31e1b0173133c-knockout.js\"},{\"name\":\"knockout_punches\",\"type\":\"js\",\"url\":\"/assetserver/a3a43557819f8cc1c4cea9496b4d4a77212507ee-knockout_punches.js\"}],\"type\":\"async_block\"})).then((imports) => handler.apply(this, imports));\n}\n"
            ],
            "observables": {
             "changes": {
              "id": "ob_661",
              "sync": false,
              "value": 0
             },
             "index": {
              "id": "ob_660",
              "sync": true,
              "value": 10
             }
            },
            "systemjs_options": null
           },
           "nodeType": "Scope",
           "props": {},
           "type": "node"
          }
         ],
         "instanceArgs": {
          "namespace": "html",
          "tag": "div"
         },
         "nodeType": "DOM",
         "props": {
          "className": "field interact-widget"
         },
         "type": "node"
        },
        {
         "children": [
          {
           "children": [
            {
             "children": [
              {
               "children": [
                {
                 "children": [
                  "phase"
                 ],
                 "instanceArgs": {
                  "namespace": "html",
                  "tag": "label"
                 },
                 "nodeType": "DOM",
                 "props": {
                  "className": "interact ",
                  "style": {
                   "padding": "5px 10px 0px 10px"
                  }
                 },
                 "type": "node"
                }
               ],
               "instanceArgs": {
                "namespace": "html",
                "tag": "div"
               },
               "nodeType": "DOM",
               "props": {
                "className": "interact-flex-row-left"
               },
               "type": "node"
              },
              {
               "children": [
                {
                 "children": [],
                 "instanceArgs": {
                  "namespace": "html",
                  "tag": "input"
                 },
                 "nodeType": "DOM",
                 "props": {
                  "attributes": {
                   "data-bind": "numericValue: index, valueUpdate: 'input', event: {change: function (){this.changes(this.changes()+1)}}",
                   "orient": "horizontal",
                   "type": "range"
                  },
                  "className": "slider slider is-fullwidth",
                  "max": 126,
                  "min": 1,
                  "step": 1,
                  "style": {}
                 },
                 "type": "node"
                }
               ],
               "instanceArgs": {
                "namespace": "html",
                "tag": "div"
               },
               "nodeType": "DOM",
               "props": {
                "className": "interact-flex-row-center"
               },
               "type": "node"
              },
              {
               "children": [
                {
                 "children": [],
                 "instanceArgs": {
                  "namespace": "html",
                  "tag": "p"
                 },
                 "nodeType": "DOM",
                 "props": {
                  "attributes": {
                   "data-bind": "text: formatted_val"
                  }
                 },
                 "type": "node"
                }
               ],
               "instanceArgs": {
                "namespace": "html",
                "tag": "div"
               },
               "nodeType": "DOM",
               "props": {
                "className": "interact-flex-row-right"
               },
               "type": "node"
              }
             ],
             "instanceArgs": {
              "namespace": "html",
              "tag": "div"
             },
             "nodeType": "DOM",
             "props": {
              "className": "interact-flex-row interact-widget"
             },
             "type": "node"
            }
           ],
           "instanceArgs": {
            "handlers": {
             "changes": [
              "(function (val){return (val!=this.model[\"changes\"]()) ? (this.valueFromJulia[\"changes\"]=true, this.model[\"changes\"](val)) : undefined})"
             ],
             "index": [
              "(function (val){return (val!=this.model[\"index\"]()) ? (this.valueFromJulia[\"index\"]=true, this.model[\"index\"](val)) : undefined})"
             ]
            },
            "id": "4373808426970057931",
            "imports": {
             "data": [
              {
               "name": "knockout",
               "type": "js",
               "url": "/assetserver/0e408749c48bdf320cff510588f31e1b0173133c-knockout.js"
              },
              {
               "name": "knockout_punches",
               "type": "js",
               "url": "/assetserver/a3a43557819f8cc1c4cea9496b4d4a77212507ee-knockout_punches.js"
              },
              {
               "name": null,
               "type": "js",
               "url": "/assetserver/945325143ba7fe2937cdb272fc55d17f63839e43-all.js"
              },
              {
               "name": null,
               "type": "css",
               "url": "/assetserver/7783c00ca61c9df17c8321cd19f354ef277da9b0-style.css"
              },
              {
               "name": null,
               "type": "css",
               "url": "/assetserver/b23615e7c1fa57d5c1e45c084590fb1d9bbd3c04-bulma_confined.min.css"
              }
             ],
             "type": "async_block"
            },
            "mount_callbacks": [
             "function () {\n    var handler = (function (ko, koPunches) {\n    ko.punches.enableAll();\n    ko.bindingHandlers.numericValue = {\n        init: function(element, valueAccessor, allBindings, data, context) {\n            var stringified = ko.observable(ko.unwrap(valueAccessor()));\n            stringified.subscribe(function(value) {\n                var val = parseFloat(value);\n                if (!isNaN(val)) {\n                    valueAccessor()(val);\n                }\n            });\n            valueAccessor().subscribe(function(value) {\n                var str = JSON.stringify(value);\n                if ((str == \"0\") && ([\"-0\", \"-0.\"].indexOf(stringified()) >= 0))\n                     return;\n                 if ([\"null\", \"\"].indexOf(str) >= 0)\n                     return;\n                stringified(str);\n            });\n            ko.applyBindingsToNode(\n                element,\n                {\n                    value: stringified,\n                    valueUpdate: allBindings.get('valueUpdate'),\n                },\n                context,\n            );\n        }\n    };\n    var json_data = {\"formatted_vals\":[\"0.0\",\"0.1\",\"0.2\",\"0.3\",\"0.4\",\"0.5\",\"0.6\",\"0.7\",\"0.8\",\"0.9\",\"1.0\",\"1.1\",\"1.2\",\"1.3\",\"1.4\",\"1.5\",\"1.6\",\"1.7\",\"1.8\",\"1.9\",\"2.0\",\"2.1\",\"2.2\",\"2.3\",\"2.4\",\"2.5\",\"2.6\",\"2.7\",\"2.8\",\"2.9\",\"3.0\",\"3.1\",\"3.2\",\"3.3\",\"3.4\",\"3.5\",\"3.6\",\"3.7\",\"3.8\",\"3.9\",\"4.0\",\"4.1\",\"4.2\",\"4.3\",\"4.4\",\"4.5\",\"4.6\",\"4.7\",\"4.8\",\"4.9\",\"5.0\",\"5.1\",\"5.2\",\"5.3\",\"5.4\",\"5.5\",\"5.6\",\"5.7\",\"5.8\",\"5.9\",\"6.0\",\"6.1\",\"6.2\",\"6.3\",\"6.4\",\"6.5\",\"6.6\",\"6.7\",\"6.8\",\"6.9\",\"7.0\",\"7.1\",\"7.2\",\"7.3\",\"7.4\",\"7.5\",\"7.6\",\"7.7\",\"7.8\",\"7.9\",\"8.0\",\"8.1\",\"8.2\",\"8.3\",\"8.4\",\"8.5\",\"8.6\",\"8.7\",\"8.8\",\"8.9\",\"9.0\",\"9.1\",\"9.2\",\"9.3\",\"9.4\",\"9.5\",\"9.6\",\"9.7\",\"9.8\",\"9.9\",\"10.0\",\"10.1\",\"10.2\",\"10.3\",\"10.4\",\"10.5\",\"10.6\",\"10.7\",\"10.8\",\"10.9\",\"11.0\",\"11.1\",\"11.2\",\"11.3\",\"11.4\",\"11.5\",\"11.6\",\"11.7\",\"11.8\",\"11.9\",\"12.0\",\"12.1\",\"12.2\",\"12.3\",\"12.4\",\"12.5\"],\"changes\":WebIO.getval({\"name\":\"changes\",\"scope\":\"4373808426970057931\",\"id\":\"ob_664\",\"type\":\"observable\"}),\"index\":WebIO.getval({\"name\":\"index\",\"scope\":\"4373808426970057931\",\"id\":\"ob_663\",\"type\":\"observable\"})};\n    var self = this;\n    function AppViewModel() {\n        for (var key in json_data) {\n            var el = json_data[key];\n            this[key] = Array.isArray(el) ? ko.observableArray(el) : ko.observable(el);\n        }\n        \n        [this[\"formatted_val\"]=ko.computed(    function(){\n        return this.formatted_vals()[parseInt(this.index())-(1)];\n    }\n,this)]\n        [this[\"changes\"].subscribe((function (val){!(this.valueFromJulia[\"changes\"]) ? (WebIO.setval({\"name\":\"changes\",\"scope\":\"4373808426970057931\",\"id\":\"ob_664\",\"type\":\"observable\"},val)) : undefined; return this.valueFromJulia[\"changes\"]=false}),self),this[\"index\"].subscribe((function (val){!(this.valueFromJulia[\"index\"]) ? (WebIO.setval({\"name\":\"index\",\"scope\":\"4373808426970057931\",\"id\":\"ob_663\",\"type\":\"observable\"},val)) : undefined; return this.valueFromJulia[\"index\"]=false}),self)]\n        \n    }\n    self.model = new AppViewModel();\n    self.valueFromJulia = {};\n    for (var key in json_data) {\n        self.valueFromJulia[key] = false;\n    }\n    ko.applyBindings(self.model, self.dom);\n}\n);\n    (WebIO.importBlock({\"data\":[{\"name\":\"knockout\",\"type\":\"js\",\"url\":\"/assetserver/0e408749c48bdf320cff510588f31e1b0173133c-knockout.js\"},{\"name\":\"knockout_punches\",\"type\":\"js\",\"url\":\"/assetserver/a3a43557819f8cc1c4cea9496b4d4a77212507ee-knockout_punches.js\"}],\"type\":\"async_block\"})).then((imports) => handler.apply(this, imports));\n}\n"
            ],
            "observables": {
             "changes": {
              "id": "ob_664",
              "sync": false,
              "value": 0
             },
             "index": {
              "id": "ob_663",
              "sync": true,
              "value": 3
             }
            },
            "systemjs_options": null
           },
           "nodeType": "Scope",
           "props": {},
           "type": "node"
          }
         ],
         "instanceArgs": {
          "namespace": "html",
          "tag": "div"
         },
         "nodeType": "DOM",
         "props": {
          "className": "field interact-widget"
         },
         "type": "node"
        },
        {
         "children": [
          {
           "children": [
            {
             "children": [
              {
               "children": [
                {
                 "children": [
                  "radii"
                 ],
                 "instanceArgs": {
                  "namespace": "html",
                  "tag": "label"
                 },
                 "nodeType": "DOM",
                 "props": {
                  "className": "interact ",
                  "style": {
                   "padding": "5px 10px 0px 10px"
                  }
                 },
                 "type": "node"
                }
               ],
               "instanceArgs": {
                "namespace": "html",
                "tag": "div"
               },
               "nodeType": "DOM",
               "props": {
                "className": "interact-flex-row-left"
               },
               "type": "node"
              },
              {
               "children": [
                {
                 "children": [],
                 "instanceArgs": {
                  "namespace": "html",
                  "tag": "input"
                 },
                 "nodeType": "DOM",
                 "props": {
                  "attributes": {
                   "data-bind": "numericValue: index, valueUpdate: 'input', event: {change: function (){this.changes(this.changes()+1)}}",
                   "orient": "horizontal",
                   "type": "range"
                  },
                  "className": "slider slider is-fullwidth",
                  "max": 600,
                  "min": 1,
                  "step": 1,
                  "style": {}
                 },
                 "type": "node"
                }
               ],
               "instanceArgs": {
                "namespace": "html",
                "tag": "div"
               },
               "nodeType": "DOM",
               "props": {
                "className": "interact-flex-row-center"
               },
               "type": "node"
              },
              {
               "children": [
                {
                 "children": [],
                 "instanceArgs": {
                  "namespace": "html",
                  "tag": "p"
                 },
                 "nodeType": "DOM",
                 "props": {
                  "attributes": {
                   "data-bind": "text: formatted_val"
                  }
                 },
                 "type": "node"
                }
               ],
               "instanceArgs": {
                "namespace": "html",
                "tag": "div"
               },
               "nodeType": "DOM",
               "props": {
                "className": "interact-flex-row-right"
               },
               "type": "node"
              }
             ],
             "instanceArgs": {
              "namespace": "html",
              "tag": "div"
             },
             "nodeType": "DOM",
             "props": {
              "className": "interact-flex-row interact-widget"
             },
             "type": "node"
            }
           ],
           "instanceArgs": {
            "handlers": {
             "changes": [
              "(function (val){return (val!=this.model[\"changes\"]()) ? (this.valueFromJulia[\"changes\"]=true, this.model[\"changes\"](val)) : undefined})"
             ],
             "index": [
              "(function (val){return (val!=this.model[\"index\"]()) ? (this.valueFromJulia[\"index\"]=true, this.model[\"index\"](val)) : undefined})"
             ]
            },
            "id": "6020341609470193544",
            "imports": {
             "data": [
              {
               "name": "knockout",
               "type": "js",
               "url": "/assetserver/0e408749c48bdf320cff510588f31e1b0173133c-knockout.js"
              },
              {
               "name": "knockout_punches",
               "type": "js",
               "url": "/assetserver/a3a43557819f8cc1c4cea9496b4d4a77212507ee-knockout_punches.js"
              },
              {
               "name": null,
               "type": "js",
               "url": "/assetserver/945325143ba7fe2937cdb272fc55d17f63839e43-all.js"
              },
              {
               "name": null,
               "type": "css",
               "url": "/assetserver/7783c00ca61c9df17c8321cd19f354ef277da9b0-style.css"
              },
              {
               "name": null,
               "type": "css",
               "url": "/assetserver/b23615e7c1fa57d5c1e45c084590fb1d9bbd3c04-bulma_confined.min.css"
              }
             ],
             "type": "async_block"
            },
            "mount_callbacks": [
             "function () {\n    var handler = (function (ko, koPunches) {\n    ko.punches.enableAll();\n    ko.bindingHandlers.numericValue = {\n        init: function(element, valueAccessor, allBindings, data, context) {\n            var stringified = ko.observable(ko.unwrap(valueAccessor()));\n            stringified.subscribe(function(value) {\n                var val = parseFloat(value);\n                if (!isNaN(val)) {\n                    valueAccessor()(val);\n                }\n            });\n            valueAccessor().subscribe(function(value) {\n                var str = JSON.stringify(value);\n                if ((str == \"0\") && ([\"-0\", \"-0.\"].indexOf(stringified()) >= 0))\n                     return;\n                 if ([\"null\", \"\"].indexOf(str) >= 0)\n                     return;\n                stringified(str);\n            });\n            ko.applyBindingsToNode(\n                element,\n                {\n                    value: stringified,\n                    valueUpdate: allBindings.get('valueUpdate'),\n                },\n                context,\n            );\n        }\n    };\n    var json_data = {\"formatted_vals\":[\"0.1\",\"0.2\",\"0.3\",\"0.4\",\"0.5\",\"0.6\",\"0.7\",\"0.8\",\"0.9\",\"1.0\",\"1.1\",\"1.2\",\"1.3\",\"1.4\",\"1.5\",\"1.6\",\"1.7\",\"1.8\",\"1.9\",\"2.0\",\"2.1\",\"2.2\",\"2.3\",\"2.4\",\"2.5\",\"2.6\",\"2.7\",\"2.8\",\"2.9\",\"3.0\",\"3.1\",\"3.2\",\"3.3\",\"3.4\",\"3.5\",\"3.6\",\"3.7\",\"3.8\",\"3.9\",\"4.0\",\"4.1\",\"4.2\",\"4.3\",\"4.4\",\"4.5\",\"4.6\",\"4.7\",\"4.8\",\"4.9\",\"5.0\",\"5.1\",\"5.2\",\"5.3\",\"5.4\",\"5.5\",\"5.6\",\"5.7\",\"5.8\",\"5.9\",\"6.0\",\"6.1\",\"6.2\",\"6.3\",\"6.4\",\"6.5\",\"6.6\",\"6.7\",\"6.8\",\"6.9\",\"7.0\",\"7.1\",\"7.2\",\"7.3\",\"7.4\",\"7.5\",\"7.6\",\"7.7\",\"7.8\",\"7.9\",\"8.0\",\"8.1\",\"8.2\",\"8.3\",\"8.4\",\"8.5\",\"8.6\",\"8.7\",\"8.8\",\"8.9\",\"9.0\",\"9.1\",\"9.2\",\"9.3\",\"9.4\",\"9.5\",\"9.6\",\"9.7\",\"9.8\",\"9.9\",\"10.0\",\"10.1\",\"10.2\",\"10.3\",\"10.4\",\"10.5\",\"10.6\",\"10.7\",\"10.8\",\"10.9\",\"11.0\",\"11.1\",\"11.2\",\"11.3\",\"11.4\",\"11.5\",\"11.6\",\"11.7\",\"11.8\",\"11.9\",\"12.0\",\"12.1\",\"12.2\",\"12.3\",\"12.4\",\"12.5\",\"12.6\",\"12.7\",\"12.8\",\"12.9\",\"13.0\",\"13.1\",\"13.2\",\"13.3\",\"13.4\",\"13.5\",\"13.6\",\"13.7\",\"13.8\",\"13.9\",\"14.0\",\"14.1\",\"14.2\",\"14.3\",\"14.4\",\"14.5\",\"14.6\",\"14.7\",\"14.8\",\"14.9\",\"15.0\",\"15.1\",\"15.2\",\"15.3\",\"15.4\",\"15.5\",\"15.6\",\"15.7\",\"15.8\",\"15.9\",\"16.0\",\"16.1\",\"16.2\",\"16.3\",\"16.4\",\"16.5\",\"16.6\",\"16.7\",\"16.8\",\"16.9\",\"17.0\",\"17.1\",\"17.2\",\"17.3\",\"17.4\",\"17.5\",\"17.6\",\"17.7\",\"17.8\",\"17.9\",\"18.0\",\"18.1\",\"18.2\",\"18.3\",\"18.4\",\"18.5\",\"18.6\",\"18.7\",\"18.8\",\"18.9\",\"19.0\",\"19.1\",\"19.2\",\"19.3\",\"19.4\",\"19.5\",\"19.6\",\"19.7\",\"19.8\",\"19.9\",\"20.0\",\"20.1\",\"20.2\",\"20.3\",\"20.4\",\"20.5\",\"20.6\",\"20.7\",\"20.8\",\"20.9\",\"21.0\",\"21.1\",\"21.2\",\"21.3\",\"21.4\",\"21.5\",\"21.6\",\"21.7\",\"21.8\",\"21.9\",\"22.0\",\"22.1\",\"22.2\",\"22.3\",\"22.4\",\"22.5\",\"22.6\",\"22.7\",\"22.8\",\"22.9\",\"23.0\",\"23.1\",\"23.2\",\"23.3\",\"23.4\",\"23.5\",\"23.6\",\"23.7\",\"23.8\",\"23.9\",\"24.0\",\"24.1\",\"24.2\",\"24.3\",\"24.4\",\"24.5\",\"24.6\",\"24.7\",\"24.8\",\"24.9\",\"25.0\",\"25.1\",\"25.2\",\"25.3\",\"25.4\",\"25.5\",\"25.6\",\"25.7\",\"25.8\",\"25.9\",\"26.0\",\"26.1\",\"26.2\",\"26.3\",\"26.4\",\"26.5\",\"26.6\",\"26.7\",\"26.8\",\"26.9\",\"27.0\",\"27.1\",\"27.2\",\"27.3\",\"27.4\",\"27.5\",\"27.6\",\"27.7\",\"27.8\",\"27.9\",\"28.0\",\"28.1\",\"28.2\",\"28.3\",\"28.4\",\"28.5\",\"28.6\",\"28.7\",\"28.8\",\"28.9\",\"29.0\",\"29.1\",\"29.2\",\"29.3\",\"29.4\",\"29.5\",\"29.6\",\"29.7\",\"29.8\",\"29.9\",\"30.0\",\"30.1\",\"30.2\",\"30.3\",\"30.4\",\"30.5\",\"30.6\",\"30.7\",\"30.8\",\"30.9\",\"31.0\",\"31.1\",\"31.2\",\"31.3\",\"31.4\",\"31.5\",\"31.6\",\"31.7\",\"31.8\",\"31.9\",\"32.0\",\"32.1\",\"32.2\",\"32.3\",\"32.4\",\"32.5\",\"32.6\",\"32.7\",\"32.8\",\"32.9\",\"33.0\",\"33.1\",\"33.2\",\"33.3\",\"33.4\",\"33.5\",\"33.6\",\"33.7\",\"33.8\",\"33.9\",\"34.0\",\"34.1\",\"34.2\",\"34.3\",\"34.4\",\"34.5\",\"34.6\",\"34.7\",\"34.8\",\"34.9\",\"35.0\",\"35.1\",\"35.2\",\"35.3\",\"35.4\",\"35.5\",\"35.6\",\"35.7\",\"35.8\",\"35.9\",\"36.0\",\"36.1\",\"36.2\",\"36.3\",\"36.4\",\"36.5\",\"36.6\",\"36.7\",\"36.8\",\"36.9\",\"37.0\",\"37.1\",\"37.2\",\"37.3\",\"37.4\",\"37.5\",\"37.6\",\"37.7\",\"37.8\",\"37.9\",\"38.0\",\"38.1\",\"38.2\",\"38.3\",\"38.4\",\"38.5\",\"38.6\",\"38.7\",\"38.8\",\"38.9\",\"39.0\",\"39.1\",\"39.2\",\"39.3\",\"39.4\",\"39.5\",\"39.6\",\"39.7\",\"39.8\",\"39.9\",\"40.0\",\"40.1\",\"40.2\",\"40.3\",\"40.4\",\"40.5\",\"40.6\",\"40.7\",\"40.8\",\"40.9\",\"41.0\",\"41.1\",\"41.2\",\"41.3\",\"41.4\",\"41.5\",\"41.6\",\"41.7\",\"41.8\",\"41.9\",\"42.0\",\"42.1\",\"42.2\",\"42.3\",\"42.4\",\"42.5\",\"42.6\",\"42.7\",\"42.8\",\"42.9\",\"43.0\",\"43.1\",\"43.2\",\"43.3\",\"43.4\",\"43.5\",\"43.6\",\"43.7\",\"43.8\",\"43.9\",\"44.0\",\"44.1\",\"44.2\",\"44.3\",\"44.4\",\"44.5\",\"44.6\",\"44.7\",\"44.8\",\"44.9\",\"45.0\",\"45.1\",\"45.2\",\"45.3\",\"45.4\",\"45.5\",\"45.6\",\"45.7\",\"45.8\",\"45.9\",\"46.0\",\"46.1\",\"46.2\",\"46.3\",\"46.4\",\"46.5\",\"46.6\",\"46.7\",\"46.8\",\"46.9\",\"47.0\",\"47.1\",\"47.2\",\"47.3\",\"47.4\",\"47.5\",\"47.6\",\"47.7\",\"47.8\",\"47.9\",\"48.0\",\"48.1\",\"48.2\",\"48.3\",\"48.4\",\"48.5\",\"48.6\",\"48.7\",\"48.8\",\"48.9\",\"49.0\",\"49.1\",\"49.2\",\"49.3\",\"49.4\",\"49.5\",\"49.6\",\"49.7\",\"49.8\",\"49.9\",\"50.0\",\"50.1\",\"50.2\",\"50.3\",\"50.4\",\"50.5\",\"50.6\",\"50.7\",\"50.8\",\"50.9\",\"51.0\",\"51.1\",\"51.2\",\"51.3\",\"51.4\",\"51.5\",\"51.6\",\"51.7\",\"51.8\",\"51.9\",\"52.0\",\"52.1\",\"52.2\",\"52.3\",\"52.4\",\"52.5\",\"52.6\",\"52.7\",\"52.8\",\"52.9\",\"53.0\",\"53.1\",\"53.2\",\"53.3\",\"53.4\",\"53.5\",\"53.6\",\"53.7\",\"53.8\",\"53.9\",\"54.0\",\"54.1\",\"54.2\",\"54.3\",\"54.4\",\"54.5\",\"54.6\",\"54.7\",\"54.8\",\"54.9\",\"55.0\",\"55.1\",\"55.2\",\"55.3\",\"55.4\",\"55.5\",\"55.6\",\"55.7\",\"55.8\",\"55.9\",\"56.0\",\"56.1\",\"56.2\",\"56.3\",\"56.4\",\"56.5\",\"56.6\",\"56.7\",\"56.8\",\"56.9\",\"57.0\",\"57.1\",\"57.2\",\"57.3\",\"57.4\",\"57.5\",\"57.6\",\"57.7\",\"57.8\",\"57.9\",\"58.0\",\"58.1\",\"58.2\",\"58.3\",\"58.4\",\"58.5\",\"58.6\",\"58.7\",\"58.8\",\"58.9\",\"59.0\",\"59.1\",\"59.2\",\"59.3\",\"59.4\",\"59.5\",\"59.6\",\"59.7\",\"59.8\",\"59.9\",\"60.0\"],\"changes\":WebIO.getval({\"name\":\"changes\",\"scope\":\"6020341609470193544\",\"id\":\"ob_667\",\"type\":\"observable\"}),\"index\":WebIO.getval({\"name\":\"index\",\"scope\":\"6020341609470193544\",\"id\":\"ob_666\",\"type\":\"observable\"})};\n    var self = this;\n    function AppViewModel() {\n        for (var key in json_data) {\n            var el = json_data[key];\n            this[key] = Array.isArray(el) ? ko.observableArray(el) : ko.observable(el);\n        }\n        \n        [this[\"formatted_val\"]=ko.computed(    function(){\n        return this.formatted_vals()[parseInt(this.index())-(1)];\n    }\n,this)]\n        [this[\"changes\"].subscribe((function (val){!(this.valueFromJulia[\"changes\"]) ? (WebIO.setval({\"name\":\"changes\",\"scope\":\"6020341609470193544\",\"id\":\"ob_667\",\"type\":\"observable\"},val)) : undefined; return this.valueFromJulia[\"changes\"]=false}),self),this[\"index\"].subscribe((function (val){!(this.valueFromJulia[\"index\"]) ? (WebIO.setval({\"name\":\"index\",\"scope\":\"6020341609470193544\",\"id\":\"ob_666\",\"type\":\"observable\"},val)) : undefined; return this.valueFromJulia[\"index\"]=false}),self)]\n        \n    }\n    self.model = new AppViewModel();\n    self.valueFromJulia = {};\n    for (var key in json_data) {\n        self.valueFromJulia[key] = false;\n    }\n    ko.applyBindings(self.model, self.dom);\n}\n);\n    (WebIO.importBlock({\"data\":[{\"name\":\"knockout\",\"type\":\"js\",\"url\":\"/assetserver/0e408749c48bdf320cff510588f31e1b0173133c-knockout.js\"},{\"name\":\"knockout_punches\",\"type\":\"js\",\"url\":\"/assetserver/a3a43557819f8cc1c4cea9496b4d4a77212507ee-knockout_punches.js\"}],\"type\":\"async_block\"})).then((imports) => handler.apply(this, imports));\n}\n"
            ],
            "observables": {
             "changes": {
              "id": "ob_667",
              "sync": false,
              "value": 0
             },
             "index": {
              "id": "ob_666",
              "sync": true,
              "value": 300
             }
            },
            "systemjs_options": null
           },
           "nodeType": "Scope",
           "props": {},
           "type": "node"
          }
         ],
         "instanceArgs": {
          "namespace": "html",
          "tag": "div"
         },
         "nodeType": "DOM",
         "props": {
          "className": "field interact-widget"
         },
         "type": "node"
        },
        {
         "children": [
          {
           "children": [],
           "instanceArgs": {
            "id": "ob_673",
            "name": "obs-node"
           },
           "nodeType": "ObservableNode",
           "props": {},
           "type": "node"
          }
         ],
         "instanceArgs": {
          "handlers": {},
          "id": "13513283204660170210",
          "imports": {
           "data": [],
           "type": "async_block"
          },
          "mount_callbacks": [],
          "observables": {
           "obs-node": {
            "id": "ob_673",
            "sync": false,
            "value": {
             "children": [
              {
               "children": [
                {
                 "children": [],
                 "instanceArgs": {
                  "namespace": "svg",
                  "tag": "circle"
                 },
                 "nodeType": "DOM",
                 "props": {
                  "attributes": {
                   "cx": "16.711269024649013",
                   "cy": "179.55202066613396",
                   "fill": "gray",
                   "r": "30.0"
                  }
                 },
                 "type": "node"
                },
                {
                 "children": [],
                 "instanceArgs": {
                  "namespace": "svg",
                  "tag": "circle"
                 },
                 "nodeType": "DOM",
                 "props": {
                  "attributes": {
                   "cx": "22.281692032865347",
                   "cy": "188.94183423086506",
                   "fill": "silver",
                   "r": "30.0"
                  }
                 },
                 "type": "node"
                },
                {
                 "children": [],
                 "instanceArgs": {
                  "namespace": "svg",
                  "tag": "circle"
                 },
                 "nodeType": "DOM",
                 "props": {
                  "attributes": {
                   "cx": "27.852115041081685",
                   "cy": "197.9425538604203",
                   "fill": "maroon",
                   "r": "30.0"
                  }
                 },
                 "type": "node"
                },
                {
                 "children": [],
                 "instanceArgs": {
                  "namespace": "svg",
                  "tag": "circle"
                 },
                 "nodeType": "DOM",
                 "props": {
                  "attributes": {
                   "cx": "33.422538049298026",
                   "cy": "206.46424733950354",
                   "fill": "red",
                   "r": "30.0"
                  }
                 },
                 "type": "node"
                },
                {
                 "children": [],
                 "instanceArgs": {
                  "namespace": "svg",
                  "tag": "circle"
                 },
                 "nodeType": "DOM",
                 "props": {
                  "attributes": {
                   "cx": "38.99296105751436",
                   "cy": "214.4217687237691",
                   "fill": "olive",
                   "r": "30.0"
                  }
                 },
                 "type": "node"
                },
                {
                 "children": [],
                 "instanceArgs": {
                  "namespace": "svg",
                  "tag": "circle"
                 },
                 "nodeType": "DOM",
                 "props": {
                  "attributes": {
                   "cx": "44.563384065730695",
                   "cy": "221.73560908995228",
                   "fill": "yellow",
                   "r": "30.0"
                  }
                 },
                 "type": "node"
                },
                {
                 "children": [],
                 "instanceArgs": {
                  "namespace": "svg",
                  "tag": "circle"
                 },
                 "nodeType": "DOM",
                 "props": {
                  "attributes": {
                   "cx": "50.13380707394704",
                   "cy": "228.33269096274836",
                   "fill": "green",
                   "r": "30.0"
                  }
                 },
                 "type": "node"
                },
                {
                 "children": [],
                 "instanceArgs": {
                  "namespace": "svg",
                  "tag": "circle"
                 },
                 "nodeType": "DOM",
                 "props": {
                  "attributes": {
                   "cx": "55.70423008216337",
                   "cy": "234.14709848078965",
                   "fill": "lime",
                   "r": "30.0"
                  }
                 },
                 "type": "node"
                },
                {
                 "children": [],
                 "instanceArgs": {
                  "namespace": "svg",
                  "tag": "circle"
                 },
                 "nodeType": "DOM",
                 "props": {
                  "attributes": {
                   "cx": "61.274653090379715",
                   "cy": "239.12073600614355",
                   "fill": "teal",
                   "r": "30.0"
                  }
                 },
                 "type": "node"
                },
                {
                 "children": [],
                 "instanceArgs": {
                  "namespace": "svg",
                  "tag": "circle"
                 },
                 "nodeType": "DOM",
                 "props": {
                  "attributes": {
                   "cx": "66.84507609859604",
                   "cy": "243.2039085967226",
                   "fill": "aqua",
                   "r": "30.0"
                  }
                 },
                 "type": "node"
                },
                {
                 "children": [],
                 "instanceArgs": {
                  "namespace": "svg",
                  "tag": "circle"
                 },
                 "nodeType": "DOM",
                 "props": {
                  "attributes": {
                   "cx": "72.41549910681238",
                   "cy": "246.35581854171932",
                   "fill": "navy",
                   "r": "30.0"
                  }
                 },
                 "type": "node"
                },
                {
                 "children": [],
                 "instanceArgs": {
                  "namespace": "svg",
                  "tag": "circle"
                 },
                 "nodeType": "DOM",
                 "props": {
                  "attributes": {
                   "cx": "77.98592211502873",
                   "cy": "248.54497299884605",
                   "fill": "blue",
                   "r": "30.0"
                  }
                 },
                 "type": "node"
                },
                {
                 "children": [],
                 "instanceArgs": {
                  "namespace": "svg",
                  "tag": "circle"
                 },
                 "nodeType": "DOM",
                 "props": {
                  "attributes": {
                   "cx": "83.55634512324505",
                   "cy": "249.74949866040544",
                   "fill": "purple",
                   "r": "30.0"
                  }
                 },
                 "type": "node"
                },
                {
                 "children": [],
                 "instanceArgs": {
                  "namespace": "svg",
                  "tag": "circle"
                 },
                 "nodeType": "DOM",
                 "props": {
                  "attributes": {
                   "cx": "89.12676813146139",
                   "cy": "249.95736030415048",
                   "fill": "fuchsia",
                   "r": "30.0"
                  }
                 },
                 "type": "node"
                },
                {
                 "children": [],
                 "instanceArgs": {
                  "namespace": "svg",
                  "tag": "circle"
                 },
                 "nodeType": "DOM",
                 "props": {
                  "attributes": {
                   "cx": "94.69719113967773",
                   "cy": "249.16648104524688",
                   "fill": "black",
                   "r": "30.0"
                  }
                 },
                 "type": "node"
                },
                {
                 "children": [],
                 "instanceArgs": {
                  "namespace": "svg",
                  "tag": "circle"
                 },
                 "nodeType": "DOM",
                 "props": {
                  "attributes": {
                   "cx": "100.26761414789407",
                   "cy": "247.38476308781952",
                   "fill": "gray",
                   "r": "30.0"
                  }
                 },
                 "type": "node"
                },
                {
                 "children": [],
                 "instanceArgs": {
                  "namespace": "svg",
                  "tag": "circle"
                 },
                 "nodeType": "DOM",
                 "props": {
                  "attributes": {
                   "cx": "105.8380371561104",
                   "cy": "244.63000876874145",
                   "fill": "silver",
                   "r": "30.0"
                  }
                 },
                 "type": "node"
                },
                {
                 "children": [],
                 "instanceArgs": {
                  "namespace": "svg",
                  "tag": "circle"
                 },
                 "nodeType": "DOM",
                 "props": {
                  "attributes": {
                   "cx": "111.40846016432674",
                   "cy": "240.9297426825682",
                   "fill": "maroon",
                   "r": "30.0"
                  }
                 },
                 "type": "node"
                },
                {
                 "children": [],
                 "instanceArgs": {
                  "namespace": "svg",
                  "tag": "circle"
                 },
                 "nodeType": "DOM",
                 "props": {
                  "attributes": {
                   "cx": "116.97888317254308",
                   "cy": "236.32093666488737",
                   "fill": "red",
                   "r": "30.0"
                  }
                 },
                 "type": "node"
                },
                {
                 "children": [],
                 "instanceArgs": {
                  "namespace": "svg",
                  "tag": "circle"
                 },
                 "nodeType": "DOM",
                 "props": {
                  "attributes": {
                   "cx": "122.54930618075943",
                   "cy": "230.849640381959",
                   "fill": "olive",
                   "r": "30.0"
                  }
                 },
                 "type": "node"
                },
                {
                 "children": [],
                 "instanceArgs": {
                  "namespace": "svg",
                  "tag": "circle"
                 },
                 "nodeType": "DOM",
                 "props": {
                  "attributes": {
                   "cx": "128.11972918897578",
                   "cy": "224.57052121767202",
                   "fill": "yellow",
                   "r": "30.0"
                  }
                 },
                 "type": "node"
                },
                {
                 "children": [],
                 "instanceArgs": {
                  "namespace": "svg",
                  "tag": "circle"
                 },
                 "nodeType": "DOM",
                 "props": {
                  "attributes": {
                   "cx": "133.6901521971921",
                   "cy": "217.54631805511508",
                   "fill": "green",
                   "r": "30.0"
                  }
                 },
                 "type": "node"
                },
                {
                 "children": [],
                 "instanceArgs": {
                  "namespace": "svg",
                  "tag": "circle"
                 },
                 "nodeType": "DOM",
                 "props": {
                  "attributes": {
                   "cx": "139.26057520540843",
                   "cy": "209.84721441039562",
                   "fill": "lime",
                   "r": "30.0"
                  }
                 },
                 "type": "node"
                },
                {
                 "children": [],
                 "instanceArgs": {
                  "namespace": "svg",
                  "tag": "circle"
                 },
                 "nodeType": "DOM",
                 "props": {
                  "attributes": {
                   "cx": "144.8309982136248",
                   "cy": "201.5501371821464",
                   "fill": "teal",
                   "r": "30.0"
                  }
                 },
                 "type": "node"
                },
                {
                 "children": [],
                 "instanceArgs": {
                  "namespace": "svg",
                  "tag": "circle"
                 },
                 "nodeType": "DOM",
                 "props": {
                  "attributes": {
                   "cx": "150.4014212218411",
                   "cy": "192.73798802338297",
                   "fill": "aqua",
                   "r": "30.0"
                  }
                 },
                 "type": "node"
                },
                {
                 "children": [],
                 "instanceArgs": {
                  "namespace": "svg",
                  "tag": "circle"
                 },
                 "nodeType": "DOM",
                 "props": {
                  "attributes": {
                   "cx": "155.97184423005746",
                   "cy": "183.49881501559048",
                   "fill": "navy",
                   "r": "30.0"
                  }
                 },
                 "type": "node"
                },
                {
                 "children": [],
                 "instanceArgs": {
                  "namespace": "svg",
                  "tag": "circle"
                 },
                 "nodeType": "DOM",
                 "props": {
                  "attributes": {
                   "cx": "161.54226723827378",
                   "cy": "173.9249329213982",
                   "fill": "blue",
                   "r": "30.0"
                  }
                 },
                 "type": "node"
                },
                {
                 "children": [],
                 "instanceArgs": {
                  "namespace": "svg",
                  "tag": "circle"
                 },
                 "nodeType": "DOM",
                 "props": {
                  "attributes": {
                   "cx": "167.11269024649013",
                   "cy": "164.11200080598667",
                   "fill": "purple",
                   "r": "30.0"
                  }
                 },
                 "type": "node"
                },
                {
                 "children": [],
                 "instanceArgs": {
                  "namespace": "svg",
                  "tag": "circle"
                 },
                 "nodeType": "DOM",
                 "props": {
                  "attributes": {
                   "cx": "172.68311325470648",
                   "cy": "154.15806624332902",
                   "fill": "fuchsia",
                   "r": "30.0"
                  }
                 },
                 "type": "node"
                },
                {
                 "children": [],
                 "instanceArgs": {
                  "namespace": "svg",
                  "tag": "circle"
                 },
                 "nodeType": "DOM",
                 "props": {
                  "attributes": {
                   "cx": "178.25353626292278",
                   "cy": "144.162585657242",
                   "fill": "black",
                   "r": "30.0"
                  }
                 },
                 "type": "node"
                },
                {
                 "children": [],
                 "instanceArgs": {
                  "namespace": "svg",
                  "tag": "circle"
                 },
                 "nodeType": "DOM",
                 "props": {
                  "attributes": {
                   "cx": "183.82395927113913",
                   "cy": "134.22543058567513",
                   "fill": "gray",
                   "r": "30.0"
                  }
                 },
                 "type": "node"
                },
                {
                 "children": [],
                 "instanceArgs": {
                  "namespace": "svg",
                  "tag": "circle"
                 },
                 "nodeType": "DOM",
                 "props": {
                  "attributes": {
                   "cx": "189.39438227935548",
                   "cy": "124.44588979731684",
                   "fill": "silver",
                   "r": "30.0"
                  }
                 },
                 "type": "node"
                },
                {
                 "children": [],
                 "instanceArgs": {
                  "namespace": "svg",
                  "tag": "circle"
                 },
                 "nodeType": "DOM",
                 "props": {
                  "attributes": {
                   "cx": "194.96480528757183",
                   "cy": "114.92167723103796",
                   "fill": "maroon",
                   "r": "30.0"
                  }
                 },
                 "type": "node"
                },
                {
                 "children": [],
                 "instanceArgs": {
                  "namespace": "svg",
                  "tag": "circle"
                 },
                 "nodeType": "DOM",
                 "props": {
                  "attributes": {
                   "cx": "200.53522829578816",
                   "cy": "105.74795567051473",
                   "fill": "red",
                   "r": "30.0"
                  }
                 },
                 "type": "node"
                },
                {
                 "children": [],
                 "instanceArgs": {
                  "namespace": "svg",
                  "tag": "circle"
                 },
                 "nodeType": "DOM",
                 "props": {
                  "attributes": {
                   "cx": "206.10565130400448",
                   "cy": "97.01638590915067",
                   "fill": "olive",
                   "r": "30.0"
                  }
                 },
                 "type": "node"
                },
                {
                 "children": [],
                 "instanceArgs": {
                  "namespace": "svg",
                  "tag": "circle"
                 },
                 "nodeType": "DOM",
                 "props": {
                  "attributes": {
                   "cx": "211.6760743122208",
                   "cy": "88.81421090572806",
                   "fill": "yellow",
                   "r": "30.0"
                  }
                 },
                 "type": "node"
                },
                {
                 "children": [],
                 "instanceArgs": {
                  "namespace": "svg",
                  "tag": "circle"
                 },
                 "nodeType": "DOM",
                 "props": {
                  "attributes": {
                   "cx": "217.2464973204372",
                   "cy": "81.22338408160259",
                   "fill": "green",
                   "r": "30.0"
                  }
                 },
                 "type": "node"
                },
                {
                 "children": [],
                 "instanceArgs": {
                  "namespace": "svg",
                  "tag": "circle"
                 },
                 "nodeType": "DOM",
                 "props": {
                  "attributes": {
                   "cx": "222.81692032865348",
                   "cy": "74.31975046920718",
                   "fill": "lime",
                   "r": "30.0"
                  }
                 },
                 "type": "node"
                },
                {
                 "children": [],
                 "instanceArgs": {
                  "namespace": "svg",
                  "tag": "circle"
                 },
                 "nodeType": "DOM",
                 "props": {
                  "attributes": {
                   "cx": "228.38734333686986",
                   "cy": "68.17228889355893",
                   "fill": "teal",
                   "r": "30.0"
                  }
                 },
                 "type": "node"
                },
                {
                 "children": [],
                 "instanceArgs": {
                  "namespace": "svg",
                  "tag": "circle"
                 },
                 "nodeType": "DOM",
                 "props": {
                  "attributes": {
                   "cx": "233.95776634508616",
                   "cy": "62.84242275864118",
                   "fill": "aqua",
                   "r": "30.0"
                  }
                 },
                 "type": "node"
                },
                {
                 "children": [],
                 "instanceArgs": {
                  "namespace": "svg",
                  "tag": "circle"
                 },
                 "nodeType": "DOM",
                 "props": {
                  "attributes": {
                   "cx": "239.52818935330254",
                   "cy": "58.38340632505448",
                   "fill": "navy",
                   "r": "30.0"
                  }
                 },
                 "type": "node"
                },
                {
                 "children": [],
                 "instanceArgs": {
                  "namespace": "svg",
                  "tag": "circle"
                 },
                 "nodeType": "DOM",
                 "props": {
                  "attributes": {
                   "cx": "245.09861236151886",
                   "cy": "54.83979261104838",
                   "fill": "blue",
                   "r": "30.0"
                  }
                 },
                 "type": "node"
                },
                {
                 "children": [],
                 "instanceArgs": {
                  "namespace": "svg",
                  "tag": "circle"
                 },
                 "nodeType": "DOM",
                 "props": {
                  "attributes": {
                   "cx": "250.66903536973516",
                   "cy": "52.2469882334903",
                   "fill": "purple",
                   "r": "30.0"
                  }
                 },
                 "type": "node"
                },
                {
                 "children": [],
                 "instanceArgs": {
                  "namespace": "svg",
                  "tag": "circle"
                 },
                 "nodeType": "DOM",
                 "props": {
                  "attributes": {
                   "cx": "256.23945837795156",
                   "cy": "50.63089963665355",
                   "fill": "fuchsia",
                   "r": "30.0"
                  }
                 },
                 "type": "node"
                },
                {
                 "children": [],
                 "instanceArgs": {
                  "namespace": "svg",
                  "tag": "circle"
                 },
                 "nodeType": "DOM",
                 "props": {
                  "attributes": {
                   "cx": "261.80988138616783",
                   "cy": "50.00767424358992",
                   "fill": "black",
                   "r": "30.0"
                  }
                 },
                 "type": "node"
                },
                {
                 "children": [],
                 "instanceArgs": {
                  "namespace": "svg",
                  "tag": "circle"
                 },
                 "nodeType": "DOM",
                 "props": {
                  "attributes": {
                   "cx": "267.3803043943842",
                   "cy": "50.383539116415946",
                   "fill": "gray",
                   "r": "30.0"
                  }
                 },
                 "type": "node"
                },
                {
                 "children": [],
                 "instanceArgs": {
                  "namespace": "svg",
                  "tag": "circle"
                 },
                 "nodeType": "DOM",
                 "props": {
                  "attributes": {
                   "cx": "272.95072740260053",
                   "cy": "51.754738737566754",
                   "fill": "silver",
                   "r": "30.0"
                  }
                 },
                 "type": "node"
                },
                {
                 "children": [],
                 "instanceArgs": {
                  "namespace": "svg",
                  "tag": "circle"
                 },
                 "nodeType": "DOM",
                 "props": {
                  "attributes": {
                   "cx": "278.52115041081686",
                   "cy": "54.10757253368617",
                   "fill": "maroon",
                   "r": "30.0"
                  }
                 },
                 "type": "node"
                },
                {
                 "children": [],
                 "instanceArgs": {
                  "namespace": "svg",
                  "tag": "circle"
                 },
                 "nodeType": "DOM",
                 "props": {
                  "attributes": {
                   "cx": "284.09157341903324",
                   "cy": "57.418531767226796",
                   "fill": "red",
                   "r": "30.0"
                  }
                 },
                 "type": "node"
                },
                {
                 "children": [],
                 "instanceArgs": {
                  "namespace": "svg",
                  "tag": "circle"
                 },
                 "nodeType": "DOM",
                 "props": {
                  "attributes": {
                   "cx": "289.6619964272495",
                   "cy": "61.654534427984686",
                   "fill": "olive",
                   "r": "30.0"
                  }
                 },
                 "type": "node"
                },
                {
                 "children": [],
                 "instanceArgs": {
                  "namespace": "svg",
                  "tag": "circle"
                 },
                 "nodeType": "DOM",
                 "props": {
                  "attributes": {
                   "cx": "295.2324194354659",
                   "cy": "66.77325577760992",
                   "fill": "yellow",
                   "r": "30.0"
                  }
                 },
                 "type": "node"
                },
                {
                 "children": [],
                 "instanceArgs": {
                  "namespace": "svg",
                  "tag": "circle"
                 },
                 "nodeType": "DOM",
                 "props": {
                  "attributes": {
                   "cx": "300.8028424436822",
                   "cy": "72.72355124440129",
                   "fill": "green",
                   "r": "30.0"
                  }
                 },
                 "type": "node"
                },
                {
                 "children": [],
                 "instanceArgs": {
                  "namespace": "svg",
                  "tag": "circle"
                 },
                 "nodeType": "DOM",
                 "props": {
                  "attributes": {
                   "cx": "306.3732654518986",
                   "cy": "79.44596744296088",
                   "fill": "lime",
                   "r": "30.0"
                  }
                 },
                 "type": "node"
                },
                {
                 "children": [],
                 "instanceArgs": {
                  "namespace": "svg",
                  "tag": "circle"
                 },
                 "nodeType": "DOM",
                 "props": {
                  "attributes": {
                   "cx": "311.9436884601149",
                   "cy": "86.87333621276792",
                   "fill": "teal",
                   "r": "30.0"
                  }
                 },
                 "type": "node"
                },
                {
                 "children": [],
                 "instanceArgs": {
                  "namespace": "svg",
                  "tag": "circle"
                 },
                 "nodeType": "DOM",
                 "props": {
                  "attributes": {
                   "cx": "317.5141114683312",
                   "cy": "94.93144574023623",
                   "fill": "aqua",
                   "r": "30.0"
                  }
                 },
                 "type": "node"
                },
                {
                 "children": [],
                 "instanceArgs": {
                  "namespace": "svg",
                  "tag": "circle"
                 },
                 "nodeType": "DOM",
                 "props": {
                  "attributes": {
                   "cx": "323.08453447654756",
                   "cy": "103.53978205862435",
                   "fill": "navy",
                   "r": "30.0"
                  }
                 },
                 "type": "node"
                },
                {
                 "children": [],
                 "instanceArgs": {
                  "namespace": "svg",
                  "tag": "circle"
                 },
                 "nodeType": "DOM",
                 "props": {
                  "attributes": {
                   "cx": "328.6549574847639",
                   "cy": "112.6123335169764",
                   "fill": "blue",
                   "r": "30.0"
                  }
                 },
                 "type": "node"
                },
                {
                 "children": [],
                 "instanceArgs": {
                  "namespace": "svg",
                  "tag": "circle"
                 },
                 "nodeType": "DOM",
                 "props": {
                  "attributes": {
                   "cx": "334.22538049298026",
                   "cy": "122.0584501801075",
                   "fill": "purple",
                   "r": "30.0"
                  }
                 },
                 "type": "node"
                },
                {
                 "children": [],
                 "instanceArgs": {
                  "namespace": "svg",
                  "tag": "circle"
                 },
                 "nodeType": "DOM",
                 "props": {
                  "attributes": {
                   "cx": "339.79580350119653",
                   "cy": "131.7837495727905",
                   "fill": "fuchsia",
                   "r": "30.0"
                  }
                 },
                 "type": "node"
                },
                {
                 "children": [],
                 "instanceArgs": {
                  "namespace": "svg",
                  "tag": "circle"
                 },
                 "nodeType": "DOM",
                 "props": {
                  "attributes": {
                   "cx": "345.3662265094129",
                   "cy": "141.69105971825036",
                   "fill": "black",
                   "r": "30.0"
                  }
                 },
                 "type": "node"
                },
                {
                 "children": [],
                 "instanceArgs": {
                  "namespace": "svg",
                  "tag": "circle"
                 },
                 "nodeType": "DOM",
                 "props": {
                  "attributes": {
                   "cx": "350.9366495176293",
                   "cy": "151.68139004843505",
                   "fill": "gray",
                   "r": "30.0"
                  }
                 },
                 "type": "node"
                },
                {
                 "children": [],
                 "instanceArgs": {
                  "namespace": "svg",
                  "tag": "circle"
                 },
                 "nodeType": "DOM",
                 "props": {
                  "attributes": {
                   "cx": "356.50707252584556",
                   "cy": "161.65492048504936",
                   "fill": "silver",
                   "r": "30.0"
                  }
                 },
                 "type": "node"
                },
                {
                 "children": [],
                 "instanceArgs": {
                  "namespace": "svg",
                  "tag": "circle"
                 },
                 "nodeType": "DOM",
                 "props": {
                  "attributes": {
                   "cx": "362.077495534062",
                   "cy": "171.51199880878164",
                   "fill": "maroon",
                   "r": "30.0"
                  }
                 },
                 "type": "node"
                },
                {
                 "children": [],
                 "instanceArgs": {
                  "namespace": "svg",
                  "tag": "circle"
                 },
                 "nodeType": "DOM",
                 "props": {
                  "attributes": {
                   "cx": "367.64791854227826",
                   "cy": "181.15413635133785",
                   "fill": "red",
                   "r": "30.0"
                  }
                 },
                 "type": "node"
                },
                {
                 "children": [],
                 "instanceArgs": {
                  "namespace": "svg",
                  "tag": "circle"
                 },
                 "nodeType": "DOM",
                 "props": {
                  "attributes": {
                   "cx": "373.2183415504946",
                   "cy": "190.48499206165982",
                   "fill": "olive",
                   "r": "30.0"
                  }
                 },
                 "type": "node"
                },
                {
                 "children": [],
                 "instanceArgs": {
                  "namespace": "svg",
                  "tag": "circle"
                 },
                 "nodeType": "DOM",
                 "props": {
                  "attributes": {
                   "cx": "378.78876455871097",
                   "cy": "199.4113351138609",
                   "fill": "yellow",
                   "r": "30.0"
                  }
                 },
                 "type": "node"
                },
                {
                 "children": [],
                 "instanceArgs": {
                  "namespace": "svg",
                  "tag": "circle"
                 },
                 "nodeType": "DOM",
                 "props": {
                  "attributes": {
                   "cx": "384.35918756692723",
                   "cy": "207.84397643882002",
                   "fill": "green",
                   "r": "30.0"
                  }
                 },
                 "type": "node"
                },
                {
                 "children": [],
                 "instanceArgs": {
                  "namespace": "svg",
                  "tag": "circle"
                 },
                 "nodeType": "DOM",
                 "props": {
                  "attributes": {
                   "cx": "389.92961057514367",
                   "cy": "215.698659871879",
                   "fill": "lime",
                   "r": "30.0"
                  }
                 },
                 "type": "node"
                },
                {
                 "children": [],
                 "instanceArgs": {
                  "namespace": "svg",
                  "tag": "circle"
                 },
                 "nodeType": "DOM",
                 "props": {
                  "attributes": {
                   "cx": "395.50003358335994",
                   "cy": "222.89690401258764",
                   "fill": "teal",
                   "r": "30.0"
                  }
                 },
                 "type": "node"
                },
                {
                 "children": [],
                 "instanceArgs": {
                  "namespace": "svg",
                  "tag": "circle"
                 },
                 "nodeType": "DOM",
                 "props": {
                  "attributes": {
                   "cx": "401.07045659157626",
                   "cy": "229.36678638491532",
                   "fill": "aqua",
                   "r": "30.0"
                  }
                 },
                 "type": "node"
                },
                {
                 "children": [],
                 "instanceArgs": {
                  "namespace": "svg",
                  "tag": "circle"
                 },
                 "nodeType": "DOM",
                 "props": {
                  "attributes": {
                   "cx": "406.6408795997927",
                   "cy": "235.04366206285647",
                   "fill": "navy",
                   "r": "30.0"
                  }
                 },
                 "type": "node"
                },
                {
                 "children": [],
                 "instanceArgs": {
                  "namespace": "svg",
                  "tag": "circle"
                 },
                 "nodeType": "DOM",
                 "props": {
                  "attributes": {
                   "cx": "412.21130260800896",
                   "cy": "239.8708095811627",
                   "fill": "blue",
                   "r": "30.0"
                  }
                 },
                 "type": "node"
                },
                {
                 "children": [],
                 "instanceArgs": {
                  "namespace": "svg",
                  "tag": "circle"
                 },
                 "nodeType": "DOM",
                 "props": {
                  "attributes": {
                   "cx": "417.78172561622534",
                   "cy": "243.79999767747393",
                   "fill": "purple",
                   "r": "30.0"
                  }
                 },
                 "type": "node"
                },
                {
                 "children": [],
                 "instanceArgs": {
                  "namespace": "svg",
                  "tag": "circle"
                 },
                 "nodeType": "DOM",
                 "props": {
                  "attributes": {
                   "cx": "423.3521486244416",
                   "cy": "246.79196720314866",
                   "fill": "fuchsia",
                   "r": "30.0"
                  }
                 },
                 "type": "node"
                },
                {
                 "children": [],
                 "instanceArgs": {
                  "namespace": "svg",
                  "tag": "circle"
                 },
                 "nodeType": "DOM",
                 "props": {
                  "attributes": {
                   "cx": "428.92257163265793",
                   "cy": "248.81682338770003",
                   "fill": "black",
                   "r": "30.0"
                  }
                 },
                 "type": "node"
                },
                {
                 "children": [],
                 "instanceArgs": {
                  "namespace": "svg",
                  "tag": "circle"
                 },
                 "nodeType": "DOM",
                 "props": {
                  "attributes": {
                   "cx": "434.4929946408744",
                   "cy": "249.8543345374605",
                   "fill": "gray",
                   "r": "30.0"
                  }
                 },
                 "type": "node"
                },
                {
                 "children": [],
                 "instanceArgs": {
                  "namespace": "svg",
                  "tag": "circle"
                 },
                 "nodeType": "DOM",
                 "props": {
                  "attributes": {
                   "cx": "440.06341764909064",
                   "cy": "249.8941341839772",
                   "fill": "silver",
                   "r": "30.0"
                  }
                 },
                 "type": "node"
                },
                {
                 "children": [],
                 "instanceArgs": {
                  "namespace": "svg",
                  "tag": "circle"
                 },
                 "nodeType": "DOM",
                 "props": {
                  "attributes": {
                   "cx": "445.63384065730696",
                   "cy": "248.93582466233818",
                   "fill": "maroon",
                   "r": "30.0"
                  }
                 },
                 "type": "node"
                },
                {
                 "children": [],
                 "instanceArgs": {
                  "namespace": "svg",
                  "tag": "circle"
                 },
                 "nodeType": "DOM",
                 "props": {
                  "attributes": {
                   "cx": "451.2042636655233",
                   "cy": "246.98898108450862",
                   "fill": "red",
                   "r": "30.0"
                  }
                 },
                 "type": "node"
                },
                {
                 "children": [],
                 "instanceArgs": {
                  "namespace": "svg",
                  "tag": "circle"
                 },
                 "nodeType": "DOM",
                 "props": {
                  "attributes": {
                   "cx": "456.77468667373955",
                   "cy": "244.07305566797731",
                   "fill": "olive",
                   "r": "30.0"
                  }
                 },
                 "type": "node"
                },
                {
                 "children": [],
                 "instanceArgs": {
                  "namespace": "svg",
                  "tag": "circle"
                 },
                 "nodeType": "DOM",
                 "props": {
                  "attributes": {
                   "cx": "462.3451096819559",
                   "cy": "240.21718337562942",
                   "fill": "yellow",
                   "r": "30.0"
                  }
                 },
                 "type": "node"
                },
                {
                 "children": [],
                 "instanceArgs": {
                  "namespace": "svg",
                  "tag": "circle"
                 },
                 "nodeType": "DOM",
                 "props": {
                  "attributes": {
                   "cx": "467.9155326901723",
                   "cy": "235.45989080882805",
                   "fill": "green",
                   "r": "30.0"
                  }
                 },
                 "type": "node"
                },
                {
                 "children": [],
                 "instanceArgs": {
                  "namespace": "svg",
                  "tag": "circle"
                 },
                 "nodeType": "DOM",
                 "props": {
                  "attributes": {
                   "cx": "473.48595569838864",
                   "cy": "229.848711262349",
                   "fill": "lime",
                   "r": "30.0"
                  }
                 },
                 "type": "node"
                },
                {
                 "children": [],
                 "instanceArgs": {
                  "namespace": "svg",
                  "tag": "circle"
                 },
                 "nodeType": "DOM",
                 "props": {
                  "attributes": {
                   "cx": "479.05637870660496",
                   "cy": "223.43970978741135",
                   "fill": "teal",
                   "r": "30.0"
                  }
                 },
                 "type": "node"
                },
                {
                 "children": [],
                 "instanceArgs": {
                  "namespace": "svg",
                  "tag": "circle"
                 },
                 "nodeType": "DOM",
                 "props": {
                  "attributes": {
                   "cx": "484.6268017148212",
                   "cy": "216.29692300821836",
                   "fill": "aqua",
                   "r": "30.0"
                  }
                 },
                 "type": "node"
                },
                {
                 "children": [],
                 "instanceArgs": {
                  "namespace": "svg",
                  "tag": "circle"
                 },
                 "nodeType": "DOM",
                 "props": {
                  "attributes": {
                   "cx": "490.1972247230376",
                   "cy": "208.4917192891763",
                   "fill": "navy",
                   "r": "30.0"
                  }
                 },
                 "type": "node"
                },
                {
                 "children": [],
                 "instanceArgs": {
                  "namespace": "svg",
                  "tag": "circle"
                 },
                 "nodeType": "DOM",
                 "props": {
                  "attributes": {
                   "cx": "495.767647731254",
                   "cy": "200.10208564578846",
                   "fill": "blue",
                   "r": "30.0"
                  }
                 },
                 "type": "node"
                },
                {
                 "children": [],
                 "instanceArgs": {
                  "namespace": "svg",
                  "tag": "circle"
                 },
                 "nodeType": "DOM",
                 "props": {
                  "attributes": {
                   "cx": "501.3380707394703",
                   "cy": "191.21184852417565",
                   "fill": "purple",
                   "r": "30.0"
                  }
                 },
                 "type": "node"
                },
                {
                 "children": [],
                 "instanceArgs": {
                  "namespace": "svg",
                  "tag": "circle"
                 },
                 "nodeType": "DOM",
                 "props": {
                  "attributes": {
                   "cx": "506.9084937476867",
                   "cy": "181.9098362349352",
                   "fill": "fuchsia",
                   "r": "30.0"
                  }
                 },
                 "type": "node"
                },
                {
                 "children": [],
                 "instanceArgs": {
                  "namespace": "svg",
                  "tag": "circle"
                 },
                 "nodeType": "DOM",
                 "props": {
                  "attributes": {
                   "cx": "512.4789167559029",
                   "cy": "172.28899141002478",
                   "fill": "black",
                   "r": "30.0"
                  }
                 },
                 "type": "node"
                },
                {
                 "children": [],
                 "instanceArgs": {
                  "namespace": "svg",
                  "tag": "circle"
                 },
                 "nodeType": "DOM",
                 "props": {
                  "attributes": {
                   "cx": "518.0493397641193",
                   "cy": "162.44544235070634",
                   "fill": "gray",
                   "r": "30.0"
                  }
                 },
                 "type": "node"
                },
                {
                 "children": [],
                 "instanceArgs": {
                  "namespace": "svg",
                  "tag": "circle"
                 },
                 "nodeType": "DOM",
                 "props": {
                  "attributes": {
                   "cx": "523.6197627723357",
                   "cy": "152.47754254533578",
                   "fill": "silver",
                   "r": "30.0"
                  }
                 },
                 "type": "node"
                },
                {
                 "children": [],
                 "instanceArgs": {
                  "namespace": "svg",
                  "tag": "circle"
                 },
                 "nodeType": "DOM",
                 "props": {
                  "attributes": {
                   "cx": "529.190185780552",
                   "cy": "142.48488795381908",
                   "fill": "maroon",
                   "r": "30.0"
                  }
                 },
                 "type": "node"
                },
                {
                 "children": [],
                 "instanceArgs": {
                  "namespace": "svg",
                  "tag": "circle"
                 },
                 "nodeType": "DOM",
                 "props": {
                  "attributes": {
                   "cx": "534.7606087887683",
                   "cy": "132.56732187770203",
                   "fill": "red",
                   "r": "30.0"
                  }
                 },
                 "type": "node"
                },
                {
                 "children": [],
                 "instanceArgs": {
                  "namespace": "svg",
                  "tag": "circle"
                 },
                 "nodeType": "DOM",
                 "props": {
                  "attributes": {
                   "cx": "540.3310317969846",
                   "cy": "122.82393735890575",
                   "fill": "olive",
                   "r": "30.0"
                  }
                 },
                 "type": "node"
                },
                {
                 "children": [],
                 "instanceArgs": {
                  "namespace": "svg",
                  "tag": "circle"
                 },
                 "nodeType": "DOM",
                 "props": {
                  "attributes": {
                   "cx": "545.9014548052011",
                   "cy": "113.35208707480717",
                   "fill": "yellow",
                   "r": "30.0"
                  }
                 },
                 "type": "node"
                },
                {
                 "children": [],
                 "instanceArgs": {
                  "namespace": "svg",
                  "tag": "circle"
                 },
                 "nodeType": "DOM",
                 "props": {
                  "attributes": {
                   "cx": "551.4718778134173",
                   "cy": "104.24641062246786",
                   "fill": "green",
                   "r": "30.0"
                  }
                 },
                 "type": "node"
                },
                {
                 "children": [],
                 "instanceArgs": {
                  "namespace": "svg",
                  "tag": "circle"
                 },
                 "nodeType": "DOM",
                 "props": {
                  "attributes": {
                   "cx": "557.0423008216337",
                   "cy": "95.59788891106302",
                   "fill": "lime",
                   "r": "30.0"
                  }
                 },
                 "type": "node"
                },
                {
                 "children": [],
                 "instanceArgs": {
                  "namespace": "svg",
                  "tag": "circle"
                 },
                 "nodeType": "DOM",
                 "props": {
                  "attributes": {
                   "cx": "562.61272382985",
                   "cy": "87.49293511071178",
                   "fill": "teal",
                   "r": "30.0"
                  }
                 },
                 "type": "node"
                },
                {
                 "children": [],
                 "instanceArgs": {
                  "namespace": "svg",
                  "tag": "circle"
                 },
                 "nodeType": "DOM",
                 "props": {
                  "attributes": {
                   "cx": "568.1831468380662",
                   "cy": "80.01253124064577",
                   "fill": "aqua",
                   "r": "30.0"
                  }
                 },
                 "type": "node"
                }
               ],
               "instanceArgs": {
                "namespace": "svg",
                "tag": "svg"
               },
               "nodeType": "DOM",
               "props": {
                "attributes": {
                 "height": "300",
                 "width": "700"
                }
               },
               "type": "node"
              }
             ],
             "instanceArgs": {
              "namespace": "html",
              "tag": "div"
             },
             "nodeType": "DOM",
             "props": {
              "className": "interact-flex-row interact-widget"
             },
             "type": "node"
            }
           }
          },
          "systemjs_options": null
         },
         "nodeType": "Scope",
         "props": {},
         "type": "node"
        }
       ],
       "instanceArgs": {
        "namespace": "html",
        "tag": "div"
       },
       "nodeType": "DOM",
       "props": {},
       "type": "node"
      },
      "text/html": [
       "<div\n",
       "    class=\"webio-mountpoint\"\n",
       "    data-webio-mountpoint=\"15262048178436443418\"\n",
       ">\n",
       "    <script>\n",
       "    if (window.require && require.defined && require.defined(\"nbextensions/webio-jupyter-notebook\")) {\n",
       "        console.log(\"Jupyter WebIO extension detected, not mounting.\");\n",
       "    } else if (window.WebIO) {\n",
       "        WebIO.mount(\n",
       "            document.querySelector('[data-webio-mountpoint=\"15262048178436443418\"]'),\n",
       "            {\"props\":{},\"nodeType\":\"DOM\",\"type\":\"node\",\"instanceArgs\":{\"namespace\":\"html\",\"tag\":\"div\"},\"children\":[{\"props\":{\"className\":\"field interact-widget\"},\"nodeType\":\"DOM\",\"type\":\"node\",\"instanceArgs\":{\"namespace\":\"html\",\"tag\":\"div\"},\"children\":[{\"props\":{},\"nodeType\":\"Scope\",\"type\":\"node\",\"instanceArgs\":{\"imports\":{\"data\":[{\"name\":\"knockout\",\"type\":\"js\",\"url\":\"\\/assetserver\\/0e408749c48bdf320cff510588f31e1b0173133c-knockout.js\"},{\"name\":\"knockout_punches\",\"type\":\"js\",\"url\":\"\\/assetserver\\/a3a43557819f8cc1c4cea9496b4d4a77212507ee-knockout_punches.js\"},{\"name\":null,\"type\":\"js\",\"url\":\"\\/assetserver\\/945325143ba7fe2937cdb272fc55d17f63839e43-all.js\"},{\"name\":null,\"type\":\"css\",\"url\":\"\\/assetserver\\/7783c00ca61c9df17c8321cd19f354ef277da9b0-style.css\"},{\"name\":null,\"type\":\"css\",\"url\":\"\\/assetserver\\/b23615e7c1fa57d5c1e45c084590fb1d9bbd3c04-bulma_confined.min.css\"}],\"type\":\"async_block\"},\"id\":\"18259801315482872728\",\"handlers\":{\"changes\":[\"(function (val){return (val!=this.model[\\\"changes\\\"]()) ? (this.valueFromJulia[\\\"changes\\\"]=true, this.model[\\\"changes\\\"](val)) : undefined})\"],\"index\":[\"(function (val){return (val!=this.model[\\\"index\\\"]()) ? (this.valueFromJulia[\\\"index\\\"]=true, this.model[\\\"index\\\"](val)) : undefined})\"]},\"systemjs_options\":null,\"mount_callbacks\":[\"function () {\\n    var handler = (function (ko, koPunches) {\\n    ko.punches.enableAll();\\n    ko.bindingHandlers.numericValue = {\\n        init: function(element, valueAccessor, allBindings, data, context) {\\n            var stringified = ko.observable(ko.unwrap(valueAccessor()));\\n            stringified.subscribe(function(value) {\\n                var val = parseFloat(value);\\n                if (!isNaN(val)) {\\n                    valueAccessor()(val);\\n                }\\n            });\\n            valueAccessor().subscribe(function(value) {\\n                var str = JSON.stringify(value);\\n                if ((str == \\\"0\\\") && ([\\\"-0\\\", \\\"-0.\\\"].indexOf(stringified()) >= 0))\\n                     return;\\n                 if ([\\\"null\\\", \\\"\\\"].indexOf(str) >= 0)\\n                     return;\\n                stringified(str);\\n            });\\n            ko.applyBindingsToNode(\\n                element,\\n                {\\n                    value: stringified,\\n                    valueUpdate: allBindings.get('valueUpdate'),\\n                },\\n                context,\\n            );\\n        }\\n    };\\n    var json_data = {\\\"formatted_vals\\\":[\\\"1\\\",\\\"2\\\",\\\"3\\\",\\\"4\\\",\\\"5\\\",\\\"6\\\",\\\"7\\\",\\\"8\\\",\\\"9\\\",\\\"10\\\",\\\"11\\\",\\\"12\\\",\\\"13\\\",\\\"14\\\",\\\"15\\\",\\\"16\\\",\\\"17\\\",\\\"18\\\",\\\"19\\\",\\\"20\\\",\\\"21\\\",\\\"22\\\",\\\"23\\\",\\\"24\\\",\\\"25\\\",\\\"26\\\",\\\"27\\\",\\\"28\\\",\\\"29\\\",\\\"30\\\",\\\"31\\\",\\\"32\\\",\\\"33\\\",\\\"34\\\",\\\"35\\\",\\\"36\\\",\\\"37\\\",\\\"38\\\",\\\"39\\\",\\\"40\\\",\\\"41\\\",\\\"42\\\",\\\"43\\\",\\\"44\\\",\\\"45\\\",\\\"46\\\",\\\"47\\\",\\\"48\\\",\\\"49\\\",\\\"50\\\",\\\"51\\\",\\\"52\\\",\\\"53\\\",\\\"54\\\",\\\"55\\\",\\\"56\\\",\\\"57\\\",\\\"58\\\",\\\"59\\\",\\\"60\\\",\\\"61\\\",\\\"62\\\",\\\"63\\\",\\\"64\\\",\\\"65\\\",\\\"66\\\",\\\"67\\\",\\\"68\\\",\\\"69\\\",\\\"70\\\",\\\"71\\\",\\\"72\\\",\\\"73\\\",\\\"74\\\",\\\"75\\\",\\\"76\\\",\\\"77\\\",\\\"78\\\",\\\"79\\\",\\\"80\\\",\\\"81\\\",\\\"82\\\",\\\"83\\\",\\\"84\\\",\\\"85\\\",\\\"86\\\",\\\"87\\\",\\\"88\\\",\\\"89\\\",\\\"90\\\",\\\"91\\\",\\\"92\\\",\\\"93\\\",\\\"94\\\",\\\"95\\\",\\\"96\\\",\\\"97\\\",\\\"98\\\",\\\"99\\\",\\\"100\\\",\\\"101\\\",\\\"102\\\",\\\"103\\\",\\\"104\\\",\\\"105\\\",\\\"106\\\",\\\"107\\\",\\\"108\\\",\\\"109\\\",\\\"110\\\",\\\"111\\\",\\\"112\\\",\\\"113\\\",\\\"114\\\",\\\"115\\\",\\\"116\\\",\\\"117\\\",\\\"118\\\",\\\"119\\\",\\\"120\\\",\\\"121\\\",\\\"122\\\",\\\"123\\\",\\\"124\\\",\\\"125\\\",\\\"126\\\",\\\"127\\\",\\\"128\\\",\\\"129\\\",\\\"130\\\",\\\"131\\\",\\\"132\\\",\\\"133\\\",\\\"134\\\",\\\"135\\\",\\\"136\\\",\\\"137\\\",\\\"138\\\",\\\"139\\\",\\\"140\\\",\\\"141\\\",\\\"142\\\",\\\"143\\\",\\\"144\\\",\\\"145\\\",\\\"146\\\",\\\"147\\\",\\\"148\\\",\\\"149\\\",\\\"150\\\",\\\"151\\\",\\\"152\\\",\\\"153\\\",\\\"154\\\",\\\"155\\\",\\\"156\\\",\\\"157\\\",\\\"158\\\",\\\"159\\\",\\\"160\\\",\\\"161\\\",\\\"162\\\",\\\"163\\\",\\\"164\\\",\\\"165\\\",\\\"166\\\",\\\"167\\\",\\\"168\\\",\\\"169\\\",\\\"170\\\",\\\"171\\\",\\\"172\\\",\\\"173\\\",\\\"174\\\",\\\"175\\\",\\\"176\\\",\\\"177\\\",\\\"178\\\",\\\"179\\\",\\\"180\\\",\\\"181\\\",\\\"182\\\",\\\"183\\\",\\\"184\\\",\\\"185\\\",\\\"186\\\",\\\"187\\\",\\\"188\\\",\\\"189\\\",\\\"190\\\",\\\"191\\\",\\\"192\\\",\\\"193\\\",\\\"194\\\",\\\"195\\\",\\\"196\\\",\\\"197\\\",\\\"198\\\",\\\"199\\\",\\\"200\\\"],\\\"changes\\\":WebIO.getval({\\\"name\\\":\\\"changes\\\",\\\"scope\\\":\\\"18259801315482872728\\\",\\\"id\\\":\\\"ob_658\\\",\\\"type\\\":\\\"observable\\\"}),\\\"index\\\":WebIO.getval({\\\"name\\\":\\\"index\\\",\\\"scope\\\":\\\"18259801315482872728\\\",\\\"id\\\":\\\"ob_657\\\",\\\"type\\\":\\\"observable\\\"})};\\n    var self = this;\\n    function AppViewModel() {\\n        for (var key in json_data) {\\n            var el = json_data[key];\\n            this[key] = Array.isArray(el) ? ko.observableArray(el) : ko.observable(el);\\n        }\\n        \\n        [this[\\\"formatted_val\\\"]=ko.computed(    function(){\\n        return this.formatted_vals()[parseInt(this.index())-(1)];\\n    }\\n,this)]\\n        [this[\\\"changes\\\"].subscribe((function (val){!(this.valueFromJulia[\\\"changes\\\"]) ? (WebIO.setval({\\\"name\\\":\\\"changes\\\",\\\"scope\\\":\\\"18259801315482872728\\\",\\\"id\\\":\\\"ob_658\\\",\\\"type\\\":\\\"observable\\\"},val)) : undefined; return this.valueFromJulia[\\\"changes\\\"]=false}),self),this[\\\"index\\\"].subscribe((function (val){!(this.valueFromJulia[\\\"index\\\"]) ? (WebIO.setval({\\\"name\\\":\\\"index\\\",\\\"scope\\\":\\\"18259801315482872728\\\",\\\"id\\\":\\\"ob_657\\\",\\\"type\\\":\\\"observable\\\"},val)) : undefined; return this.valueFromJulia[\\\"index\\\"]=false}),self)]\\n        \\n    }\\n    self.model = new AppViewModel();\\n    self.valueFromJulia = {};\\n    for (var key in json_data) {\\n        self.valueFromJulia[key] = false;\\n    }\\n    ko.applyBindings(self.model, self.dom);\\n}\\n);\\n    (WebIO.importBlock({\\\"data\\\":[{\\\"name\\\":\\\"knockout\\\",\\\"type\\\":\\\"js\\\",\\\"url\\\":\\\"\\/assetserver\\/0e408749c48bdf320cff510588f31e1b0173133c-knockout.js\\\"},{\\\"name\\\":\\\"knockout_punches\\\",\\\"type\\\":\\\"js\\\",\\\"url\\\":\\\"\\/assetserver\\/a3a43557819f8cc1c4cea9496b4d4a77212507ee-knockout_punches.js\\\"}],\\\"type\\\":\\\"async_block\\\"})).then((imports) => handler.apply(this, imports));\\n}\\n\"],\"observables\":{\"changes\":{\"sync\":false,\"id\":\"ob_658\",\"value\":0},\"index\":{\"sync\":true,\"id\":\"ob_657\",\"value\":100}}},\"children\":[{\"props\":{\"className\":\"interact-flex-row interact-widget\"},\"nodeType\":\"DOM\",\"type\":\"node\",\"instanceArgs\":{\"namespace\":\"html\",\"tag\":\"div\"},\"children\":[{\"props\":{\"className\":\"interact-flex-row-left\"},\"nodeType\":\"DOM\",\"type\":\"node\",\"instanceArgs\":{\"namespace\":\"html\",\"tag\":\"div\"},\"children\":[{\"props\":{\"className\":\"interact \",\"style\":{\"padding\":\"5px 10px 0px 10px\"}},\"nodeType\":\"DOM\",\"type\":\"node\",\"instanceArgs\":{\"namespace\":\"html\",\"tag\":\"label\"},\"children\":[\"nsamples\"]}]},{\"props\":{\"className\":\"interact-flex-row-center\"},\"nodeType\":\"DOM\",\"type\":\"node\",\"instanceArgs\":{\"namespace\":\"html\",\"tag\":\"div\"},\"children\":[{\"props\":{\"max\":200,\"min\":1,\"attributes\":{\"type\":\"range\",\"data-bind\":\"numericValue: index, valueUpdate: 'input', event: {change: function (){this.changes(this.changes()+1)}}\",\"orient\":\"horizontal\"},\"step\":1,\"className\":\"slider slider is-fullwidth\",\"style\":{}},\"nodeType\":\"DOM\",\"type\":\"node\",\"instanceArgs\":{\"namespace\":\"html\",\"tag\":\"input\"},\"children\":[]}]},{\"props\":{\"className\":\"interact-flex-row-right\"},\"nodeType\":\"DOM\",\"type\":\"node\",\"instanceArgs\":{\"namespace\":\"html\",\"tag\":\"div\"},\"children\":[{\"props\":{\"attributes\":{\"data-bind\":\"text: formatted_val\"}},\"nodeType\":\"DOM\",\"type\":\"node\",\"instanceArgs\":{\"namespace\":\"html\",\"tag\":\"p\"},\"children\":[]}]}]}]}]},{\"props\":{\"className\":\"field interact-widget\"},\"nodeType\":\"DOM\",\"type\":\"node\",\"instanceArgs\":{\"namespace\":\"html\",\"tag\":\"div\"},\"children\":[{\"props\":{},\"nodeType\":\"Scope\",\"type\":\"node\",\"instanceArgs\":{\"imports\":{\"data\":[{\"name\":\"knockout\",\"type\":\"js\",\"url\":\"\\/assetserver\\/0e408749c48bdf320cff510588f31e1b0173133c-knockout.js\"},{\"name\":\"knockout_punches\",\"type\":\"js\",\"url\":\"\\/assetserver\\/a3a43557819f8cc1c4cea9496b4d4a77212507ee-knockout_punches.js\"},{\"name\":null,\"type\":\"js\",\"url\":\"\\/assetserver\\/945325143ba7fe2937cdb272fc55d17f63839e43-all.js\"},{\"name\":null,\"type\":\"css\",\"url\":\"\\/assetserver\\/7783c00ca61c9df17c8321cd19f354ef277da9b0-style.css\"},{\"name\":null,\"type\":\"css\",\"url\":\"\\/assetserver\\/b23615e7c1fa57d5c1e45c084590fb1d9bbd3c04-bulma_confined.min.css\"}],\"type\":\"async_block\"},\"id\":\"925122228397481237\",\"handlers\":{\"changes\":[\"(function (val){return (val!=this.model[\\\"changes\\\"]()) ? (this.valueFromJulia[\\\"changes\\\"]=true, this.model[\\\"changes\\\"](val)) : undefined})\"],\"index\":[\"(function (val){return (val!=this.model[\\\"index\\\"]()) ? (this.valueFromJulia[\\\"index\\\"]=true, this.model[\\\"index\\\"](val)) : undefined})\"]},\"systemjs_options\":null,\"mount_callbacks\":[\"function () {\\n    var handler = (function (ko, koPunches) {\\n    ko.punches.enableAll();\\n    ko.bindingHandlers.numericValue = {\\n        init: function(element, valueAccessor, allBindings, data, context) {\\n            var stringified = ko.observable(ko.unwrap(valueAccessor()));\\n            stringified.subscribe(function(value) {\\n                var val = parseFloat(value);\\n                if (!isNaN(val)) {\\n                    valueAccessor()(val);\\n                }\\n            });\\n            valueAccessor().subscribe(function(value) {\\n                var str = JSON.stringify(value);\\n                if ((str == \\\"0\\\") && ([\\\"-0\\\", \\\"-0.\\\"].indexOf(stringified()) >= 0))\\n                     return;\\n                 if ([\\\"null\\\", \\\"\\\"].indexOf(str) >= 0)\\n                     return;\\n                stringified(str);\\n            });\\n            ko.applyBindingsToNode(\\n                element,\\n                {\\n                    value: stringified,\\n                    valueUpdate: allBindings.get('valueUpdate'),\\n                },\\n                context,\\n            );\\n        }\\n    };\\n    var json_data = {\\\"formatted_vals\\\":[\\\"0.01\\\",\\\"0.02\\\",\\\"0.03\\\",\\\"0.04\\\",\\\"0.05\\\",\\\"0.06\\\",\\\"0.07\\\",\\\"0.08\\\",\\\"0.09\\\",\\\"0.1\\\",\\\"0.11\\\",\\\"0.12\\\",\\\"0.13\\\",\\\"0.14\\\",\\\"0.15\\\",\\\"0.16\\\",\\\"0.17\\\",\\\"0.18\\\",\\\"0.19\\\",\\\"0.2\\\",\\\"0.21\\\",\\\"0.22\\\",\\\"0.23\\\",\\\"0.24\\\",\\\"0.25\\\",\\\"0.26\\\",\\\"0.27\\\",\\\"0.28\\\",\\\"0.29\\\",\\\"0.3\\\",\\\"0.31\\\",\\\"0.32\\\",\\\"0.33\\\",\\\"0.34\\\",\\\"0.35\\\",\\\"0.36\\\",\\\"0.37\\\",\\\"0.38\\\",\\\"0.39\\\",\\\"0.4\\\",\\\"0.41\\\",\\\"0.42\\\",\\\"0.43\\\",\\\"0.44\\\",\\\"0.45\\\",\\\"0.46\\\",\\\"0.47\\\",\\\"0.48\\\",\\\"0.49\\\",\\\"0.5\\\",\\\"0.51\\\",\\\"0.52\\\",\\\"0.53\\\",\\\"0.54\\\",\\\"0.55\\\",\\\"0.56\\\",\\\"0.57\\\",\\\"0.58\\\",\\\"0.59\\\",\\\"0.6\\\",\\\"0.61\\\",\\\"0.62\\\",\\\"0.63\\\",\\\"0.64\\\",\\\"0.65\\\",\\\"0.66\\\",\\\"0.67\\\",\\\"0.68\\\",\\\"0.69\\\",\\\"0.7\\\",\\\"0.71\\\",\\\"0.72\\\",\\\"0.73\\\",\\\"0.74\\\",\\\"0.75\\\",\\\"0.76\\\",\\\"0.77\\\",\\\"0.78\\\",\\\"0.79\\\",\\\"0.8\\\",\\\"0.81\\\",\\\"0.82\\\",\\\"0.83\\\",\\\"0.84\\\",\\\"0.85\\\",\\\"0.86\\\",\\\"0.87\\\",\\\"0.88\\\",\\\"0.89\\\",\\\"0.9\\\",\\\"0.91\\\",\\\"0.92\\\",\\\"0.93\\\",\\\"0.94\\\",\\\"0.95\\\",\\\"0.96\\\",\\\"0.97\\\",\\\"0.98\\\",\\\"0.99\\\",\\\"1.0\\\"],\\\"changes\\\":WebIO.getval({\\\"name\\\":\\\"changes\\\",\\\"scope\\\":\\\"925122228397481237\\\",\\\"id\\\":\\\"ob_661\\\",\\\"type\\\":\\\"observable\\\"}),\\\"index\\\":WebIO.getval({\\\"name\\\":\\\"index\\\",\\\"scope\\\":\\\"925122228397481237\\\",\\\"id\\\":\\\"ob_660\\\",\\\"type\\\":\\\"observable\\\"})};\\n    var self = this;\\n    function AppViewModel() {\\n        for (var key in json_data) {\\n            var el = json_data[key];\\n            this[key] = Array.isArray(el) ? ko.observableArray(el) : ko.observable(el);\\n        }\\n        \\n        [this[\\\"formatted_val\\\"]=ko.computed(    function(){\\n        return this.formatted_vals()[parseInt(this.index())-(1)];\\n    }\\n,this)]\\n        [this[\\\"changes\\\"].subscribe((function (val){!(this.valueFromJulia[\\\"changes\\\"]) ? (WebIO.setval({\\\"name\\\":\\\"changes\\\",\\\"scope\\\":\\\"925122228397481237\\\",\\\"id\\\":\\\"ob_661\\\",\\\"type\\\":\\\"observable\\\"},val)) : undefined; return this.valueFromJulia[\\\"changes\\\"]=false}),self),this[\\\"index\\\"].subscribe((function (val){!(this.valueFromJulia[\\\"index\\\"]) ? (WebIO.setval({\\\"name\\\":\\\"index\\\",\\\"scope\\\":\\\"925122228397481237\\\",\\\"id\\\":\\\"ob_660\\\",\\\"type\\\":\\\"observable\\\"},val)) : undefined; return this.valueFromJulia[\\\"index\\\"]=false}),self)]\\n        \\n    }\\n    self.model = new AppViewModel();\\n    self.valueFromJulia = {};\\n    for (var key in json_data) {\\n        self.valueFromJulia[key] = false;\\n    }\\n    ko.applyBindings(self.model, self.dom);\\n}\\n);\\n    (WebIO.importBlock({\\\"data\\\":[{\\\"name\\\":\\\"knockout\\\",\\\"type\\\":\\\"js\\\",\\\"url\\\":\\\"\\/assetserver\\/0e408749c48bdf320cff510588f31e1b0173133c-knockout.js\\\"},{\\\"name\\\":\\\"knockout_punches\\\",\\\"type\\\":\\\"js\\\",\\\"url\\\":\\\"\\/assetserver\\/a3a43557819f8cc1c4cea9496b4d4a77212507ee-knockout_punches.js\\\"}],\\\"type\\\":\\\"async_block\\\"})).then((imports) => handler.apply(this, imports));\\n}\\n\"],\"observables\":{\"changes\":{\"sync\":false,\"id\":\"ob_661\",\"value\":0},\"index\":{\"sync\":true,\"id\":\"ob_660\",\"value\":10}}},\"children\":[{\"props\":{\"className\":\"interact-flex-row interact-widget\"},\"nodeType\":\"DOM\",\"type\":\"node\",\"instanceArgs\":{\"namespace\":\"html\",\"tag\":\"div\"},\"children\":[{\"props\":{\"className\":\"interact-flex-row-left\"},\"nodeType\":\"DOM\",\"type\":\"node\",\"instanceArgs\":{\"namespace\":\"html\",\"tag\":\"div\"},\"children\":[{\"props\":{\"className\":\"interact \",\"style\":{\"padding\":\"5px 10px 0px 10px\"}},\"nodeType\":\"DOM\",\"type\":\"node\",\"instanceArgs\":{\"namespace\":\"html\",\"tag\":\"label\"},\"children\":[\"sample step\"]}]},{\"props\":{\"className\":\"interact-flex-row-center\"},\"nodeType\":\"DOM\",\"type\":\"node\",\"instanceArgs\":{\"namespace\":\"html\",\"tag\":\"div\"},\"children\":[{\"props\":{\"max\":100,\"min\":1,\"attributes\":{\"type\":\"range\",\"data-bind\":\"numericValue: index, valueUpdate: 'input', event: {change: function (){this.changes(this.changes()+1)}}\",\"orient\":\"horizontal\"},\"step\":1,\"className\":\"slider slider is-fullwidth\",\"style\":{}},\"nodeType\":\"DOM\",\"type\":\"node\",\"instanceArgs\":{\"namespace\":\"html\",\"tag\":\"input\"},\"children\":[]}]},{\"props\":{\"className\":\"interact-flex-row-right\"},\"nodeType\":\"DOM\",\"type\":\"node\",\"instanceArgs\":{\"namespace\":\"html\",\"tag\":\"div\"},\"children\":[{\"props\":{\"attributes\":{\"data-bind\":\"text: formatted_val\"}},\"nodeType\":\"DOM\",\"type\":\"node\",\"instanceArgs\":{\"namespace\":\"html\",\"tag\":\"p\"},\"children\":[]}]}]}]}]},{\"props\":{\"className\":\"field interact-widget\"},\"nodeType\":\"DOM\",\"type\":\"node\",\"instanceArgs\":{\"namespace\":\"html\",\"tag\":\"div\"},\"children\":[{\"props\":{},\"nodeType\":\"Scope\",\"type\":\"node\",\"instanceArgs\":{\"imports\":{\"data\":[{\"name\":\"knockout\",\"type\":\"js\",\"url\":\"\\/assetserver\\/0e408749c48bdf320cff510588f31e1b0173133c-knockout.js\"},{\"name\":\"knockout_punches\",\"type\":\"js\",\"url\":\"\\/assetserver\\/a3a43557819f8cc1c4cea9496b4d4a77212507ee-knockout_punches.js\"},{\"name\":null,\"type\":\"js\",\"url\":\"\\/assetserver\\/945325143ba7fe2937cdb272fc55d17f63839e43-all.js\"},{\"name\":null,\"type\":\"css\",\"url\":\"\\/assetserver\\/7783c00ca61c9df17c8321cd19f354ef277da9b0-style.css\"},{\"name\":null,\"type\":\"css\",\"url\":\"\\/assetserver\\/b23615e7c1fa57d5c1e45c084590fb1d9bbd3c04-bulma_confined.min.css\"}],\"type\":\"async_block\"},\"id\":\"4373808426970057931\",\"handlers\":{\"changes\":[\"(function (val){return (val!=this.model[\\\"changes\\\"]()) ? (this.valueFromJulia[\\\"changes\\\"]=true, this.model[\\\"changes\\\"](val)) : undefined})\"],\"index\":[\"(function (val){return (val!=this.model[\\\"index\\\"]()) ? (this.valueFromJulia[\\\"index\\\"]=true, this.model[\\\"index\\\"](val)) : undefined})\"]},\"systemjs_options\":null,\"mount_callbacks\":[\"function () {\\n    var handler = (function (ko, koPunches) {\\n    ko.punches.enableAll();\\n    ko.bindingHandlers.numericValue = {\\n        init: function(element, valueAccessor, allBindings, data, context) {\\n            var stringified = ko.observable(ko.unwrap(valueAccessor()));\\n            stringified.subscribe(function(value) {\\n                var val = parseFloat(value);\\n                if (!isNaN(val)) {\\n                    valueAccessor()(val);\\n                }\\n            });\\n            valueAccessor().subscribe(function(value) {\\n                var str = JSON.stringify(value);\\n                if ((str == \\\"0\\\") && ([\\\"-0\\\", \\\"-0.\\\"].indexOf(stringified()) >= 0))\\n                     return;\\n                 if ([\\\"null\\\", \\\"\\\"].indexOf(str) >= 0)\\n                     return;\\n                stringified(str);\\n            });\\n            ko.applyBindingsToNode(\\n                element,\\n                {\\n                    value: stringified,\\n                    valueUpdate: allBindings.get('valueUpdate'),\\n                },\\n                context,\\n            );\\n        }\\n    };\\n    var json_data = {\\\"formatted_vals\\\":[\\\"0.0\\\",\\\"0.1\\\",\\\"0.2\\\",\\\"0.3\\\",\\\"0.4\\\",\\\"0.5\\\",\\\"0.6\\\",\\\"0.7\\\",\\\"0.8\\\",\\\"0.9\\\",\\\"1.0\\\",\\\"1.1\\\",\\\"1.2\\\",\\\"1.3\\\",\\\"1.4\\\",\\\"1.5\\\",\\\"1.6\\\",\\\"1.7\\\",\\\"1.8\\\",\\\"1.9\\\",\\\"2.0\\\",\\\"2.1\\\",\\\"2.2\\\",\\\"2.3\\\",\\\"2.4\\\",\\\"2.5\\\",\\\"2.6\\\",\\\"2.7\\\",\\\"2.8\\\",\\\"2.9\\\",\\\"3.0\\\",\\\"3.1\\\",\\\"3.2\\\",\\\"3.3\\\",\\\"3.4\\\",\\\"3.5\\\",\\\"3.6\\\",\\\"3.7\\\",\\\"3.8\\\",\\\"3.9\\\",\\\"4.0\\\",\\\"4.1\\\",\\\"4.2\\\",\\\"4.3\\\",\\\"4.4\\\",\\\"4.5\\\",\\\"4.6\\\",\\\"4.7\\\",\\\"4.8\\\",\\\"4.9\\\",\\\"5.0\\\",\\\"5.1\\\",\\\"5.2\\\",\\\"5.3\\\",\\\"5.4\\\",\\\"5.5\\\",\\\"5.6\\\",\\\"5.7\\\",\\\"5.8\\\",\\\"5.9\\\",\\\"6.0\\\",\\\"6.1\\\",\\\"6.2\\\",\\\"6.3\\\",\\\"6.4\\\",\\\"6.5\\\",\\\"6.6\\\",\\\"6.7\\\",\\\"6.8\\\",\\\"6.9\\\",\\\"7.0\\\",\\\"7.1\\\",\\\"7.2\\\",\\\"7.3\\\",\\\"7.4\\\",\\\"7.5\\\",\\\"7.6\\\",\\\"7.7\\\",\\\"7.8\\\",\\\"7.9\\\",\\\"8.0\\\",\\\"8.1\\\",\\\"8.2\\\",\\\"8.3\\\",\\\"8.4\\\",\\\"8.5\\\",\\\"8.6\\\",\\\"8.7\\\",\\\"8.8\\\",\\\"8.9\\\",\\\"9.0\\\",\\\"9.1\\\",\\\"9.2\\\",\\\"9.3\\\",\\\"9.4\\\",\\\"9.5\\\",\\\"9.6\\\",\\\"9.7\\\",\\\"9.8\\\",\\\"9.9\\\",\\\"10.0\\\",\\\"10.1\\\",\\\"10.2\\\",\\\"10.3\\\",\\\"10.4\\\",\\\"10.5\\\",\\\"10.6\\\",\\\"10.7\\\",\\\"10.8\\\",\\\"10.9\\\",\\\"11.0\\\",\\\"11.1\\\",\\\"11.2\\\",\\\"11.3\\\",\\\"11.4\\\",\\\"11.5\\\",\\\"11.6\\\",\\\"11.7\\\",\\\"11.8\\\",\\\"11.9\\\",\\\"12.0\\\",\\\"12.1\\\",\\\"12.2\\\",\\\"12.3\\\",\\\"12.4\\\",\\\"12.5\\\"],\\\"changes\\\":WebIO.getval({\\\"name\\\":\\\"changes\\\",\\\"scope\\\":\\\"4373808426970057931\\\",\\\"id\\\":\\\"ob_664\\\",\\\"type\\\":\\\"observable\\\"}),\\\"index\\\":WebIO.getval({\\\"name\\\":\\\"index\\\",\\\"scope\\\":\\\"4373808426970057931\\\",\\\"id\\\":\\\"ob_663\\\",\\\"type\\\":\\\"observable\\\"})};\\n    var self = this;\\n    function AppViewModel() {\\n        for (var key in json_data) {\\n            var el = json_data[key];\\n            this[key] = Array.isArray(el) ? ko.observableArray(el) : ko.observable(el);\\n        }\\n        \\n        [this[\\\"formatted_val\\\"]=ko.computed(    function(){\\n        return this.formatted_vals()[parseInt(this.index())-(1)];\\n    }\\n,this)]\\n        [this[\\\"changes\\\"].subscribe((function (val){!(this.valueFromJulia[\\\"changes\\\"]) ? (WebIO.setval({\\\"name\\\":\\\"changes\\\",\\\"scope\\\":\\\"4373808426970057931\\\",\\\"id\\\":\\\"ob_664\\\",\\\"type\\\":\\\"observable\\\"},val)) : undefined; return this.valueFromJulia[\\\"changes\\\"]=false}),self),this[\\\"index\\\"].subscribe((function (val){!(this.valueFromJulia[\\\"index\\\"]) ? (WebIO.setval({\\\"name\\\":\\\"index\\\",\\\"scope\\\":\\\"4373808426970057931\\\",\\\"id\\\":\\\"ob_663\\\",\\\"type\\\":\\\"observable\\\"},val)) : undefined; return this.valueFromJulia[\\\"index\\\"]=false}),self)]\\n        \\n    }\\n    self.model = new AppViewModel();\\n    self.valueFromJulia = {};\\n    for (var key in json_data) {\\n        self.valueFromJulia[key] = false;\\n    }\\n    ko.applyBindings(self.model, self.dom);\\n}\\n);\\n    (WebIO.importBlock({\\\"data\\\":[{\\\"name\\\":\\\"knockout\\\",\\\"type\\\":\\\"js\\\",\\\"url\\\":\\\"\\/assetserver\\/0e408749c48bdf320cff510588f31e1b0173133c-knockout.js\\\"},{\\\"name\\\":\\\"knockout_punches\\\",\\\"type\\\":\\\"js\\\",\\\"url\\\":\\\"\\/assetserver\\/a3a43557819f8cc1c4cea9496b4d4a77212507ee-knockout_punches.js\\\"}],\\\"type\\\":\\\"async_block\\\"})).then((imports) => handler.apply(this, imports));\\n}\\n\"],\"observables\":{\"changes\":{\"sync\":false,\"id\":\"ob_664\",\"value\":0},\"index\":{\"sync\":true,\"id\":\"ob_663\",\"value\":3}}},\"children\":[{\"props\":{\"className\":\"interact-flex-row interact-widget\"},\"nodeType\":\"DOM\",\"type\":\"node\",\"instanceArgs\":{\"namespace\":\"html\",\"tag\":\"div\"},\"children\":[{\"props\":{\"className\":\"interact-flex-row-left\"},\"nodeType\":\"DOM\",\"type\":\"node\",\"instanceArgs\":{\"namespace\":\"html\",\"tag\":\"div\"},\"children\":[{\"props\":{\"className\":\"interact \",\"style\":{\"padding\":\"5px 10px 0px 10px\"}},\"nodeType\":\"DOM\",\"type\":\"node\",\"instanceArgs\":{\"namespace\":\"html\",\"tag\":\"label\"},\"children\":[\"phase\"]}]},{\"props\":{\"className\":\"interact-flex-row-center\"},\"nodeType\":\"DOM\",\"type\":\"node\",\"instanceArgs\":{\"namespace\":\"html\",\"tag\":\"div\"},\"children\":[{\"props\":{\"max\":126,\"min\":1,\"attributes\":{\"type\":\"range\",\"data-bind\":\"numericValue: index, valueUpdate: 'input', event: {change: function (){this.changes(this.changes()+1)}}\",\"orient\":\"horizontal\"},\"step\":1,\"className\":\"slider slider is-fullwidth\",\"style\":{}},\"nodeType\":\"DOM\",\"type\":\"node\",\"instanceArgs\":{\"namespace\":\"html\",\"tag\":\"input\"},\"children\":[]}]},{\"props\":{\"className\":\"interact-flex-row-right\"},\"nodeType\":\"DOM\",\"type\":\"node\",\"instanceArgs\":{\"namespace\":\"html\",\"tag\":\"div\"},\"children\":[{\"props\":{\"attributes\":{\"data-bind\":\"text: formatted_val\"}},\"nodeType\":\"DOM\",\"type\":\"node\",\"instanceArgs\":{\"namespace\":\"html\",\"tag\":\"p\"},\"children\":[]}]}]}]}]},{\"props\":{\"className\":\"field interact-widget\"},\"nodeType\":\"DOM\",\"type\":\"node\",\"instanceArgs\":{\"namespace\":\"html\",\"tag\":\"div\"},\"children\":[{\"props\":{},\"nodeType\":\"Scope\",\"type\":\"node\",\"instanceArgs\":{\"imports\":{\"data\":[{\"name\":\"knockout\",\"type\":\"js\",\"url\":\"\\/assetserver\\/0e408749c48bdf320cff510588f31e1b0173133c-knockout.js\"},{\"name\":\"knockout_punches\",\"type\":\"js\",\"url\":\"\\/assetserver\\/a3a43557819f8cc1c4cea9496b4d4a77212507ee-knockout_punches.js\"},{\"name\":null,\"type\":\"js\",\"url\":\"\\/assetserver\\/945325143ba7fe2937cdb272fc55d17f63839e43-all.js\"},{\"name\":null,\"type\":\"css\",\"url\":\"\\/assetserver\\/7783c00ca61c9df17c8321cd19f354ef277da9b0-style.css\"},{\"name\":null,\"type\":\"css\",\"url\":\"\\/assetserver\\/b23615e7c1fa57d5c1e45c084590fb1d9bbd3c04-bulma_confined.min.css\"}],\"type\":\"async_block\"},\"id\":\"6020341609470193544\",\"handlers\":{\"changes\":[\"(function (val){return (val!=this.model[\\\"changes\\\"]()) ? (this.valueFromJulia[\\\"changes\\\"]=true, this.model[\\\"changes\\\"](val)) : undefined})\"],\"index\":[\"(function (val){return (val!=this.model[\\\"index\\\"]()) ? (this.valueFromJulia[\\\"index\\\"]=true, this.model[\\\"index\\\"](val)) : undefined})\"]},\"systemjs_options\":null,\"mount_callbacks\":[\"function () {\\n    var handler = (function (ko, koPunches) {\\n    ko.punches.enableAll();\\n    ko.bindingHandlers.numericValue = {\\n        init: function(element, valueAccessor, allBindings, data, context) {\\n            var stringified = ko.observable(ko.unwrap(valueAccessor()));\\n            stringified.subscribe(function(value) {\\n                var val = parseFloat(value);\\n                if (!isNaN(val)) {\\n                    valueAccessor()(val);\\n                }\\n            });\\n            valueAccessor().subscribe(function(value) {\\n                var str = JSON.stringify(value);\\n                if ((str == \\\"0\\\") && ([\\\"-0\\\", \\\"-0.\\\"].indexOf(stringified()) >= 0))\\n                     return;\\n                 if ([\\\"null\\\", \\\"\\\"].indexOf(str) >= 0)\\n                     return;\\n                stringified(str);\\n            });\\n            ko.applyBindingsToNode(\\n                element,\\n                {\\n                    value: stringified,\\n                    valueUpdate: allBindings.get('valueUpdate'),\\n                },\\n                context,\\n            );\\n        }\\n    };\\n    var json_data = {\\\"formatted_vals\\\":[\\\"0.1\\\",\\\"0.2\\\",\\\"0.3\\\",\\\"0.4\\\",\\\"0.5\\\",\\\"0.6\\\",\\\"0.7\\\",\\\"0.8\\\",\\\"0.9\\\",\\\"1.0\\\",\\\"1.1\\\",\\\"1.2\\\",\\\"1.3\\\",\\\"1.4\\\",\\\"1.5\\\",\\\"1.6\\\",\\\"1.7\\\",\\\"1.8\\\",\\\"1.9\\\",\\\"2.0\\\",\\\"2.1\\\",\\\"2.2\\\",\\\"2.3\\\",\\\"2.4\\\",\\\"2.5\\\",\\\"2.6\\\",\\\"2.7\\\",\\\"2.8\\\",\\\"2.9\\\",\\\"3.0\\\",\\\"3.1\\\",\\\"3.2\\\",\\\"3.3\\\",\\\"3.4\\\",\\\"3.5\\\",\\\"3.6\\\",\\\"3.7\\\",\\\"3.8\\\",\\\"3.9\\\",\\\"4.0\\\",\\\"4.1\\\",\\\"4.2\\\",\\\"4.3\\\",\\\"4.4\\\",\\\"4.5\\\",\\\"4.6\\\",\\\"4.7\\\",\\\"4.8\\\",\\\"4.9\\\",\\\"5.0\\\",\\\"5.1\\\",\\\"5.2\\\",\\\"5.3\\\",\\\"5.4\\\",\\\"5.5\\\",\\\"5.6\\\",\\\"5.7\\\",\\\"5.8\\\",\\\"5.9\\\",\\\"6.0\\\",\\\"6.1\\\",\\\"6.2\\\",\\\"6.3\\\",\\\"6.4\\\",\\\"6.5\\\",\\\"6.6\\\",\\\"6.7\\\",\\\"6.8\\\",\\\"6.9\\\",\\\"7.0\\\",\\\"7.1\\\",\\\"7.2\\\",\\\"7.3\\\",\\\"7.4\\\",\\\"7.5\\\",\\\"7.6\\\",\\\"7.7\\\",\\\"7.8\\\",\\\"7.9\\\",\\\"8.0\\\",\\\"8.1\\\",\\\"8.2\\\",\\\"8.3\\\",\\\"8.4\\\",\\\"8.5\\\",\\\"8.6\\\",\\\"8.7\\\",\\\"8.8\\\",\\\"8.9\\\",\\\"9.0\\\",\\\"9.1\\\",\\\"9.2\\\",\\\"9.3\\\",\\\"9.4\\\",\\\"9.5\\\",\\\"9.6\\\",\\\"9.7\\\",\\\"9.8\\\",\\\"9.9\\\",\\\"10.0\\\",\\\"10.1\\\",\\\"10.2\\\",\\\"10.3\\\",\\\"10.4\\\",\\\"10.5\\\",\\\"10.6\\\",\\\"10.7\\\",\\\"10.8\\\",\\\"10.9\\\",\\\"11.0\\\",\\\"11.1\\\",\\\"11.2\\\",\\\"11.3\\\",\\\"11.4\\\",\\\"11.5\\\",\\\"11.6\\\",\\\"11.7\\\",\\\"11.8\\\",\\\"11.9\\\",\\\"12.0\\\",\\\"12.1\\\",\\\"12.2\\\",\\\"12.3\\\",\\\"12.4\\\",\\\"12.5\\\",\\\"12.6\\\",\\\"12.7\\\",\\\"12.8\\\",\\\"12.9\\\",\\\"13.0\\\",\\\"13.1\\\",\\\"13.2\\\",\\\"13.3\\\",\\\"13.4\\\",\\\"13.5\\\",\\\"13.6\\\",\\\"13.7\\\",\\\"13.8\\\",\\\"13.9\\\",\\\"14.0\\\",\\\"14.1\\\",\\\"14.2\\\",\\\"14.3\\\",\\\"14.4\\\",\\\"14.5\\\",\\\"14.6\\\",\\\"14.7\\\",\\\"14.8\\\",\\\"14.9\\\",\\\"15.0\\\",\\\"15.1\\\",\\\"15.2\\\",\\\"15.3\\\",\\\"15.4\\\",\\\"15.5\\\",\\\"15.6\\\",\\\"15.7\\\",\\\"15.8\\\",\\\"15.9\\\",\\\"16.0\\\",\\\"16.1\\\",\\\"16.2\\\",\\\"16.3\\\",\\\"16.4\\\",\\\"16.5\\\",\\\"16.6\\\",\\\"16.7\\\",\\\"16.8\\\",\\\"16.9\\\",\\\"17.0\\\",\\\"17.1\\\",\\\"17.2\\\",\\\"17.3\\\",\\\"17.4\\\",\\\"17.5\\\",\\\"17.6\\\",\\\"17.7\\\",\\\"17.8\\\",\\\"17.9\\\",\\\"18.0\\\",\\\"18.1\\\",\\\"18.2\\\",\\\"18.3\\\",\\\"18.4\\\",\\\"18.5\\\",\\\"18.6\\\",\\\"18.7\\\",\\\"18.8\\\",\\\"18.9\\\",\\\"19.0\\\",\\\"19.1\\\",\\\"19.2\\\",\\\"19.3\\\",\\\"19.4\\\",\\\"19.5\\\",\\\"19.6\\\",\\\"19.7\\\",\\\"19.8\\\",\\\"19.9\\\",\\\"20.0\\\",\\\"20.1\\\",\\\"20.2\\\",\\\"20.3\\\",\\\"20.4\\\",\\\"20.5\\\",\\\"20.6\\\",\\\"20.7\\\",\\\"20.8\\\",\\\"20.9\\\",\\\"21.0\\\",\\\"21.1\\\",\\\"21.2\\\",\\\"21.3\\\",\\\"21.4\\\",\\\"21.5\\\",\\\"21.6\\\",\\\"21.7\\\",\\\"21.8\\\",\\\"21.9\\\",\\\"22.0\\\",\\\"22.1\\\",\\\"22.2\\\",\\\"22.3\\\",\\\"22.4\\\",\\\"22.5\\\",\\\"22.6\\\",\\\"22.7\\\",\\\"22.8\\\",\\\"22.9\\\",\\\"23.0\\\",\\\"23.1\\\",\\\"23.2\\\",\\\"23.3\\\",\\\"23.4\\\",\\\"23.5\\\",\\\"23.6\\\",\\\"23.7\\\",\\\"23.8\\\",\\\"23.9\\\",\\\"24.0\\\",\\\"24.1\\\",\\\"24.2\\\",\\\"24.3\\\",\\\"24.4\\\",\\\"24.5\\\",\\\"24.6\\\",\\\"24.7\\\",\\\"24.8\\\",\\\"24.9\\\",\\\"25.0\\\",\\\"25.1\\\",\\\"25.2\\\",\\\"25.3\\\",\\\"25.4\\\",\\\"25.5\\\",\\\"25.6\\\",\\\"25.7\\\",\\\"25.8\\\",\\\"25.9\\\",\\\"26.0\\\",\\\"26.1\\\",\\\"26.2\\\",\\\"26.3\\\",\\\"26.4\\\",\\\"26.5\\\",\\\"26.6\\\",\\\"26.7\\\",\\\"26.8\\\",\\\"26.9\\\",\\\"27.0\\\",\\\"27.1\\\",\\\"27.2\\\",\\\"27.3\\\",\\\"27.4\\\",\\\"27.5\\\",\\\"27.6\\\",\\\"27.7\\\",\\\"27.8\\\",\\\"27.9\\\",\\\"28.0\\\",\\\"28.1\\\",\\\"28.2\\\",\\\"28.3\\\",\\\"28.4\\\",\\\"28.5\\\",\\\"28.6\\\",\\\"28.7\\\",\\\"28.8\\\",\\\"28.9\\\",\\\"29.0\\\",\\\"29.1\\\",\\\"29.2\\\",\\\"29.3\\\",\\\"29.4\\\",\\\"29.5\\\",\\\"29.6\\\",\\\"29.7\\\",\\\"29.8\\\",\\\"29.9\\\",\\\"30.0\\\",\\\"30.1\\\",\\\"30.2\\\",\\\"30.3\\\",\\\"30.4\\\",\\\"30.5\\\",\\\"30.6\\\",\\\"30.7\\\",\\\"30.8\\\",\\\"30.9\\\",\\\"31.0\\\",\\\"31.1\\\",\\\"31.2\\\",\\\"31.3\\\",\\\"31.4\\\",\\\"31.5\\\",\\\"31.6\\\",\\\"31.7\\\",\\\"31.8\\\",\\\"31.9\\\",\\\"32.0\\\",\\\"32.1\\\",\\\"32.2\\\",\\\"32.3\\\",\\\"32.4\\\",\\\"32.5\\\",\\\"32.6\\\",\\\"32.7\\\",\\\"32.8\\\",\\\"32.9\\\",\\\"33.0\\\",\\\"33.1\\\",\\\"33.2\\\",\\\"33.3\\\",\\\"33.4\\\",\\\"33.5\\\",\\\"33.6\\\",\\\"33.7\\\",\\\"33.8\\\",\\\"33.9\\\",\\\"34.0\\\",\\\"34.1\\\",\\\"34.2\\\",\\\"34.3\\\",\\\"34.4\\\",\\\"34.5\\\",\\\"34.6\\\",\\\"34.7\\\",\\\"34.8\\\",\\\"34.9\\\",\\\"35.0\\\",\\\"35.1\\\",\\\"35.2\\\",\\\"35.3\\\",\\\"35.4\\\",\\\"35.5\\\",\\\"35.6\\\",\\\"35.7\\\",\\\"35.8\\\",\\\"35.9\\\",\\\"36.0\\\",\\\"36.1\\\",\\\"36.2\\\",\\\"36.3\\\",\\\"36.4\\\",\\\"36.5\\\",\\\"36.6\\\",\\\"36.7\\\",\\\"36.8\\\",\\\"36.9\\\",\\\"37.0\\\",\\\"37.1\\\",\\\"37.2\\\",\\\"37.3\\\",\\\"37.4\\\",\\\"37.5\\\",\\\"37.6\\\",\\\"37.7\\\",\\\"37.8\\\",\\\"37.9\\\",\\\"38.0\\\",\\\"38.1\\\",\\\"38.2\\\",\\\"38.3\\\",\\\"38.4\\\",\\\"38.5\\\",\\\"38.6\\\",\\\"38.7\\\",\\\"38.8\\\",\\\"38.9\\\",\\\"39.0\\\",\\\"39.1\\\",\\\"39.2\\\",\\\"39.3\\\",\\\"39.4\\\",\\\"39.5\\\",\\\"39.6\\\",\\\"39.7\\\",\\\"39.8\\\",\\\"39.9\\\",\\\"40.0\\\",\\\"40.1\\\",\\\"40.2\\\",\\\"40.3\\\",\\\"40.4\\\",\\\"40.5\\\",\\\"40.6\\\",\\\"40.7\\\",\\\"40.8\\\",\\\"40.9\\\",\\\"41.0\\\",\\\"41.1\\\",\\\"41.2\\\",\\\"41.3\\\",\\\"41.4\\\",\\\"41.5\\\",\\\"41.6\\\",\\\"41.7\\\",\\\"41.8\\\",\\\"41.9\\\",\\\"42.0\\\",\\\"42.1\\\",\\\"42.2\\\",\\\"42.3\\\",\\\"42.4\\\",\\\"42.5\\\",\\\"42.6\\\",\\\"42.7\\\",\\\"42.8\\\",\\\"42.9\\\",\\\"43.0\\\",\\\"43.1\\\",\\\"43.2\\\",\\\"43.3\\\",\\\"43.4\\\",\\\"43.5\\\",\\\"43.6\\\",\\\"43.7\\\",\\\"43.8\\\",\\\"43.9\\\",\\\"44.0\\\",\\\"44.1\\\",\\\"44.2\\\",\\\"44.3\\\",\\\"44.4\\\",\\\"44.5\\\",\\\"44.6\\\",\\\"44.7\\\",\\\"44.8\\\",\\\"44.9\\\",\\\"45.0\\\",\\\"45.1\\\",\\\"45.2\\\",\\\"45.3\\\",\\\"45.4\\\",\\\"45.5\\\",\\\"45.6\\\",\\\"45.7\\\",\\\"45.8\\\",\\\"45.9\\\",\\\"46.0\\\",\\\"46.1\\\",\\\"46.2\\\",\\\"46.3\\\",\\\"46.4\\\",\\\"46.5\\\",\\\"46.6\\\",\\\"46.7\\\",\\\"46.8\\\",\\\"46.9\\\",\\\"47.0\\\",\\\"47.1\\\",\\\"47.2\\\",\\\"47.3\\\",\\\"47.4\\\",\\\"47.5\\\",\\\"47.6\\\",\\\"47.7\\\",\\\"47.8\\\",\\\"47.9\\\",\\\"48.0\\\",\\\"48.1\\\",\\\"48.2\\\",\\\"48.3\\\",\\\"48.4\\\",\\\"48.5\\\",\\\"48.6\\\",\\\"48.7\\\",\\\"48.8\\\",\\\"48.9\\\",\\\"49.0\\\",\\\"49.1\\\",\\\"49.2\\\",\\\"49.3\\\",\\\"49.4\\\",\\\"49.5\\\",\\\"49.6\\\",\\\"49.7\\\",\\\"49.8\\\",\\\"49.9\\\",\\\"50.0\\\",\\\"50.1\\\",\\\"50.2\\\",\\\"50.3\\\",\\\"50.4\\\",\\\"50.5\\\",\\\"50.6\\\",\\\"50.7\\\",\\\"50.8\\\",\\\"50.9\\\",\\\"51.0\\\",\\\"51.1\\\",\\\"51.2\\\",\\\"51.3\\\",\\\"51.4\\\",\\\"51.5\\\",\\\"51.6\\\",\\\"51.7\\\",\\\"51.8\\\",\\\"51.9\\\",\\\"52.0\\\",\\\"52.1\\\",\\\"52.2\\\",\\\"52.3\\\",\\\"52.4\\\",\\\"52.5\\\",\\\"52.6\\\",\\\"52.7\\\",\\\"52.8\\\",\\\"52.9\\\",\\\"53.0\\\",\\\"53.1\\\",\\\"53.2\\\",\\\"53.3\\\",\\\"53.4\\\",\\\"53.5\\\",\\\"53.6\\\",\\\"53.7\\\",\\\"53.8\\\",\\\"53.9\\\",\\\"54.0\\\",\\\"54.1\\\",\\\"54.2\\\",\\\"54.3\\\",\\\"54.4\\\",\\\"54.5\\\",\\\"54.6\\\",\\\"54.7\\\",\\\"54.8\\\",\\\"54.9\\\",\\\"55.0\\\",\\\"55.1\\\",\\\"55.2\\\",\\\"55.3\\\",\\\"55.4\\\",\\\"55.5\\\",\\\"55.6\\\",\\\"55.7\\\",\\\"55.8\\\",\\\"55.9\\\",\\\"56.0\\\",\\\"56.1\\\",\\\"56.2\\\",\\\"56.3\\\",\\\"56.4\\\",\\\"56.5\\\",\\\"56.6\\\",\\\"56.7\\\",\\\"56.8\\\",\\\"56.9\\\",\\\"57.0\\\",\\\"57.1\\\",\\\"57.2\\\",\\\"57.3\\\",\\\"57.4\\\",\\\"57.5\\\",\\\"57.6\\\",\\\"57.7\\\",\\\"57.8\\\",\\\"57.9\\\",\\\"58.0\\\",\\\"58.1\\\",\\\"58.2\\\",\\\"58.3\\\",\\\"58.4\\\",\\\"58.5\\\",\\\"58.6\\\",\\\"58.7\\\",\\\"58.8\\\",\\\"58.9\\\",\\\"59.0\\\",\\\"59.1\\\",\\\"59.2\\\",\\\"59.3\\\",\\\"59.4\\\",\\\"59.5\\\",\\\"59.6\\\",\\\"59.7\\\",\\\"59.8\\\",\\\"59.9\\\",\\\"60.0\\\"],\\\"changes\\\":WebIO.getval({\\\"name\\\":\\\"changes\\\",\\\"scope\\\":\\\"6020341609470193544\\\",\\\"id\\\":\\\"ob_667\\\",\\\"type\\\":\\\"observable\\\"}),\\\"index\\\":WebIO.getval({\\\"name\\\":\\\"index\\\",\\\"scope\\\":\\\"6020341609470193544\\\",\\\"id\\\":\\\"ob_666\\\",\\\"type\\\":\\\"observable\\\"})};\\n    var self = this;\\n    function AppViewModel() {\\n        for (var key in json_data) {\\n            var el = json_data[key];\\n            this[key] = Array.isArray(el) ? ko.observableArray(el) : ko.observable(el);\\n        }\\n        \\n        [this[\\\"formatted_val\\\"]=ko.computed(    function(){\\n        return this.formatted_vals()[parseInt(this.index())-(1)];\\n    }\\n,this)]\\n        [this[\\\"changes\\\"].subscribe((function (val){!(this.valueFromJulia[\\\"changes\\\"]) ? (WebIO.setval({\\\"name\\\":\\\"changes\\\",\\\"scope\\\":\\\"6020341609470193544\\\",\\\"id\\\":\\\"ob_667\\\",\\\"type\\\":\\\"observable\\\"},val)) : undefined; return this.valueFromJulia[\\\"changes\\\"]=false}),self),this[\\\"index\\\"].subscribe((function (val){!(this.valueFromJulia[\\\"index\\\"]) ? (WebIO.setval({\\\"name\\\":\\\"index\\\",\\\"scope\\\":\\\"6020341609470193544\\\",\\\"id\\\":\\\"ob_666\\\",\\\"type\\\":\\\"observable\\\"},val)) : undefined; return this.valueFromJulia[\\\"index\\\"]=false}),self)]\\n        \\n    }\\n    self.model = new AppViewModel();\\n    self.valueFromJulia = {};\\n    for (var key in json_data) {\\n        self.valueFromJulia[key] = false;\\n    }\\n    ko.applyBindings(self.model, self.dom);\\n}\\n);\\n    (WebIO.importBlock({\\\"data\\\":[{\\\"name\\\":\\\"knockout\\\",\\\"type\\\":\\\"js\\\",\\\"url\\\":\\\"\\/assetserver\\/0e408749c48bdf320cff510588f31e1b0173133c-knockout.js\\\"},{\\\"name\\\":\\\"knockout_punches\\\",\\\"type\\\":\\\"js\\\",\\\"url\\\":\\\"\\/assetserver\\/a3a43557819f8cc1c4cea9496b4d4a77212507ee-knockout_punches.js\\\"}],\\\"type\\\":\\\"async_block\\\"})).then((imports) => handler.apply(this, imports));\\n}\\n\"],\"observables\":{\"changes\":{\"sync\":false,\"id\":\"ob_667\",\"value\":0},\"index\":{\"sync\":true,\"id\":\"ob_666\",\"value\":300}}},\"children\":[{\"props\":{\"className\":\"interact-flex-row interact-widget\"},\"nodeType\":\"DOM\",\"type\":\"node\",\"instanceArgs\":{\"namespace\":\"html\",\"tag\":\"div\"},\"children\":[{\"props\":{\"className\":\"interact-flex-row-left\"},\"nodeType\":\"DOM\",\"type\":\"node\",\"instanceArgs\":{\"namespace\":\"html\",\"tag\":\"div\"},\"children\":[{\"props\":{\"className\":\"interact \",\"style\":{\"padding\":\"5px 10px 0px 10px\"}},\"nodeType\":\"DOM\",\"type\":\"node\",\"instanceArgs\":{\"namespace\":\"html\",\"tag\":\"label\"},\"children\":[\"radii\"]}]},{\"props\":{\"className\":\"interact-flex-row-center\"},\"nodeType\":\"DOM\",\"type\":\"node\",\"instanceArgs\":{\"namespace\":\"html\",\"tag\":\"div\"},\"children\":[{\"props\":{\"max\":600,\"min\":1,\"attributes\":{\"type\":\"range\",\"data-bind\":\"numericValue: index, valueUpdate: 'input', event: {change: function (){this.changes(this.changes()+1)}}\",\"orient\":\"horizontal\"},\"step\":1,\"className\":\"slider slider is-fullwidth\",\"style\":{}},\"nodeType\":\"DOM\",\"type\":\"node\",\"instanceArgs\":{\"namespace\":\"html\",\"tag\":\"input\"},\"children\":[]}]},{\"props\":{\"className\":\"interact-flex-row-right\"},\"nodeType\":\"DOM\",\"type\":\"node\",\"instanceArgs\":{\"namespace\":\"html\",\"tag\":\"div\"},\"children\":[{\"props\":{\"attributes\":{\"data-bind\":\"text: formatted_val\"}},\"nodeType\":\"DOM\",\"type\":\"node\",\"instanceArgs\":{\"namespace\":\"html\",\"tag\":\"p\"},\"children\":[]}]}]}]}]},{\"props\":{},\"nodeType\":\"Scope\",\"type\":\"node\",\"instanceArgs\":{\"imports\":{\"data\":[],\"type\":\"async_block\"},\"id\":\"15420151266532131490\",\"handlers\":{},\"systemjs_options\":null,\"mount_callbacks\":[],\"observables\":{\"obs-node\":{\"sync\":false,\"id\":\"ob_671\",\"value\":{\"props\":{\"className\":\"interact-flex-row interact-widget\"},\"nodeType\":\"DOM\",\"type\":\"node\",\"instanceArgs\":{\"namespace\":\"html\",\"tag\":\"div\"},\"children\":[{\"props\":{\"attributes\":{\"height\":\"300\",\"width\":\"700\"}},\"nodeType\":\"DOM\",\"type\":\"node\",\"instanceArgs\":{\"namespace\":\"svg\",\"tag\":\"svg\"},\"children\":[{\"props\":{\"attributes\":{\"cy\":\"179.55202066613396\",\"r\":\"30.0\",\"fill\":\"gray\",\"cx\":\"16.711269024649013\"}},\"nodeType\":\"DOM\",\"type\":\"node\",\"instanceArgs\":{\"namespace\":\"svg\",\"tag\":\"circle\"},\"children\":[]},{\"props\":{\"attributes\":{\"cy\":\"188.94183423086506\",\"r\":\"30.0\",\"fill\":\"silver\",\"cx\":\"22.281692032865347\"}},\"nodeType\":\"DOM\",\"type\":\"node\",\"instanceArgs\":{\"namespace\":\"svg\",\"tag\":\"circle\"},\"children\":[]},{\"props\":{\"attributes\":{\"cy\":\"197.9425538604203\",\"r\":\"30.0\",\"fill\":\"maroon\",\"cx\":\"27.852115041081685\"}},\"nodeType\":\"DOM\",\"type\":\"node\",\"instanceArgs\":{\"namespace\":\"svg\",\"tag\":\"circle\"},\"children\":[]},{\"props\":{\"attributes\":{\"cy\":\"206.46424733950354\",\"r\":\"30.0\",\"fill\":\"red\",\"cx\":\"33.422538049298026\"}},\"nodeType\":\"DOM\",\"type\":\"node\",\"instanceArgs\":{\"namespace\":\"svg\",\"tag\":\"circle\"},\"children\":[]},{\"props\":{\"attributes\":{\"cy\":\"214.4217687237691\",\"r\":\"30.0\",\"fill\":\"olive\",\"cx\":\"38.99296105751436\"}},\"nodeType\":\"DOM\",\"type\":\"node\",\"instanceArgs\":{\"namespace\":\"svg\",\"tag\":\"circle\"},\"children\":[]},{\"props\":{\"attributes\":{\"cy\":\"221.73560908995228\",\"r\":\"30.0\",\"fill\":\"yellow\",\"cx\":\"44.563384065730695\"}},\"nodeType\":\"DOM\",\"type\":\"node\",\"instanceArgs\":{\"namespace\":\"svg\",\"tag\":\"circle\"},\"children\":[]},{\"props\":{\"attributes\":{\"cy\":\"228.33269096274836\",\"r\":\"30.0\",\"fill\":\"green\",\"cx\":\"50.13380707394704\"}},\"nodeType\":\"DOM\",\"type\":\"node\",\"instanceArgs\":{\"namespace\":\"svg\",\"tag\":\"circle\"},\"children\":[]},{\"props\":{\"attributes\":{\"cy\":\"234.14709848078965\",\"r\":\"30.0\",\"fill\":\"lime\",\"cx\":\"55.70423008216337\"}},\"nodeType\":\"DOM\",\"type\":\"node\",\"instanceArgs\":{\"namespace\":\"svg\",\"tag\":\"circle\"},\"children\":[]},{\"props\":{\"attributes\":{\"cy\":\"239.12073600614355\",\"r\":\"30.0\",\"fill\":\"teal\",\"cx\":\"61.274653090379715\"}},\"nodeType\":\"DOM\",\"type\":\"node\",\"instanceArgs\":{\"namespace\":\"svg\",\"tag\":\"circle\"},\"children\":[]},{\"props\":{\"attributes\":{\"cy\":\"243.2039085967226\",\"r\":\"30.0\",\"fill\":\"aqua\",\"cx\":\"66.84507609859604\"}},\"nodeType\":\"DOM\",\"type\":\"node\",\"instanceArgs\":{\"namespace\":\"svg\",\"tag\":\"circle\"},\"children\":[]},{\"props\":{\"attributes\":{\"cy\":\"246.35581854171932\",\"r\":\"30.0\",\"fill\":\"navy\",\"cx\":\"72.41549910681238\"}},\"nodeType\":\"DOM\",\"type\":\"node\",\"instanceArgs\":{\"namespace\":\"svg\",\"tag\":\"circle\"},\"children\":[]},{\"props\":{\"attributes\":{\"cy\":\"248.54497299884605\",\"r\":\"30.0\",\"fill\":\"blue\",\"cx\":\"77.98592211502873\"}},\"nodeType\":\"DOM\",\"type\":\"node\",\"instanceArgs\":{\"namespace\":\"svg\",\"tag\":\"circle\"},\"children\":[]},{\"props\":{\"attributes\":{\"cy\":\"249.74949866040544\",\"r\":\"30.0\",\"fill\":\"purple\",\"cx\":\"83.55634512324505\"}},\"nodeType\":\"DOM\",\"type\":\"node\",\"instanceArgs\":{\"namespace\":\"svg\",\"tag\":\"circle\"},\"children\":[]},{\"props\":{\"attributes\":{\"cy\":\"249.95736030415048\",\"r\":\"30.0\",\"fill\":\"fuchsia\",\"cx\":\"89.12676813146139\"}},\"nodeType\":\"DOM\",\"type\":\"node\",\"instanceArgs\":{\"namespace\":\"svg\",\"tag\":\"circle\"},\"children\":[]},{\"props\":{\"attributes\":{\"cy\":\"249.16648104524688\",\"r\":\"30.0\",\"fill\":\"black\",\"cx\":\"94.69719113967773\"}},\"nodeType\":\"DOM\",\"type\":\"node\",\"instanceArgs\":{\"namespace\":\"svg\",\"tag\":\"circle\"},\"children\":[]},{\"props\":{\"attributes\":{\"cy\":\"247.38476308781952\",\"r\":\"30.0\",\"fill\":\"gray\",\"cx\":\"100.26761414789407\"}},\"nodeType\":\"DOM\",\"type\":\"node\",\"instanceArgs\":{\"namespace\":\"svg\",\"tag\":\"circle\"},\"children\":[]},{\"props\":{\"attributes\":{\"cy\":\"244.63000876874145\",\"r\":\"30.0\",\"fill\":\"silver\",\"cx\":\"105.8380371561104\"}},\"nodeType\":\"DOM\",\"type\":\"node\",\"instanceArgs\":{\"namespace\":\"svg\",\"tag\":\"circle\"},\"children\":[]},{\"props\":{\"attributes\":{\"cy\":\"240.9297426825682\",\"r\":\"30.0\",\"fill\":\"maroon\",\"cx\":\"111.40846016432674\"}},\"nodeType\":\"DOM\",\"type\":\"node\",\"instanceArgs\":{\"namespace\":\"svg\",\"tag\":\"circle\"},\"children\":[]},{\"props\":{\"attributes\":{\"cy\":\"236.32093666488737\",\"r\":\"30.0\",\"fill\":\"red\",\"cx\":\"116.97888317254308\"}},\"nodeType\":\"DOM\",\"type\":\"node\",\"instanceArgs\":{\"namespace\":\"svg\",\"tag\":\"circle\"},\"children\":[]},{\"props\":{\"attributes\":{\"cy\":\"230.849640381959\",\"r\":\"30.0\",\"fill\":\"olive\",\"cx\":\"122.54930618075943\"}},\"nodeType\":\"DOM\",\"type\":\"node\",\"instanceArgs\":{\"namespace\":\"svg\",\"tag\":\"circle\"},\"children\":[]},{\"props\":{\"attributes\":{\"cy\":\"224.57052121767202\",\"r\":\"30.0\",\"fill\":\"yellow\",\"cx\":\"128.11972918897578\"}},\"nodeType\":\"DOM\",\"type\":\"node\",\"instanceArgs\":{\"namespace\":\"svg\",\"tag\":\"circle\"},\"children\":[]},{\"props\":{\"attributes\":{\"cy\":\"217.54631805511508\",\"r\":\"30.0\",\"fill\":\"green\",\"cx\":\"133.6901521971921\"}},\"nodeType\":\"DOM\",\"type\":\"node\",\"instanceArgs\":{\"namespace\":\"svg\",\"tag\":\"circle\"},\"children\":[]},{\"props\":{\"attributes\":{\"cy\":\"209.84721441039562\",\"r\":\"30.0\",\"fill\":\"lime\",\"cx\":\"139.26057520540843\"}},\"nodeType\":\"DOM\",\"type\":\"node\",\"instanceArgs\":{\"namespace\":\"svg\",\"tag\":\"circle\"},\"children\":[]},{\"props\":{\"attributes\":{\"cy\":\"201.5501371821464\",\"r\":\"30.0\",\"fill\":\"teal\",\"cx\":\"144.8309982136248\"}},\"nodeType\":\"DOM\",\"type\":\"node\",\"instanceArgs\":{\"namespace\":\"svg\",\"tag\":\"circle\"},\"children\":[]},{\"props\":{\"attributes\":{\"cy\":\"192.73798802338297\",\"r\":\"30.0\",\"fill\":\"aqua\",\"cx\":\"150.4014212218411\"}},\"nodeType\":\"DOM\",\"type\":\"node\",\"instanceArgs\":{\"namespace\":\"svg\",\"tag\":\"circle\"},\"children\":[]},{\"props\":{\"attributes\":{\"cy\":\"183.49881501559048\",\"r\":\"30.0\",\"fill\":\"navy\",\"cx\":\"155.97184423005746\"}},\"nodeType\":\"DOM\",\"type\":\"node\",\"instanceArgs\":{\"namespace\":\"svg\",\"tag\":\"circle\"},\"children\":[]},{\"props\":{\"attributes\":{\"cy\":\"173.9249329213982\",\"r\":\"30.0\",\"fill\":\"blue\",\"cx\":\"161.54226723827378\"}},\"nodeType\":\"DOM\",\"type\":\"node\",\"instanceArgs\":{\"namespace\":\"svg\",\"tag\":\"circle\"},\"children\":[]},{\"props\":{\"attributes\":{\"cy\":\"164.11200080598667\",\"r\":\"30.0\",\"fill\":\"purple\",\"cx\":\"167.11269024649013\"}},\"nodeType\":\"DOM\",\"type\":\"node\",\"instanceArgs\":{\"namespace\":\"svg\",\"tag\":\"circle\"},\"children\":[]},{\"props\":{\"attributes\":{\"cy\":\"154.15806624332902\",\"r\":\"30.0\",\"fill\":\"fuchsia\",\"cx\":\"172.68311325470648\"}},\"nodeType\":\"DOM\",\"type\":\"node\",\"instanceArgs\":{\"namespace\":\"svg\",\"tag\":\"circle\"},\"children\":[]},{\"props\":{\"attributes\":{\"cy\":\"144.162585657242\",\"r\":\"30.0\",\"fill\":\"black\",\"cx\":\"178.25353626292278\"}},\"nodeType\":\"DOM\",\"type\":\"node\",\"instanceArgs\":{\"namespace\":\"svg\",\"tag\":\"circle\"},\"children\":[]},{\"props\":{\"attributes\":{\"cy\":\"134.22543058567513\",\"r\":\"30.0\",\"fill\":\"gray\",\"cx\":\"183.82395927113913\"}},\"nodeType\":\"DOM\",\"type\":\"node\",\"instanceArgs\":{\"namespace\":\"svg\",\"tag\":\"circle\"},\"children\":[]},{\"props\":{\"attributes\":{\"cy\":\"124.44588979731684\",\"r\":\"30.0\",\"fill\":\"silver\",\"cx\":\"189.39438227935548\"}},\"nodeType\":\"DOM\",\"type\":\"node\",\"instanceArgs\":{\"namespace\":\"svg\",\"tag\":\"circle\"},\"children\":[]},{\"props\":{\"attributes\":{\"cy\":\"114.92167723103796\",\"r\":\"30.0\",\"fill\":\"maroon\",\"cx\":\"194.96480528757183\"}},\"nodeType\":\"DOM\",\"type\":\"node\",\"instanceArgs\":{\"namespace\":\"svg\",\"tag\":\"circle\"},\"children\":[]},{\"props\":{\"attributes\":{\"cy\":\"105.74795567051473\",\"r\":\"30.0\",\"fill\":\"red\",\"cx\":\"200.53522829578816\"}},\"nodeType\":\"DOM\",\"type\":\"node\",\"instanceArgs\":{\"namespace\":\"svg\",\"tag\":\"circle\"},\"children\":[]},{\"props\":{\"attributes\":{\"cy\":\"97.01638590915067\",\"r\":\"30.0\",\"fill\":\"olive\",\"cx\":\"206.10565130400448\"}},\"nodeType\":\"DOM\",\"type\":\"node\",\"instanceArgs\":{\"namespace\":\"svg\",\"tag\":\"circle\"},\"children\":[]},{\"props\":{\"attributes\":{\"cy\":\"88.81421090572806\",\"r\":\"30.0\",\"fill\":\"yellow\",\"cx\":\"211.6760743122208\"}},\"nodeType\":\"DOM\",\"type\":\"node\",\"instanceArgs\":{\"namespace\":\"svg\",\"tag\":\"circle\"},\"children\":[]},{\"props\":{\"attributes\":{\"cy\":\"81.22338408160259\",\"r\":\"30.0\",\"fill\":\"green\",\"cx\":\"217.2464973204372\"}},\"nodeType\":\"DOM\",\"type\":\"node\",\"instanceArgs\":{\"namespace\":\"svg\",\"tag\":\"circle\"},\"children\":[]},{\"props\":{\"attributes\":{\"cy\":\"74.31975046920718\",\"r\":\"30.0\",\"fill\":\"lime\",\"cx\":\"222.81692032865348\"}},\"nodeType\":\"DOM\",\"type\":\"node\",\"instanceArgs\":{\"namespace\":\"svg\",\"tag\":\"circle\"},\"children\":[]},{\"props\":{\"attributes\":{\"cy\":\"68.17228889355893\",\"r\":\"30.0\",\"fill\":\"teal\",\"cx\":\"228.38734333686986\"}},\"nodeType\":\"DOM\",\"type\":\"node\",\"instanceArgs\":{\"namespace\":\"svg\",\"tag\":\"circle\"},\"children\":[]},{\"props\":{\"attributes\":{\"cy\":\"62.84242275864118\",\"r\":\"30.0\",\"fill\":\"aqua\",\"cx\":\"233.95776634508616\"}},\"nodeType\":\"DOM\",\"type\":\"node\",\"instanceArgs\":{\"namespace\":\"svg\",\"tag\":\"circle\"},\"children\":[]},{\"props\":{\"attributes\":{\"cy\":\"58.38340632505448\",\"r\":\"30.0\",\"fill\":\"navy\",\"cx\":\"239.52818935330254\"}},\"nodeType\":\"DOM\",\"type\":\"node\",\"instanceArgs\":{\"namespace\":\"svg\",\"tag\":\"circle\"},\"children\":[]},{\"props\":{\"attributes\":{\"cy\":\"54.83979261104838\",\"r\":\"30.0\",\"fill\":\"blue\",\"cx\":\"245.09861236151886\"}},\"nodeType\":\"DOM\",\"type\":\"node\",\"instanceArgs\":{\"namespace\":\"svg\",\"tag\":\"circle\"},\"children\":[]},{\"props\":{\"attributes\":{\"cy\":\"52.2469882334903\",\"r\":\"30.0\",\"fill\":\"purple\",\"cx\":\"250.66903536973516\"}},\"nodeType\":\"DOM\",\"type\":\"node\",\"instanceArgs\":{\"namespace\":\"svg\",\"tag\":\"circle\"},\"children\":[]},{\"props\":{\"attributes\":{\"cy\":\"50.63089963665355\",\"r\":\"30.0\",\"fill\":\"fuchsia\",\"cx\":\"256.23945837795156\"}},\"nodeType\":\"DOM\",\"type\":\"node\",\"instanceArgs\":{\"namespace\":\"svg\",\"tag\":\"circle\"},\"children\":[]},{\"props\":{\"attributes\":{\"cy\":\"50.00767424358992\",\"r\":\"30.0\",\"fill\":\"black\",\"cx\":\"261.80988138616783\"}},\"nodeType\":\"DOM\",\"type\":\"node\",\"instanceArgs\":{\"namespace\":\"svg\",\"tag\":\"circle\"},\"children\":[]},{\"props\":{\"attributes\":{\"cy\":\"50.383539116415946\",\"r\":\"30.0\",\"fill\":\"gray\",\"cx\":\"267.3803043943842\"}},\"nodeType\":\"DOM\",\"type\":\"node\",\"instanceArgs\":{\"namespace\":\"svg\",\"tag\":\"circle\"},\"children\":[]},{\"props\":{\"attributes\":{\"cy\":\"51.754738737566754\",\"r\":\"30.0\",\"fill\":\"silver\",\"cx\":\"272.95072740260053\"}},\"nodeType\":\"DOM\",\"type\":\"node\",\"instanceArgs\":{\"namespace\":\"svg\",\"tag\":\"circle\"},\"children\":[]},{\"props\":{\"attributes\":{\"cy\":\"54.10757253368617\",\"r\":\"30.0\",\"fill\":\"maroon\",\"cx\":\"278.52115041081686\"}},\"nodeType\":\"DOM\",\"type\":\"node\",\"instanceArgs\":{\"namespace\":\"svg\",\"tag\":\"circle\"},\"children\":[]},{\"props\":{\"attributes\":{\"cy\":\"57.418531767226796\",\"r\":\"30.0\",\"fill\":\"red\",\"cx\":\"284.09157341903324\"}},\"nodeType\":\"DOM\",\"type\":\"node\",\"instanceArgs\":{\"namespace\":\"svg\",\"tag\":\"circle\"},\"children\":[]},{\"props\":{\"attributes\":{\"cy\":\"61.654534427984686\",\"r\":\"30.0\",\"fill\":\"olive\",\"cx\":\"289.6619964272495\"}},\"nodeType\":\"DOM\",\"type\":\"node\",\"instanceArgs\":{\"namespace\":\"svg\",\"tag\":\"circle\"},\"children\":[]},{\"props\":{\"attributes\":{\"cy\":\"66.77325577760992\",\"r\":\"30.0\",\"fill\":\"yellow\",\"cx\":\"295.2324194354659\"}},\"nodeType\":\"DOM\",\"type\":\"node\",\"instanceArgs\":{\"namespace\":\"svg\",\"tag\":\"circle\"},\"children\":[]},{\"props\":{\"attributes\":{\"cy\":\"72.72355124440129\",\"r\":\"30.0\",\"fill\":\"green\",\"cx\":\"300.8028424436822\"}},\"nodeType\":\"DOM\",\"type\":\"node\",\"instanceArgs\":{\"namespace\":\"svg\",\"tag\":\"circle\"},\"children\":[]},{\"props\":{\"attributes\":{\"cy\":\"79.44596744296088\",\"r\":\"30.0\",\"fill\":\"lime\",\"cx\":\"306.3732654518986\"}},\"nodeType\":\"DOM\",\"type\":\"node\",\"instanceArgs\":{\"namespace\":\"svg\",\"tag\":\"circle\"},\"children\":[]},{\"props\":{\"attributes\":{\"cy\":\"86.87333621276792\",\"r\":\"30.0\",\"fill\":\"teal\",\"cx\":\"311.9436884601149\"}},\"nodeType\":\"DOM\",\"type\":\"node\",\"instanceArgs\":{\"namespace\":\"svg\",\"tag\":\"circle\"},\"children\":[]},{\"props\":{\"attributes\":{\"cy\":\"94.93144574023623\",\"r\":\"30.0\",\"fill\":\"aqua\",\"cx\":\"317.5141114683312\"}},\"nodeType\":\"DOM\",\"type\":\"node\",\"instanceArgs\":{\"namespace\":\"svg\",\"tag\":\"circle\"},\"children\":[]},{\"props\":{\"attributes\":{\"cy\":\"103.53978205862435\",\"r\":\"30.0\",\"fill\":\"navy\",\"cx\":\"323.08453447654756\"}},\"nodeType\":\"DOM\",\"type\":\"node\",\"instanceArgs\":{\"namespace\":\"svg\",\"tag\":\"circle\"},\"children\":[]},{\"props\":{\"attributes\":{\"cy\":\"112.6123335169764\",\"r\":\"30.0\",\"fill\":\"blue\",\"cx\":\"328.6549574847639\"}},\"nodeType\":\"DOM\",\"type\":\"node\",\"instanceArgs\":{\"namespace\":\"svg\",\"tag\":\"circle\"},\"children\":[]},{\"props\":{\"attributes\":{\"cy\":\"122.0584501801075\",\"r\":\"30.0\",\"fill\":\"purple\",\"cx\":\"334.22538049298026\"}},\"nodeType\":\"DOM\",\"type\":\"node\",\"instanceArgs\":{\"namespace\":\"svg\",\"tag\":\"circle\"},\"children\":[]},{\"props\":{\"attributes\":{\"cy\":\"131.7837495727905\",\"r\":\"30.0\",\"fill\":\"fuchsia\",\"cx\":\"339.79580350119653\"}},\"nodeType\":\"DOM\",\"type\":\"node\",\"instanceArgs\":{\"namespace\":\"svg\",\"tag\":\"circle\"},\"children\":[]},{\"props\":{\"attributes\":{\"cy\":\"141.69105971825036\",\"r\":\"30.0\",\"fill\":\"black\",\"cx\":\"345.3662265094129\"}},\"nodeType\":\"DOM\",\"type\":\"node\",\"instanceArgs\":{\"namespace\":\"svg\",\"tag\":\"circle\"},\"children\":[]},{\"props\":{\"attributes\":{\"cy\":\"151.68139004843505\",\"r\":\"30.0\",\"fill\":\"gray\",\"cx\":\"350.9366495176293\"}},\"nodeType\":\"DOM\",\"type\":\"node\",\"instanceArgs\":{\"namespace\":\"svg\",\"tag\":\"circle\"},\"children\":[]},{\"props\":{\"attributes\":{\"cy\":\"161.65492048504936\",\"r\":\"30.0\",\"fill\":\"silver\",\"cx\":\"356.50707252584556\"}},\"nodeType\":\"DOM\",\"type\":\"node\",\"instanceArgs\":{\"namespace\":\"svg\",\"tag\":\"circle\"},\"children\":[]},{\"props\":{\"attributes\":{\"cy\":\"171.51199880878164\",\"r\":\"30.0\",\"fill\":\"maroon\",\"cx\":\"362.077495534062\"}},\"nodeType\":\"DOM\",\"type\":\"node\",\"instanceArgs\":{\"namespace\":\"svg\",\"tag\":\"circle\"},\"children\":[]},{\"props\":{\"attributes\":{\"cy\":\"181.15413635133785\",\"r\":\"30.0\",\"fill\":\"red\",\"cx\":\"367.64791854227826\"}},\"nodeType\":\"DOM\",\"type\":\"node\",\"instanceArgs\":{\"namespace\":\"svg\",\"tag\":\"circle\"},\"children\":[]},{\"props\":{\"attributes\":{\"cy\":\"190.48499206165982\",\"r\":\"30.0\",\"fill\":\"olive\",\"cx\":\"373.2183415504946\"}},\"nodeType\":\"DOM\",\"type\":\"node\",\"instanceArgs\":{\"namespace\":\"svg\",\"tag\":\"circle\"},\"children\":[]},{\"props\":{\"attributes\":{\"cy\":\"199.4113351138609\",\"r\":\"30.0\",\"fill\":\"yellow\",\"cx\":\"378.78876455871097\"}},\"nodeType\":\"DOM\",\"type\":\"node\",\"instanceArgs\":{\"namespace\":\"svg\",\"tag\":\"circle\"},\"children\":[]},{\"props\":{\"attributes\":{\"cy\":\"207.84397643882002\",\"r\":\"30.0\",\"fill\":\"green\",\"cx\":\"384.35918756692723\"}},\"nodeType\":\"DOM\",\"type\":\"node\",\"instanceArgs\":{\"namespace\":\"svg\",\"tag\":\"circle\"},\"children\":[]},{\"props\":{\"attributes\":{\"cy\":\"215.698659871879\",\"r\":\"30.0\",\"fill\":\"lime\",\"cx\":\"389.92961057514367\"}},\"nodeType\":\"DOM\",\"type\":\"node\",\"instanceArgs\":{\"namespace\":\"svg\",\"tag\":\"circle\"},\"children\":[]},{\"props\":{\"attributes\":{\"cy\":\"222.89690401258764\",\"r\":\"30.0\",\"fill\":\"teal\",\"cx\":\"395.50003358335994\"}},\"nodeType\":\"DOM\",\"type\":\"node\",\"instanceArgs\":{\"namespace\":\"svg\",\"tag\":\"circle\"},\"children\":[]},{\"props\":{\"attributes\":{\"cy\":\"229.36678638491532\",\"r\":\"30.0\",\"fill\":\"aqua\",\"cx\":\"401.07045659157626\"}},\"nodeType\":\"DOM\",\"type\":\"node\",\"instanceArgs\":{\"namespace\":\"svg\",\"tag\":\"circle\"},\"children\":[]},{\"props\":{\"attributes\":{\"cy\":\"235.04366206285647\",\"r\":\"30.0\",\"fill\":\"navy\",\"cx\":\"406.6408795997927\"}},\"nodeType\":\"DOM\",\"type\":\"node\",\"instanceArgs\":{\"namespace\":\"svg\",\"tag\":\"circle\"},\"children\":[]},{\"props\":{\"attributes\":{\"cy\":\"239.8708095811627\",\"r\":\"30.0\",\"fill\":\"blue\",\"cx\":\"412.21130260800896\"}},\"nodeType\":\"DOM\",\"type\":\"node\",\"instanceArgs\":{\"namespace\":\"svg\",\"tag\":\"circle\"},\"children\":[]},{\"props\":{\"attributes\":{\"cy\":\"243.79999767747393\",\"r\":\"30.0\",\"fill\":\"purple\",\"cx\":\"417.78172561622534\"}},\"nodeType\":\"DOM\",\"type\":\"node\",\"instanceArgs\":{\"namespace\":\"svg\",\"tag\":\"circle\"},\"children\":[]},{\"props\":{\"attributes\":{\"cy\":\"246.79196720314866\",\"r\":\"30.0\",\"fill\":\"fuchsia\",\"cx\":\"423.3521486244416\"}},\"nodeType\":\"DOM\",\"type\":\"node\",\"instanceArgs\":{\"namespace\":\"svg\",\"tag\":\"circle\"},\"children\":[]},{\"props\":{\"attributes\":{\"cy\":\"248.81682338770003\",\"r\":\"30.0\",\"fill\":\"black\",\"cx\":\"428.92257163265793\"}},\"nodeType\":\"DOM\",\"type\":\"node\",\"instanceArgs\":{\"namespace\":\"svg\",\"tag\":\"circle\"},\"children\":[]},{\"props\":{\"attributes\":{\"cy\":\"249.8543345374605\",\"r\":\"30.0\",\"fill\":\"gray\",\"cx\":\"434.4929946408744\"}},\"nodeType\":\"DOM\",\"type\":\"node\",\"instanceArgs\":{\"namespace\":\"svg\",\"tag\":\"circle\"},\"children\":[]},{\"props\":{\"attributes\":{\"cy\":\"249.8941341839772\",\"r\":\"30.0\",\"fill\":\"silver\",\"cx\":\"440.06341764909064\"}},\"nodeType\":\"DOM\",\"type\":\"node\",\"instanceArgs\":{\"namespace\":\"svg\",\"tag\":\"circle\"},\"children\":[]},{\"props\":{\"attributes\":{\"cy\":\"248.93582466233818\",\"r\":\"30.0\",\"fill\":\"maroon\",\"cx\":\"445.63384065730696\"}},\"nodeType\":\"DOM\",\"type\":\"node\",\"instanceArgs\":{\"namespace\":\"svg\",\"tag\":\"circle\"},\"children\":[]},{\"props\":{\"attributes\":{\"cy\":\"246.98898108450862\",\"r\":\"30.0\",\"fill\":\"red\",\"cx\":\"451.2042636655233\"}},\"nodeType\":\"DOM\",\"type\":\"node\",\"instanceArgs\":{\"namespace\":\"svg\",\"tag\":\"circle\"},\"children\":[]},{\"props\":{\"attributes\":{\"cy\":\"244.07305566797731\",\"r\":\"30.0\",\"fill\":\"olive\",\"cx\":\"456.77468667373955\"}},\"nodeType\":\"DOM\",\"type\":\"node\",\"instanceArgs\":{\"namespace\":\"svg\",\"tag\":\"circle\"},\"children\":[]},{\"props\":{\"attributes\":{\"cy\":\"240.21718337562942\",\"r\":\"30.0\",\"fill\":\"yellow\",\"cx\":\"462.3451096819559\"}},\"nodeType\":\"DOM\",\"type\":\"node\",\"instanceArgs\":{\"namespace\":\"svg\",\"tag\":\"circle\"},\"children\":[]},{\"props\":{\"attributes\":{\"cy\":\"235.45989080882805\",\"r\":\"30.0\",\"fill\":\"green\",\"cx\":\"467.9155326901723\"}},\"nodeType\":\"DOM\",\"type\":\"node\",\"instanceArgs\":{\"namespace\":\"svg\",\"tag\":\"circle\"},\"children\":[]},{\"props\":{\"attributes\":{\"cy\":\"229.848711262349\",\"r\":\"30.0\",\"fill\":\"lime\",\"cx\":\"473.48595569838864\"}},\"nodeType\":\"DOM\",\"type\":\"node\",\"instanceArgs\":{\"namespace\":\"svg\",\"tag\":\"circle\"},\"children\":[]},{\"props\":{\"attributes\":{\"cy\":\"223.43970978741135\",\"r\":\"30.0\",\"fill\":\"teal\",\"cx\":\"479.05637870660496\"}},\"nodeType\":\"DOM\",\"type\":\"node\",\"instanceArgs\":{\"namespace\":\"svg\",\"tag\":\"circle\"},\"children\":[]},{\"props\":{\"attributes\":{\"cy\":\"216.29692300821836\",\"r\":\"30.0\",\"fill\":\"aqua\",\"cx\":\"484.6268017148212\"}},\"nodeType\":\"DOM\",\"type\":\"node\",\"instanceArgs\":{\"namespace\":\"svg\",\"tag\":\"circle\"},\"children\":[]},{\"props\":{\"attributes\":{\"cy\":\"208.4917192891763\",\"r\":\"30.0\",\"fill\":\"navy\",\"cx\":\"490.1972247230376\"}},\"nodeType\":\"DOM\",\"type\":\"node\",\"instanceArgs\":{\"namespace\":\"svg\",\"tag\":\"circle\"},\"children\":[]},{\"props\":{\"attributes\":{\"cy\":\"200.10208564578846\",\"r\":\"30.0\",\"fill\":\"blue\",\"cx\":\"495.767647731254\"}},\"nodeType\":\"DOM\",\"type\":\"node\",\"instanceArgs\":{\"namespace\":\"svg\",\"tag\":\"circle\"},\"children\":[]},{\"props\":{\"attributes\":{\"cy\":\"191.21184852417565\",\"r\":\"30.0\",\"fill\":\"purple\",\"cx\":\"501.3380707394703\"}},\"nodeType\":\"DOM\",\"type\":\"node\",\"instanceArgs\":{\"namespace\":\"svg\",\"tag\":\"circle\"},\"children\":[]},{\"props\":{\"attributes\":{\"cy\":\"181.9098362349352\",\"r\":\"30.0\",\"fill\":\"fuchsia\",\"cx\":\"506.9084937476867\"}},\"nodeType\":\"DOM\",\"type\":\"node\",\"instanceArgs\":{\"namespace\":\"svg\",\"tag\":\"circle\"},\"children\":[]},{\"props\":{\"attributes\":{\"cy\":\"172.28899141002478\",\"r\":\"30.0\",\"fill\":\"black\",\"cx\":\"512.4789167559029\"}},\"nodeType\":\"DOM\",\"type\":\"node\",\"instanceArgs\":{\"namespace\":\"svg\",\"tag\":\"circle\"},\"children\":[]},{\"props\":{\"attributes\":{\"cy\":\"162.44544235070634\",\"r\":\"30.0\",\"fill\":\"gray\",\"cx\":\"518.0493397641193\"}},\"nodeType\":\"DOM\",\"type\":\"node\",\"instanceArgs\":{\"namespace\":\"svg\",\"tag\":\"circle\"},\"children\":[]},{\"props\":{\"attributes\":{\"cy\":\"152.47754254533578\",\"r\":\"30.0\",\"fill\":\"silver\",\"cx\":\"523.6197627723357\"}},\"nodeType\":\"DOM\",\"type\":\"node\",\"instanceArgs\":{\"namespace\":\"svg\",\"tag\":\"circle\"},\"children\":[]},{\"props\":{\"attributes\":{\"cy\":\"142.48488795381908\",\"r\":\"30.0\",\"fill\":\"maroon\",\"cx\":\"529.190185780552\"}},\"nodeType\":\"DOM\",\"type\":\"node\",\"instanceArgs\":{\"namespace\":\"svg\",\"tag\":\"circle\"},\"children\":[]},{\"props\":{\"attributes\":{\"cy\":\"132.56732187770203\",\"r\":\"30.0\",\"fill\":\"red\",\"cx\":\"534.7606087887683\"}},\"nodeType\":\"DOM\",\"type\":\"node\",\"instanceArgs\":{\"namespace\":\"svg\",\"tag\":\"circle\"},\"children\":[]},{\"props\":{\"attributes\":{\"cy\":\"122.82393735890575\",\"r\":\"30.0\",\"fill\":\"olive\",\"cx\":\"540.3310317969846\"}},\"nodeType\":\"DOM\",\"type\":\"node\",\"instanceArgs\":{\"namespace\":\"svg\",\"tag\":\"circle\"},\"children\":[]},{\"props\":{\"attributes\":{\"cy\":\"113.35208707480717\",\"r\":\"30.0\",\"fill\":\"yellow\",\"cx\":\"545.9014548052011\"}},\"nodeType\":\"DOM\",\"type\":\"node\",\"instanceArgs\":{\"namespace\":\"svg\",\"tag\":\"circle\"},\"children\":[]},{\"props\":{\"attributes\":{\"cy\":\"104.24641062246786\",\"r\":\"30.0\",\"fill\":\"green\",\"cx\":\"551.4718778134173\"}},\"nodeType\":\"DOM\",\"type\":\"node\",\"instanceArgs\":{\"namespace\":\"svg\",\"tag\":\"circle\"},\"children\":[]},{\"props\":{\"attributes\":{\"cy\":\"95.59788891106302\",\"r\":\"30.0\",\"fill\":\"lime\",\"cx\":\"557.0423008216337\"}},\"nodeType\":\"DOM\",\"type\":\"node\",\"instanceArgs\":{\"namespace\":\"svg\",\"tag\":\"circle\"},\"children\":[]},{\"props\":{\"attributes\":{\"cy\":\"87.49293511071178\",\"r\":\"30.0\",\"fill\":\"teal\",\"cx\":\"562.61272382985\"}},\"nodeType\":\"DOM\",\"type\":\"node\",\"instanceArgs\":{\"namespace\":\"svg\",\"tag\":\"circle\"},\"children\":[]},{\"props\":{\"attributes\":{\"cy\":\"80.01253124064577\",\"r\":\"30.0\",\"fill\":\"aqua\",\"cx\":\"568.1831468380662\"}},\"nodeType\":\"DOM\",\"type\":\"node\",\"instanceArgs\":{\"namespace\":\"svg\",\"tag\":\"circle\"},\"children\":[]}]}]}}}},\"children\":[{\"props\":{},\"nodeType\":\"ObservableNode\",\"type\":\"node\",\"instanceArgs\":{\"id\":\"ob_671\",\"name\":\"obs-node\"},\"children\":[]}]}]},\n",
       "            window,\n",
       "        );\n",
       "    } else {\n",
       "        document\n",
       "            .querySelector('[data-webio-mountpoint=\"15262048178436443418\"]')\n",
       "            .innerHTML = (\n",
       "                '<div style=\"padding: 1em; background-color: #f8d6da; border: 1px solid #f5c6cb\">' +\n",
       "                '<p><strong>WebIO not detected.</strong></p>' +\n",
       "                '<p>Please read ' +\n",
       "                '<a href=\"https://juliagizmos.github.io/WebIO.jl/latest/troubleshooting/not-detected/\" target=\"_blank\">the troubleshooting guide</a> ' +\n",
       "                'for more information on how to resolve this issue.</p>' +\n",
       "                '<p><a href=\"https://juliagizmos.github.io/WebIO.jl/latest/troubleshooting/not-detected/\" target=\"_blank\">https://juliagizmos.github.io/WebIO.jl/latest/troubleshooting/not-detected/</a></p>' +\n",
       "                '</div>'\n",
       "            );\n",
       "    }\n",
       "    </script>\n",
       "</div>\n"
      ],
      "text/plain": [
       "Node{WebIO.DOM}(WebIO.DOM(:html, :div), Any[Node{WebIO.DOM}(WebIO.DOM(:html, :div), Any[Scope(Node{WebIO.DOM}(WebIO.DOM(:html, :div), Any[Node{WebIO.DOM}(WebIO.DOM(:html, :div), Any[Node{WebIO.DOM}(WebIO.DOM(:html, :label), Any[\"nsamples\"], Dict{Symbol,Any}(:className => \"interact \",:style => Dict{Any,Any}(:padding => \"5px 10px 0px 10px\")))], Dict{Symbol,Any}(:className => \"interact-flex-row-left\")), Node{WebIO.DOM}(WebIO.DOM(:html, :div), Any[Node{WebIO.DOM}(WebIO.DOM(:html, :input), Any[], Dict{Symbol,Any}(:max => 200,:min => 1,:attributes => Dict{Any,Any}(:type => \"range\",Symbol(\"data-bind\") => \"numericValue: index, valueUpdate: 'input', event: {change: function (){this.changes(this.changes()+1)}}\",\"orient\" => \"horizontal\"),:step => 1,:className => \"slider slider is-fullwidth\",:style => Dict{Any,Any}()))], Dict{Symbol,Any}(:className => \"interact-flex-row-center\")), Node{WebIO.DOM}(WebIO.DOM(:html, :div), Any[Node{WebIO.DOM}(WebIO.DOM(:html, :p), Any[], Dict{Symbol,Any}(:attributes => Dict(\"data-bind\" => \"text: formatted_val\")))], Dict{Symbol,Any}(:className => \"interact-flex-row-right\"))], Dict{Symbol,Any}(:className => \"interact-flex-row interact-widget\")), Dict{String,Tuple{Observables.AbstractObservable,Union{Nothing, Bool}}}(\"changes\" => (Observable{Int64} with 1 listeners. Value:\n",
       "0, nothing),\"index\" => (Observable{Int64} with 2 listeners. Value:\n",
       "100, nothing)), Set(String[]), nothing, Asset[Asset(\"js\", \"knockout\", \"/Users/adrita/.julia/packages/Knockout/1sDlc/src/../assets/knockout.js\"), Asset(\"js\", \"knockout_punches\", \"/Users/adrita/.julia/packages/Knockout/1sDlc/src/../assets/knockout_punches.js\"), Asset(\"js\", nothing, \"/Users/adrita/.julia/packages/InteractBase/9mFwe/src/../assets/all.js\"), Asset(\"css\", nothing, \"/Users/adrita/.julia/packages/InteractBase/9mFwe/src/../assets/style.css\"), Asset(\"css\", nothing, \"/Users/adrita/.julia/packages/Interact/SbgIk/src/../assets/bulma_confined.min.css\")], Dict{Any,Any}(\"changes\" => Any[WebIO.JSString(\"(function (val){return (val!=this.model[\\\"changes\\\"]()) ? (this.valueFromJulia[\\\"changes\\\"]=true, this.model[\\\"changes\\\"](val)) : undefined})\")],\"index\" => Any[WebIO.JSString(\"(function (val){return (val!=this.model[\\\"index\\\"]()) ? (this.valueFromJulia[\\\"index\\\"]=true, this.model[\\\"index\\\"](val)) : undefined})\")]), WebIO.ConnectionPool(Channel{Any}(sz_max:32,sz_curr:0), Set(AbstractConnection[]), Base.GenericCondition{Base.AlwaysLockedST}(Base.InvasiveLinkedList{Task}(Task (runnable) @0x000000011d3b6d10, Task (runnable) @0x000000011d3b6d10), Base.AlwaysLockedST(1))), WebIO.JSString[WebIO.JSString(\"function () {\\n    var handler = (function (ko, koPunches) {\\n    ko.punches.enableAll();\\n    ko.bindingHandlers.numericValue = {\\n        init: function(element, valueAccessor, allBindings, data, context) {\\n            var stringified = ko.observable(ko.unwrap(valueAccessor()));\\n            stringified.subscribe(function(value) {\\n                var val = parseFloat(value);\\n                if (!isNaN(val)) {\\n                    valueAccessor()(val);\\n                }\\n            });\\n            valueAccessor().subscribe(function(value) {\\n                var str = JSON.stringify(value);\\n                if ((str == \\\"0\\\") && ([\\\"-0\\\", \\\"-0.\\\"].indexOf(stringified()) >= 0))\\n                     return;\\n                 if ([\\\"null\\\", \\\"\\\"].indexOf(str) >= 0)\\n                     return;\\n                stringified(str);\\n            });\\n            ko.applyBindingsToNode(\\n                element,\\n                {\\n                    value: stringified,\\n                    valueUpdate: allBindings.get('valueUpdate'),\\n                },\\n                context,\\n            );\\n        }\\n    };\\n    var json_data = {\\\"formatted_vals\\\":[\\\"1\\\",\\\"2\\\",\\\"3\\\",\\\"4\\\",\\\"5\\\",\\\"6\\\",\\\"7\\\",\\\"8\\\",\\\"9\\\",\\\"10\\\",\\\"11\\\",\\\"12\\\",\\\"13\\\",\\\"14\\\",\\\"15\\\",\\\"16\\\",\\\"17\\\",\\\"18\\\",\\\"19\\\",\\\"20\\\",\\\"21\\\",\\\"22\\\",\\\"23\\\",\\\"24\\\",\\\"25\\\",\\\"26\\\",\\\"27\\\",\\\"28\\\",\\\"29\\\",\\\"30\\\",\\\"31\\\",\\\"32\\\",\\\"33\\\",\\\"34\\\",\\\"35\\\",\\\"36\\\",\\\"37\\\",\\\"38\\\",\\\"39\\\",\\\"40\\\",\\\"41\\\",\\\"42\\\",\\\"43\\\",\\\"44\\\",\\\"45\\\",\\\"46\\\",\\\"47\\\",\\\"48\\\",\\\"49\\\",\\\"50\\\",\\\"51\\\",\\\"52\\\",\\\"53\\\",\\\"54\\\",\\\"55\\\",\\\"56\\\",\\\"57\\\",\\\"58\\\",\\\"59\\\",\\\"60\\\",\\\"61\\\",\\\"62\\\",\\\"63\\\",\\\"64\\\",\\\"65\\\",\\\"66\\\",\\\"67\\\",\\\"68\\\",\\\"69\\\",\\\"70\\\",\\\"71\\\",\\\"72\\\",\\\"73\\\",\\\"74\\\",\\\"75\\\",\\\"76\\\",\\\"77\\\",\\\"78\\\",\\\"79\\\",\\\"80\\\",\\\"81\\\",\\\"82\\\",\\\"83\\\",\\\"84\\\",\\\"85\\\",\\\"86\\\",\\\"87\\\",\\\"88\\\",\\\"89\\\",\\\"90\\\",\\\"91\\\",\\\"92\\\",\\\"93\\\",\\\"94\\\",\\\"95\\\",\\\"96\\\",\\\"97\\\",\\\"98\\\",\\\"99\\\",\\\"100\\\",\\\"101\\\",\\\"102\\\",\\\"103\\\",\\\"104\\\",\\\"105\\\",\\\"106\\\",\\\"107\\\",\\\"108\\\",\\\"109\\\",\\\"110\\\",\\\"111\\\",\\\"112\\\",\\\"113\\\",\\\"114\\\",\\\"115\\\",\\\"116\\\",\\\"117\\\",\\\"118\\\",\\\"119\\\",\\\"120\\\",\\\"121\\\",\\\"122\\\",\\\"123\\\",\\\"124\\\",\\\"125\\\",\\\"126\\\",\\\"127\\\",\\\"128\\\",\\\"129\\\",\\\"130\\\",\\\"131\\\",\\\"132\\\",\\\"133\\\",\\\"134\\\",\\\"135\\\",\\\"136\\\",\\\"137\\\",\\\"138\\\",\\\"139\\\",\\\"140\\\",\\\"141\\\",\\\"142\\\",\\\"143\\\",\\\"144\\\",\\\"145\\\",\\\"146\\\",\\\"147\\\",\\\"148\\\",\\\"149\\\",\\\"150\\\",\\\"151\\\",\\\"152\\\",\\\"153\\\",\\\"154\\\",\\\"155\\\",\\\"156\\\",\\\"157\\\",\\\"158\\\",\\\"159\\\",\\\"160\\\",\\\"161\\\",\\\"162\\\",\\\"163\\\",\\\"164\\\",\\\"165\\\",\\\"166\\\",\\\"167\\\",\\\"168\\\",\\\"169\\\",\\\"170\\\",\\\"171\\\",\\\"172\\\",\\\"173\\\",\\\"174\\\",\\\"175\\\",\\\"176\\\",\\\"177\\\",\\\"178\\\",\\\"179\\\",\\\"180\\\",\\\"181\\\",\\\"182\\\",\\\"183\\\",\\\"184\\\",\\\"185\\\",\\\"186\\\",\\\"187\\\",\\\"188\\\",\\\"189\\\",\\\"190\\\",\\\"191\\\",\\\"192\\\",\\\"193\\\",\\\"194\\\",\\\"195\\\",\\\"196\\\",\\\"197\\\",\\\"198\\\",\\\"199\\\",\\\"200\\\"],\\\"changes\\\":WebIO.getval({\\\"name\\\":\\\"changes\\\",\\\"scope\\\":\\\"18259801315482872728\\\",\\\"id\\\":\\\"ob_658\\\",\\\"type\\\":\\\"observable\\\"}),\\\"index\\\":WebIO.getval({\\\"name\\\":\\\"index\\\",\\\"scope\\\":\\\"18259801315482872728\\\",\\\"id\\\":\\\"ob_657\\\",\\\"type\\\":\\\"observable\\\"})};\\n    var self = this;\\n    function AppViewModel() {\\n        for (var key in json_data) {\\n            var el = json_data[key];\\n            this[key] = Array.isArray(el) ? ko.observableArray(el) : ko.observable(el);\\n        }\\n        \\n        [this[\\\"formatted_val\\\"]=ko.computed(    function(){\\n        return this.formatted_vals()[parseInt(this.index())-(1)];\\n    }\\n,this)]\\n        [this[\\\"changes\\\"].subscribe((function (val){!(this.valueFromJulia[\\\"changes\\\"]) ? (WebIO.setval({\\\"name\\\":\\\"changes\\\",\\\"scope\\\":\\\"18259801315482872728\\\",\\\"id\\\":\\\"ob_658\\\",\\\"type\\\":\\\"observable\\\"},val)) : undefined; return this.valueFromJulia[\\\"changes\\\"]=false}),self),this[\\\"index\\\"].subscribe((function (val){!(this.valueFromJulia[\\\"index\\\"]) ? (WebIO.setval({\\\"name\\\":\\\"index\\\",\\\"scope\\\":\\\"18259801315482872728\\\",\\\"id\\\":\\\"ob_657\\\",\\\"type\\\":\\\"observable\\\"},val)) : undefined; return this.valueFromJulia[\\\"index\\\"]=false}),self)]\\n        \\n    }\\n    self.model = new AppViewModel();\\n    self.valueFromJulia = {};\\n    for (var key in json_data) {\\n        self.valueFromJulia[key] = false;\\n    }\\n    ko.applyBindings(self.model, self.dom);\\n}\\n);\\n    (WebIO.importBlock({\\\"data\\\":[{\\\"name\\\":\\\"knockout\\\",\\\"type\\\":\\\"js\\\",\\\"url\\\":\\\"/assetserver/0e408749c48bdf320cff510588f31e1b0173133c-knockout.js\\\"},{\\\"name\\\":\\\"knockout_punches\\\",\\\"type\\\":\\\"js\\\",\\\"url\\\":\\\"/assetserver/a3a43557819f8cc1c4cea9496b4d4a77212507ee-knockout_punches.js\\\"}],\\\"type\\\":\\\"async_block\\\"})).then((imports) => handler.apply(this, imports));\\n}\\n\")])], Dict{Symbol,Any}(:className => \"field interact-widget\")), Node{WebIO.DOM}(WebIO.DOM(:html, :div), Any[Scope(Node{WebIO.DOM}(WebIO.DOM(:html, :div), Any[Node{WebIO.DOM}(WebIO.DOM(:html, :div), Any[Node{WebIO.DOM}(WebIO.DOM(:html, :label), Any[\"sample step\"], Dict{Symbol,Any}(:className => \"interact \",:style => Dict{Any,Any}(:padding => \"5px 10px 0px 10px\")))], Dict{Symbol,Any}(:className => \"interact-flex-row-left\")), Node{WebIO.DOM}(WebIO.DOM(:html, :div), Any[Node{WebIO.DOM}(WebIO.DOM(:html, :input), Any[], Dict{Symbol,Any}(:max => 100,:min => 1,:attributes => Dict{Any,Any}(:type => \"range\",Symbol(\"data-bind\") => \"numericValue: index, valueUpdate: 'input', event: {change: function (){this.changes(this.changes()+1)}}\",\"orient\" => \"horizontal\"),:step => 1,:className => \"slider slider is-fullwidth\",:style => Dict{Any,Any}()))], Dict{Symbol,Any}(:className => \"interact-flex-row-center\")), Node{WebIO.DOM}(WebIO.DOM(:html, :div), Any[Node{WebIO.DOM}(WebIO.DOM(:html, :p), Any[], Dict{Symbol,Any}(:attributes => Dict(\"data-bind\" => \"text: formatted_val\")))], Dict{Symbol,Any}(:className => \"interact-flex-row-right\"))], Dict{Symbol,Any}(:className => \"interact-flex-row interact-widget\")), Dict{String,Tuple{Observables.AbstractObservable,Union{Nothing, Bool}}}(\"changes\" => (Observable{Int64} with 1 listeners. Value:\n",
       "0, nothing),\"index\" => (Observable{Any} with 2 listeners. Value:\n",
       "10, nothing)), Set(String[]), nothing, Asset[Asset(\"js\", \"knockout\", \"/Users/adrita/.julia/packages/Knockout/1sDlc/src/../assets/knockout.js\"), Asset(\"js\", \"knockout_punches\", \"/Users/adrita/.julia/packages/Knockout/1sDlc/src/../assets/knockout_punches.js\"), Asset(\"js\", nothing, \"/Users/adrita/.julia/packages/InteractBase/9mFwe/src/../assets/all.js\"), Asset(\"css\", nothing, \"/Users/adrita/.julia/packages/InteractBase/9mFwe/src/../assets/style.css\"), Asset(\"css\", nothing, \"/Users/adrita/.julia/packages/Interact/SbgIk/src/../assets/bulma_confined.min.css\")], Dict{Any,Any}(\"changes\" => Any[WebIO.JSString(\"(function (val){return (val!=this.model[\\\"changes\\\"]()) ? (this.valueFromJulia[\\\"changes\\\"]=true, this.model[\\\"changes\\\"](val)) : undefined})\")],\"index\" => Any[WebIO.JSString(\"(function (val){return (val!=this.model[\\\"index\\\"]()) ? (this.valueFromJulia[\\\"index\\\"]=true, this.model[\\\"index\\\"](val)) : undefined})\")]), WebIO.ConnectionPool(Channel{Any}(sz_max:32,sz_curr:0), Set(AbstractConnection[]), Base.GenericCondition{Base.AlwaysLockedST}(Base.InvasiveLinkedList{Task}(Task (runnable) @0x000000011d3b7190, Task (runnable) @0x000000011d3b7190), Base.AlwaysLockedST(1))), WebIO.JSString[WebIO.JSString(\"function () {\\n    var handler = (function (ko, koPunches) {\\n    ko.punches.enableAll();\\n    ko.bindingHandlers.numericValue = {\\n        init: function(element, valueAccessor, allBindings, data, context) {\\n            var stringified = ko.observable(ko.unwrap(valueAccessor()));\\n            stringified.subscribe(function(value) {\\n                var val = parseFloat(value);\\n                if (!isNaN(val)) {\\n                    valueAccessor()(val);\\n                }\\n            });\\n            valueAccessor().subscribe(function(value) {\\n                var str = JSON.stringify(value);\\n                if ((str == \\\"0\\\") && ([\\\"-0\\\", \\\"-0.\\\"].indexOf(stringified()) >= 0))\\n                     return;\\n                 if ([\\\"null\\\", \\\"\\\"].indexOf(str) >= 0)\\n                     return;\\n                stringified(str);\\n            });\\n            ko.applyBindingsToNode(\\n                element,\\n                {\\n                    value: stringified,\\n                    valueUpdate: allBindings.get('valueUpdate'),\\n                },\\n                context,\\n            );\\n        }\\n    };\\n    var json_data = {\\\"formatted_vals\\\":[\\\"0.01\\\",\\\"0.02\\\",\\\"0.03\\\",\\\"0.04\\\",\\\"0.05\\\",\\\"0.06\\\",\\\"0.07\\\",\\\"0.08\\\",\\\"0.09\\\",\\\"0.1\\\",\\\"0.11\\\",\\\"0.12\\\",\\\"0.13\\\",\\\"0.14\\\",\\\"0.15\\\",\\\"0.16\\\",\\\"0.17\\\",\\\"0.18\\\",\\\"0.19\\\",\\\"0.2\\\",\\\"0.21\\\",\\\"0.22\\\",\\\"0.23\\\",\\\"0.24\\\",\\\"0.25\\\",\\\"0.26\\\",\\\"0.27\\\",\\\"0.28\\\",\\\"0.29\\\",\\\"0.3\\\",\\\"0.31\\\",\\\"0.32\\\",\\\"0.33\\\",\\\"0.34\\\",\\\"0.35\\\",\\\"0.36\\\",\\\"0.37\\\",\\\"0.38\\\",\\\"0.39\\\",\\\"0.4\\\",\\\"0.41\\\",\\\"0.42\\\",\\\"0.43\\\",\\\"0.44\\\",\\\"0.45\\\",\\\"0.46\\\",\\\"0.47\\\",\\\"0.48\\\",\\\"0.49\\\",\\\"0.5\\\",\\\"0.51\\\",\\\"0.52\\\",\\\"0.53\\\",\\\"0.54\\\",\\\"0.55\\\",\\\"0.56\\\",\\\"0.57\\\",\\\"0.58\\\",\\\"0.59\\\",\\\"0.6\\\",\\\"0.61\\\",\\\"0.62\\\",\\\"0.63\\\",\\\"0.64\\\",\\\"0.65\\\",\\\"0.66\\\",\\\"0.67\\\",\\\"0.68\\\",\\\"0.69\\\",\\\"0.7\\\",\\\"0.71\\\",\\\"0.72\\\",\\\"0.73\\\",\\\"0.74\\\",\\\"0.75\\\",\\\"0.76\\\",\\\"0.77\\\",\\\"0.78\\\",\\\"0.79\\\",\\\"0.8\\\",\\\"0.81\\\",\\\"0.82\\\",\\\"0.83\\\",\\\"0.84\\\",\\\"0.85\\\",\\\"0.86\\\",\\\"0.87\\\",\\\"0.88\\\",\\\"0.89\\\",\\\"0.9\\\",\\\"0.91\\\",\\\"0.92\\\",\\\"0.93\\\",\\\"0.94\\\",\\\"0.95\\\",\\\"0.96\\\",\\\"0.97\\\",\\\"0.98\\\",\\\"0.99\\\",\\\"1.0\\\"],\\\"changes\\\":WebIO.getval({\\\"name\\\":\\\"changes\\\",\\\"scope\\\":\\\"925122228397481237\\\",\\\"id\\\":\\\"ob_661\\\",\\\"type\\\":\\\"observable\\\"}),\\\"index\\\":WebIO.getval({\\\"name\\\":\\\"index\\\",\\\"scope\\\":\\\"925122228397481237\\\",\\\"id\\\":\\\"ob_660\\\",\\\"type\\\":\\\"observable\\\"})};\\n    var self = this;\\n    function AppViewModel() {\\n        for (var key in json_data) {\\n            var el = json_data[key];\\n            this[key] = Array.isArray(el) ? ko.observableArray(el) : ko.observable(el);\\n        }\\n        \\n        [this[\\\"formatted_val\\\"]=ko.computed(    function(){\\n        return this.formatted_vals()[parseInt(this.index())-(1)];\\n    }\\n,this)]\\n        [this[\\\"changes\\\"].subscribe((function (val){!(this.valueFromJulia[\\\"changes\\\"]) ? (WebIO.setval({\\\"name\\\":\\\"changes\\\",\\\"scope\\\":\\\"925122228397481237\\\",\\\"id\\\":\\\"ob_661\\\",\\\"type\\\":\\\"observable\\\"},val)) : undefined; return this.valueFromJulia[\\\"changes\\\"]=false}),self),this[\\\"index\\\"].subscribe((function (val){!(this.valueFromJulia[\\\"index\\\"]) ? (WebIO.setval({\\\"name\\\":\\\"index\\\",\\\"scope\\\":\\\"925122228397481237\\\",\\\"id\\\":\\\"ob_660\\\",\\\"type\\\":\\\"observable\\\"},val)) : undefined; return this.valueFromJulia[\\\"index\\\"]=false}),self)]\\n        \\n    }\\n    self.model = new AppViewModel();\\n    self.valueFromJulia = {};\\n    for (var key in json_data) {\\n        self.valueFromJulia[key] = false;\\n    }\\n    ko.applyBindings(self.model, self.dom);\\n}\\n);\\n    (WebIO.importBlock({\\\"data\\\":[{\\\"name\\\":\\\"knockout\\\",\\\"type\\\":\\\"js\\\",\\\"url\\\":\\\"/assetserver/0e408749c48bdf320cff510588f31e1b0173133c-knockout.js\\\"},{\\\"name\\\":\\\"knockout_punches\\\",\\\"type\\\":\\\"js\\\",\\\"url\\\":\\\"/assetserver/a3a43557819f8cc1c4cea9496b4d4a77212507ee-knockout_punches.js\\\"}],\\\"type\\\":\\\"async_block\\\"})).then((imports) => handler.apply(this, imports));\\n}\\n\")])], Dict{Symbol,Any}(:className => \"field interact-widget\")), Node{WebIO.DOM}(WebIO.DOM(:html, :div), Any[Scope(Node{WebIO.DOM}(WebIO.DOM(:html, :div), Any[Node{WebIO.DOM}(WebIO.DOM(:html, :div), Any[Node{WebIO.DOM}(WebIO.DOM(:html, :label), Any[\"phase\"], Dict{Symbol,Any}(:className => \"interact \",:style => Dict{Any,Any}(:padding => \"5px 10px 0px 10px\")))], Dict{Symbol,Any}(:className => \"interact-flex-row-left\")), Node{WebIO.DOM}(WebIO.DOM(:html, :div), Any[Node{WebIO.DOM}(WebIO.DOM(:html, :input), Any[], Dict{Symbol,Any}(:max => 126,:min => 1,:attributes => Dict{Any,Any}(:type => \"range\",Symbol(\"data-bind\") => \"numericValue: index, valueUpdate: 'input', event: {change: function (){this.changes(this.changes()+1)}}\",\"orient\" => \"horizontal\"),:step => 1,:className => \"slider slider is-fullwidth\",:style => Dict{Any,Any}()))], Dict{Symbol,Any}(:className => \"interact-flex-row-center\")), Node{WebIO.DOM}(WebIO.DOM(:html, :div), Any[Node{WebIO.DOM}(WebIO.DOM(:html, :p), Any[], Dict{Symbol,Any}(:attributes => Dict(\"data-bind\" => \"text: formatted_val\")))], Dict{Symbol,Any}(:className => \"interact-flex-row-right\"))], Dict{Symbol,Any}(:className => \"interact-flex-row interact-widget\")), Dict{String,Tuple{Observables.AbstractObservable,Union{Nothing, Bool}}}(\"changes\" => (Observable{Int64} with 1 listeners. Value:\n",
       "0, nothing),\"index\" => (Observable{Any} with 2 listeners. Value:\n",
       "3, nothing)), Set(String[]), nothing, Asset[Asset(\"js\", \"knockout\", \"/Users/adrita/.julia/packages/Knockout/1sDlc/src/../assets/knockout.js\"), Asset(\"js\", \"knockout_punches\", \"/Users/adrita/.julia/packages/Knockout/1sDlc/src/../assets/knockout_punches.js\"), Asset(\"js\", nothing, \"/Users/adrita/.julia/packages/InteractBase/9mFwe/src/../assets/all.js\"), Asset(\"css\", nothing, \"/Users/adrita/.julia/packages/InteractBase/9mFwe/src/../assets/style.css\"), Asset(\"css\", nothing, \"/Users/adrita/.julia/packages/Interact/SbgIk/src/../assets/bulma_confined.min.css\")], Dict{Any,Any}(\"changes\" => Any[WebIO.JSString(\"(function (val){return (val!=this.model[\\\"changes\\\"]()) ? (this.valueFromJulia[\\\"changes\\\"]=true, this.model[\\\"changes\\\"](val)) : undefined})\")],\"index\" => Any[WebIO.JSString(\"(function (val){return (val!=this.model[\\\"index\\\"]()) ? (this.valueFromJulia[\\\"index\\\"]=true, this.model[\\\"index\\\"](val)) : undefined})\")]), WebIO.ConnectionPool(Channel{Any}(sz_max:32,sz_curr:0), Set(AbstractConnection[]), Base.GenericCondition{Base.AlwaysLockedST}(Base.InvasiveLinkedList{Task}(Task (runnable) @0x000000011d3b7610, Task (runnable) @0x000000011d3b7610), Base.AlwaysLockedST(1))), WebIO.JSString[WebIO.JSString(\"function () {\\n    var handler = (function (ko, koPunches) {\\n    ko.punches.enableAll();\\n    ko.bindingHandlers.numericValue = {\\n        init: function(element, valueAccessor, allBindings, data, context) {\\n            var stringified = ko.observable(ko.unwrap(valueAccessor()));\\n            stringified.subscribe(function(value) {\\n                var val = parseFloat(value);\\n                if (!isNaN(val)) {\\n                    valueAccessor()(val);\\n                }\\n            });\\n            valueAccessor().subscribe(function(value) {\\n                var str = JSON.stringify(value);\\n                if ((str == \\\"0\\\") && ([\\\"-0\\\", \\\"-0.\\\"].indexOf(stringified()) >= 0))\\n                     return;\\n                 if ([\\\"null\\\", \\\"\\\"].indexOf(str) >= 0)\\n                     return;\\n                stringified(str);\\n            });\\n            ko.applyBindingsToNode(\\n                element,\\n                {\\n                    value: stringified,\\n                    valueUpdate: allBindings.get('valueUpdate'),\\n                },\\n                context,\\n            );\\n        }\\n    };\\n    var json_data = {\\\"formatted_vals\\\":[\\\"0.0\\\",\\\"0.1\\\",\\\"0.2\\\",\\\"0.3\\\",\\\"0.4\\\",\\\"0.5\\\",\\\"0.6\\\",\\\"0.7\\\",\\\"0.8\\\",\\\"0.9\\\",\\\"1.0\\\",\\\"1.1\\\",\\\"1.2\\\",\\\"1.3\\\",\\\"1.4\\\",\\\"1.5\\\",\\\"1.6\\\",\\\"1.7\\\",\\\"1.8\\\",\\\"1.9\\\",\\\"2.0\\\",\\\"2.1\\\",\\\"2.2\\\",\\\"2.3\\\",\\\"2.4\\\",\\\"2.5\\\",\\\"2.6\\\",\\\"2.7\\\",\\\"2.8\\\",\\\"2.9\\\",\\\"3.0\\\",\\\"3.1\\\",\\\"3.2\\\",\\\"3.3\\\",\\\"3.4\\\",\\\"3.5\\\",\\\"3.6\\\",\\\"3.7\\\",\\\"3.8\\\",\\\"3.9\\\",\\\"4.0\\\",\\\"4.1\\\",\\\"4.2\\\",\\\"4.3\\\",\\\"4.4\\\",\\\"4.5\\\",\\\"4.6\\\",\\\"4.7\\\",\\\"4.8\\\",\\\"4.9\\\",\\\"5.0\\\",\\\"5.1\\\",\\\"5.2\\\",\\\"5.3\\\",\\\"5.4\\\",\\\"5.5\\\",\\\"5.6\\\",\\\"5.7\\\",\\\"5.8\\\",\\\"5.9\\\",\\\"6.0\\\",\\\"6.1\\\",\\\"6.2\\\",\\\"6.3\\\",\\\"6.4\\\",\\\"6.5\\\",\\\"6.6\\\",\\\"6.7\\\",\\\"6.8\\\",\\\"6.9\\\",\\\"7.0\\\",\\\"7.1\\\",\\\"7.2\\\",\\\"7.3\\\",\\\"7.4\\\",\\\"7.5\\\",\\\"7.6\\\",\\\"7.7\\\",\\\"7.8\\\",\\\"7.9\\\",\\\"8.0\\\",\\\"8.1\\\",\\\"8.2\\\",\\\"8.3\\\",\\\"8.4\\\",\\\"8.5\\\",\\\"8.6\\\",\\\"8.7\\\",\\\"8.8\\\",\\\"8.9\\\",\\\"9.0\\\",\\\"9.1\\\",\\\"9.2\\\",\\\"9.3\\\",\\\"9.4\\\",\\\"9.5\\\",\\\"9.6\\\",\\\"9.7\\\",\\\"9.8\\\",\\\"9.9\\\",\\\"10.0\\\",\\\"10.1\\\",\\\"10.2\\\",\\\"10.3\\\",\\\"10.4\\\",\\\"10.5\\\",\\\"10.6\\\",\\\"10.7\\\",\\\"10.8\\\",\\\"10.9\\\",\\\"11.0\\\",\\\"11.1\\\",\\\"11.2\\\",\\\"11.3\\\",\\\"11.4\\\",\\\"11.5\\\",\\\"11.6\\\",\\\"11.7\\\",\\\"11.8\\\",\\\"11.9\\\",\\\"12.0\\\",\\\"12.1\\\",\\\"12.2\\\",\\\"12.3\\\",\\\"12.4\\\",\\\"12.5\\\"],\\\"changes\\\":WebIO.getval({\\\"name\\\":\\\"changes\\\",\\\"scope\\\":\\\"4373808426970057931\\\",\\\"id\\\":\\\"ob_664\\\",\\\"type\\\":\\\"observable\\\"}),\\\"index\\\":WebIO.getval({\\\"name\\\":\\\"index\\\",\\\"scope\\\":\\\"4373808426970057931\\\",\\\"id\\\":\\\"ob_663\\\",\\\"type\\\":\\\"observable\\\"})};\\n    var self = this;\\n    function AppViewModel() {\\n        for (var key in json_data) {\\n            var el = json_data[key];\\n            this[key] = Array.isArray(el) ? ko.observableArray(el) : ko.observable(el);\\n        }\\n        \\n        [this[\\\"formatted_val\\\"]=ko.computed(    function(){\\n        return this.formatted_vals()[parseInt(this.index())-(1)];\\n    }\\n,this)]\\n        [this[\\\"changes\\\"].subscribe((function (val){!(this.valueFromJulia[\\\"changes\\\"]) ? (WebIO.setval({\\\"name\\\":\\\"changes\\\",\\\"scope\\\":\\\"4373808426970057931\\\",\\\"id\\\":\\\"ob_664\\\",\\\"type\\\":\\\"observable\\\"},val)) : undefined; return this.valueFromJulia[\\\"changes\\\"]=false}),self),this[\\\"index\\\"].subscribe((function (val){!(this.valueFromJulia[\\\"index\\\"]) ? (WebIO.setval({\\\"name\\\":\\\"index\\\",\\\"scope\\\":\\\"4373808426970057931\\\",\\\"id\\\":\\\"ob_663\\\",\\\"type\\\":\\\"observable\\\"},val)) : undefined; return this.valueFromJulia[\\\"index\\\"]=false}),self)]\\n        \\n    }\\n    self.model = new AppViewModel();\\n    self.valueFromJulia = {};\\n    for (var key in json_data) {\\n        self.valueFromJulia[key] = false;\\n    }\\n    ko.applyBindings(self.model, self.dom);\\n}\\n);\\n    (WebIO.importBlock({\\\"data\\\":[{\\\"name\\\":\\\"knockout\\\",\\\"type\\\":\\\"js\\\",\\\"url\\\":\\\"/assetserver/0e408749c48bdf320cff510588f31e1b0173133c-knockout.js\\\"},{\\\"name\\\":\\\"knockout_punches\\\",\\\"type\\\":\\\"js\\\",\\\"url\\\":\\\"/assetserver/a3a43557819f8cc1c4cea9496b4d4a77212507ee-knockout_punches.js\\\"}],\\\"type\\\":\\\"async_block\\\"})).then((imports) => handler.apply(this, imports));\\n}\\n\")])], Dict{Symbol,Any}(:className => \"field interact-widget\")), Node{WebIO.DOM}(WebIO.DOM(:html, :div), Any[Scope(Node{WebIO.DOM}(WebIO.DOM(:html, :div), Any[Node{WebIO.DOM}(WebIO.DOM(:html, :div), Any[Node{WebIO.DOM}(WebIO.DOM(:html, :label), Any[\"radii\"], Dict{Symbol,Any}(:className => \"interact \",:style => Dict{Any,Any}(:padding => \"5px 10px 0px 10px\")))], Dict{Symbol,Any}(:className => \"interact-flex-row-left\")), Node{WebIO.DOM}(WebIO.DOM(:html, :div), Any[Node{WebIO.DOM}(WebIO.DOM(:html, :input), Any[], Dict{Symbol,Any}(:max => 600,:min => 1,:attributes => Dict{Any,Any}(:type => \"range\",Symbol(\"data-bind\") => \"numericValue: index, valueUpdate: 'input', event: {change: function (){this.changes(this.changes()+1)}}\",\"orient\" => \"horizontal\"),:step => 1,:className => \"slider slider is-fullwidth\",:style => Dict{Any,Any}()))], Dict{Symbol,Any}(:className => \"interact-flex-row-center\")), Node{WebIO.DOM}(WebIO.DOM(:html, :div), Any[Node{WebIO.DOM}(WebIO.DOM(:html, :p), Any[], Dict{Symbol,Any}(:attributes => Dict(\"data-bind\" => \"text: formatted_val\")))], Dict{Symbol,Any}(:className => \"interact-flex-row-right\"))], Dict{Symbol,Any}(:className => \"interact-flex-row interact-widget\")), Dict{String,Tuple{Observables.AbstractObservable,Union{Nothing, Bool}}}(\"changes\" => (Observable{Int64} with 1 listeners. Value:\n",
       "0, nothing),\"index\" => (Observable{Any} with 2 listeners. Value:\n",
       "300, nothing)), Set(String[]), nothing, Asset[Asset(\"js\", \"knockout\", \"/Users/adrita/.julia/packages/Knockout/1sDlc/src/../assets/knockout.js\"), Asset(\"js\", \"knockout_punches\", \"/Users/adrita/.julia/packages/Knockout/1sDlc/src/../assets/knockout_punches.js\"), Asset(\"js\", nothing, \"/Users/adrita/.julia/packages/InteractBase/9mFwe/src/../assets/all.js\"), Asset(\"css\", nothing, \"/Users/adrita/.julia/packages/InteractBase/9mFwe/src/../assets/style.css\"), Asset(\"css\", nothing, \"/Users/adrita/.julia/packages/Interact/SbgIk/src/../assets/bulma_confined.min.css\")], Dict{Any,Any}(\"changes\" => Any[WebIO.JSString(\"(function (val){return (val!=this.model[\\\"changes\\\"]()) ? (this.valueFromJulia[\\\"changes\\\"]=true, this.model[\\\"changes\\\"](val)) : undefined})\")],\"index\" => Any[WebIO.JSString(\"(function (val){return (val!=this.model[\\\"index\\\"]()) ? (this.valueFromJulia[\\\"index\\\"]=true, this.model[\\\"index\\\"](val)) : undefined})\")]), WebIO.ConnectionPool(Channel{Any}(sz_max:32,sz_curr:0), Set(AbstractConnection[]), Base.GenericCondition{Base.AlwaysLockedST}(Base.InvasiveLinkedList{Task}(Task (runnable) @0x000000011d3b7a90, Task (runnable) @0x000000011d3b7a90), Base.AlwaysLockedST(1))), WebIO.JSString[WebIO.JSString(\"function () {\\n    var handler = (function (ko, koPunches) {\\n    ko.punches.enableAll();\\n    ko.bindingHandlers.numericValue = {\\n        init: function(element, valueAccessor, allBindings, data, context) {\\n            var stringified = ko.observable(ko.unwrap(valueAccessor()));\\n            stringified.subscribe(function(value) {\\n                var val = parseFloat(value);\\n                if (!isNaN(val)) {\\n                    valueAccessor()(val);\\n                }\\n            });\\n            valueAccessor().subscribe(function(value) {\\n                var str = JSON.stringify(value);\\n                if ((str == \\\"0\\\") && ([\\\"-0\\\", \\\"-0.\\\"].indexOf(stringified()) >= 0))\\n                     return;\\n                 if ([\\\"null\\\", \\\"\\\"].indexOf(str) >= 0)\\n                     return;\\n                stringified(str);\\n            });\\n            ko.applyBindingsToNode(\\n                element,\\n                {\\n                    value: stringified,\\n                    valueUpdate: allBindings.get('valueUpdate'),\\n                },\\n                context,\\n            );\\n        }\\n    };\\n    var json_data = {\\\"formatted_vals\\\":[\\\"0.1\\\",\\\"0.2\\\",\\\"0.3\\\",\\\"0.4\\\",\\\"0.5\\\",\\\"0.6\\\",\\\"0.7\\\",\\\"0.8\\\",\\\"0.9\\\",\\\"1.0\\\",\\\"1.1\\\",\\\"1.2\\\",\\\"1.3\\\",\\\"1.4\\\",\\\"1.5\\\",\\\"1.6\\\",\\\"1.7\\\",\\\"1.8\\\",\\\"1.9\\\",\\\"2.0\\\",\\\"2.1\\\",\\\"2.2\\\",\\\"2.3\\\",\\\"2.4\\\",\\\"2.5\\\",\\\"2.6\\\",\\\"2.7\\\",\\\"2.8\\\",\\\"2.9\\\",\\\"3.0\\\",\\\"3.1\\\",\\\"3.2\\\",\\\"3.3\\\",\\\"3.4\\\",\\\"3.5\\\",\\\"3.6\\\",\\\"3.7\\\",\\\"3.8\\\",\\\"3.9\\\",\\\"4.0\\\",\\\"4.1\\\",\\\"4.2\\\",\\\"4.3\\\",\\\"4.4\\\",\\\"4.5\\\",\\\"4.6\\\",\\\"4.7\\\",\\\"4.8\\\",\\\"4.9\\\",\\\"5.0\\\",\\\"5.1\\\",\\\"5.2\\\",\\\"5.3\\\",\\\"5.4\\\",\\\"5.5\\\",\\\"5.6\\\",\\\"5.7\\\",\\\"5.8\\\",\\\"5.9\\\",\\\"6.0\\\",\\\"6.1\\\",\\\"6.2\\\",\\\"6.3\\\",\\\"6.4\\\",\\\"6.5\\\",\\\"6.6\\\",\\\"6.7\\\",\\\"6.8\\\",\\\"6.9\\\",\\\"7.0\\\",\\\"7.1\\\",\\\"7.2\\\",\\\"7.3\\\",\\\"7.4\\\",\\\"7.5\\\",\\\"7.6\\\",\\\"7.7\\\",\\\"7.8\\\",\\\"7.9\\\",\\\"8.0\\\",\\\"8.1\\\",\\\"8.2\\\",\\\"8.3\\\",\\\"8.4\\\",\\\"8.5\\\",\\\"8.6\\\",\\\"8.7\\\",\\\"8.8\\\",\\\"8.9\\\",\\\"9.0\\\",\\\"9.1\\\",\\\"9.2\\\",\\\"9.3\\\",\\\"9.4\\\",\\\"9.5\\\",\\\"9.6\\\",\\\"9.7\\\",\\\"9.8\\\",\\\"9.9\\\",\\\"10.0\\\",\\\"10.1\\\",\\\"10.2\\\",\\\"10.3\\\",\\\"10.4\\\",\\\"10.5\\\",\\\"10.6\\\",\\\"10.7\\\",\\\"10.8\\\",\\\"10.9\\\",\\\"11.0\\\",\\\"11.1\\\",\\\"11.2\\\",\\\"11.3\\\",\\\"11.4\\\",\\\"11.5\\\",\\\"11.6\\\",\\\"11.7\\\",\\\"11.8\\\",\\\"11.9\\\",\\\"12.0\\\",\\\"12.1\\\",\\\"12.2\\\",\\\"12.3\\\",\\\"12.4\\\",\\\"12.5\\\",\\\"12.6\\\",\\\"12.7\\\",\\\"12.8\\\",\\\"12.9\\\",\\\"13.0\\\",\\\"13.1\\\",\\\"13.2\\\",\\\"13.3\\\",\\\"13.4\\\",\\\"13.5\\\",\\\"13.6\\\",\\\"13.7\\\",\\\"13.8\\\",\\\"13.9\\\",\\\"14.0\\\",\\\"14.1\\\",\\\"14.2\\\",\\\"14.3\\\",\\\"14.4\\\",\\\"14.5\\\",\\\"14.6\\\",\\\"14.7\\\",\\\"14.8\\\",\\\"14.9\\\",\\\"15.0\\\",\\\"15.1\\\",\\\"15.2\\\",\\\"15.3\\\",\\\"15.4\\\",\\\"15.5\\\",\\\"15.6\\\",\\\"15.7\\\",\\\"15.8\\\",\\\"15.9\\\",\\\"16.0\\\",\\\"16.1\\\",\\\"16.2\\\",\\\"16.3\\\",\\\"16.4\\\",\\\"16.5\\\",\\\"16.6\\\",\\\"16.7\\\",\\\"16.8\\\",\\\"16.9\\\",\\\"17.0\\\",\\\"17.1\\\",\\\"17.2\\\",\\\"17.3\\\",\\\"17.4\\\",\\\"17.5\\\",\\\"17.6\\\",\\\"17.7\\\",\\\"17.8\\\",\\\"17.9\\\",\\\"18.0\\\",\\\"18.1\\\",\\\"18.2\\\",\\\"18.3\\\",\\\"18.4\\\",\\\"18.5\\\",\\\"18.6\\\",\\\"18.7\\\",\\\"18.8\\\",\\\"18.9\\\",\\\"19.0\\\",\\\"19.1\\\",\\\"19.2\\\",\\\"19.3\\\",\\\"19.4\\\",\\\"19.5\\\",\\\"19.6\\\",\\\"19.7\\\",\\\"19.8\\\",\\\"19.9\\\",\\\"20.0\\\",\\\"20.1\\\",\\\"20.2\\\",\\\"20.3\\\",\\\"20.4\\\",\\\"20.5\\\",\\\"20.6\\\",\\\"20.7\\\",\\\"20.8\\\",\\\"20.9\\\",\\\"21.0\\\",\\\"21.1\\\",\\\"21.2\\\",\\\"21.3\\\",\\\"21.4\\\",\\\"21.5\\\",\\\"21.6\\\",\\\"21.7\\\",\\\"21.8\\\",\\\"21.9\\\",\\\"22.0\\\",\\\"22.1\\\",\\\"22.2\\\",\\\"22.3\\\",\\\"22.4\\\",\\\"22.5\\\",\\\"22.6\\\",\\\"22.7\\\",\\\"22.8\\\",\\\"22.9\\\",\\\"23.0\\\",\\\"23.1\\\",\\\"23.2\\\",\\\"23.3\\\",\\\"23.4\\\",\\\"23.5\\\",\\\"23.6\\\",\\\"23.7\\\",\\\"23.8\\\",\\\"23.9\\\",\\\"24.0\\\",\\\"24.1\\\",\\\"24.2\\\",\\\"24.3\\\",\\\"24.4\\\",\\\"24.5\\\",\\\"24.6\\\",\\\"24.7\\\",\\\"24.8\\\",\\\"24.9\\\",\\\"25.0\\\",\\\"25.1\\\",\\\"25.2\\\",\\\"25.3\\\",\\\"25.4\\\",\\\"25.5\\\",\\\"25.6\\\",\\\"25.7\\\",\\\"25.8\\\",\\\"25.9\\\",\\\"26.0\\\",\\\"26.1\\\",\\\"26.2\\\",\\\"26.3\\\",\\\"26.4\\\",\\\"26.5\\\",\\\"26.6\\\",\\\"26.7\\\",\\\"26.8\\\",\\\"26.9\\\",\\\"27.0\\\",\\\"27.1\\\",\\\"27.2\\\",\\\"27.3\\\",\\\"27.4\\\",\\\"27.5\\\",\\\"27.6\\\",\\\"27.7\\\",\\\"27.8\\\",\\\"27.9\\\",\\\"28.0\\\",\\\"28.1\\\",\\\"28.2\\\",\\\"28.3\\\",\\\"28.4\\\",\\\"28.5\\\",\\\"28.6\\\",\\\"28.7\\\",\\\"28.8\\\",\\\"28.9\\\",\\\"29.0\\\",\\\"29.1\\\",\\\"29.2\\\",\\\"29.3\\\",\\\"29.4\\\",\\\"29.5\\\",\\\"29.6\\\",\\\"29.7\\\",\\\"29.8\\\",\\\"29.9\\\",\\\"30.0\\\",\\\"30.1\\\",\\\"30.2\\\",\\\"30.3\\\",\\\"30.4\\\",\\\"30.5\\\",\\\"30.6\\\",\\\"30.7\\\",\\\"30.8\\\",\\\"30.9\\\",\\\"31.0\\\",\\\"31.1\\\",\\\"31.2\\\",\\\"31.3\\\",\\\"31.4\\\",\\\"31.5\\\",\\\"31.6\\\",\\\"31.7\\\",\\\"31.8\\\",\\\"31.9\\\",\\\"32.0\\\",\\\"32.1\\\",\\\"32.2\\\",\\\"32.3\\\",\\\"32.4\\\",\\\"32.5\\\",\\\"32.6\\\",\\\"32.7\\\",\\\"32.8\\\",\\\"32.9\\\",\\\"33.0\\\",\\\"33.1\\\",\\\"33.2\\\",\\\"33.3\\\",\\\"33.4\\\",\\\"33.5\\\",\\\"33.6\\\",\\\"33.7\\\",\\\"33.8\\\",\\\"33.9\\\",\\\"34.0\\\",\\\"34.1\\\",\\\"34.2\\\",\\\"34.3\\\",\\\"34.4\\\",\\\"34.5\\\",\\\"34.6\\\",\\\"34.7\\\",\\\"34.8\\\",\\\"34.9\\\",\\\"35.0\\\",\\\"35.1\\\",\\\"35.2\\\",\\\"35.3\\\",\\\"35.4\\\",\\\"35.5\\\",\\\"35.6\\\",\\\"35.7\\\",\\\"35.8\\\",\\\"35.9\\\",\\\"36.0\\\",\\\"36.1\\\",\\\"36.2\\\",\\\"36.3\\\",\\\"36.4\\\",\\\"36.5\\\",\\\"36.6\\\",\\\"36.7\\\",\\\"36.8\\\",\\\"36.9\\\",\\\"37.0\\\",\\\"37.1\\\",\\\"37.2\\\",\\\"37.3\\\",\\\"37.4\\\",\\\"37.5\\\",\\\"37.6\\\",\\\"37.7\\\",\\\"37.8\\\",\\\"37.9\\\",\\\"38.0\\\",\\\"38.1\\\",\\\"38.2\\\",\\\"38.3\\\",\\\"38.4\\\",\\\"38.5\\\",\\\"38.6\\\",\\\"38.7\\\",\\\"38.8\\\",\\\"38.9\\\",\\\"39.0\\\",\\\"39.1\\\",\\\"39.2\\\",\\\"39.3\\\",\\\"39.4\\\",\\\"39.5\\\",\\\"39.6\\\",\\\"39.7\\\",\\\"39.8\\\",\\\"39.9\\\",\\\"40.0\\\",\\\"40.1\\\",\\\"40.2\\\",\\\"40.3\\\",\\\"40.4\\\",\\\"40.5\\\",\\\"40.6\\\",\\\"40.7\\\",\\\"40.8\\\",\\\"40.9\\\",\\\"41.0\\\",\\\"41.1\\\",\\\"41.2\\\",\\\"41.3\\\",\\\"41.4\\\",\\\"41.5\\\",\\\"41.6\\\",\\\"41.7\\\",\\\"41.8\\\",\\\"41.9\\\",\\\"42.0\\\",\\\"42.1\\\",\\\"42.2\\\",\\\"42.3\\\",\\\"42.4\\\",\\\"42.5\\\",\\\"42.6\\\",\\\"42.7\\\",\\\"42.8\\\",\\\"42.9\\\",\\\"43.0\\\",\\\"43.1\\\",\\\"43.2\\\",\\\"43.3\\\",\\\"43.4\\\",\\\"43.5\\\",\\\"43.6\\\",\\\"43.7\\\",\\\"43.8\\\",\\\"43.9\\\",\\\"44.0\\\",\\\"44.1\\\",\\\"44.2\\\",\\\"44.3\\\",\\\"44.4\\\",\\\"44.5\\\",\\\"44.6\\\",\\\"44.7\\\",\\\"44.8\\\",\\\"44.9\\\",\\\"45.0\\\",\\\"45.1\\\",\\\"45.2\\\",\\\"45.3\\\",\\\"45.4\\\",\\\"45.5\\\",\\\"45.6\\\",\\\"45.7\\\",\\\"45.8\\\",\\\"45.9\\\",\\\"46.0\\\",\\\"46.1\\\",\\\"46.2\\\",\\\"46.3\\\",\\\"46.4\\\",\\\"46.5\\\",\\\"46.6\\\",\\\"46.7\\\",\\\"46.8\\\",\\\"46.9\\\",\\\"47.0\\\",\\\"47.1\\\",\\\"47.2\\\",\\\"47.3\\\",\\\"47.4\\\",\\\"47.5\\\",\\\"47.6\\\",\\\"47.7\\\",\\\"47.8\\\",\\\"47.9\\\",\\\"48.0\\\",\\\"48.1\\\",\\\"48.2\\\",\\\"48.3\\\",\\\"48.4\\\",\\\"48.5\\\",\\\"48.6\\\",\\\"48.7\\\",\\\"48.8\\\",\\\"48.9\\\",\\\"49.0\\\",\\\"49.1\\\",\\\"49.2\\\",\\\"49.3\\\",\\\"49.4\\\",\\\"49.5\\\",\\\"49.6\\\",\\\"49.7\\\",\\\"49.8\\\",\\\"49.9\\\",\\\"50.0\\\",\\\"50.1\\\",\\\"50.2\\\",\\\"50.3\\\",\\\"50.4\\\",\\\"50.5\\\",\\\"50.6\\\",\\\"50.7\\\",\\\"50.8\\\",\\\"50.9\\\",\\\"51.0\\\",\\\"51.1\\\",\\\"51.2\\\",\\\"51.3\\\",\\\"51.4\\\",\\\"51.5\\\",\\\"51.6\\\",\\\"51.7\\\",\\\"51.8\\\",\\\"51.9\\\",\\\"52.0\\\",\\\"52.1\\\",\\\"52.2\\\",\\\"52.3\\\",\\\"52.4\\\",\\\"52.5\\\",\\\"52.6\\\",\\\"52.7\\\",\\\"52.8\\\",\\\"52.9\\\",\\\"53.0\\\",\\\"53.1\\\",\\\"53.2\\\",\\\"53.3\\\",\\\"53.4\\\",\\\"53.5\\\",\\\"53.6\\\",\\\"53.7\\\",\\\"53.8\\\",\\\"53.9\\\",\\\"54.0\\\",\\\"54.1\\\",\\\"54.2\\\",\\\"54.3\\\",\\\"54.4\\\",\\\"54.5\\\",\\\"54.6\\\",\\\"54.7\\\",\\\"54.8\\\",\\\"54.9\\\",\\\"55.0\\\",\\\"55.1\\\",\\\"55.2\\\",\\\"55.3\\\",\\\"55.4\\\",\\\"55.5\\\",\\\"55.6\\\",\\\"55.7\\\",\\\"55.8\\\",\\\"55.9\\\",\\\"56.0\\\",\\\"56.1\\\",\\\"56.2\\\",\\\"56.3\\\",\\\"56.4\\\",\\\"56.5\\\",\\\"56.6\\\",\\\"56.7\\\",\\\"56.8\\\",\\\"56.9\\\",\\\"57.0\\\",\\\"57.1\\\",\\\"57.2\\\",\\\"57.3\\\",\\\"57.4\\\",\\\"57.5\\\",\\\"57.6\\\",\\\"57.7\\\",\\\"57.8\\\",\\\"57.9\\\",\\\"58.0\\\",\\\"58.1\\\",\\\"58.2\\\",\\\"58.3\\\",\\\"58.4\\\",\\\"58.5\\\",\\\"58.6\\\",\\\"58.7\\\",\\\"58.8\\\",\\\"58.9\\\",\\\"59.0\\\",\\\"59.1\\\",\\\"59.2\\\",\\\"59.3\\\",\\\"59.4\\\",\\\"59.5\\\",\\\"59.6\\\",\\\"59.7\\\",\\\"59.8\\\",\\\"59.9\\\",\\\"60.0\\\"],\\\"changes\\\":WebIO.getval({\\\"name\\\":\\\"changes\\\",\\\"scope\\\":\\\"6020341609470193544\\\",\\\"id\\\":\\\"ob_667\\\",\\\"type\\\":\\\"observable\\\"}),\\\"index\\\":WebIO.getval({\\\"name\\\":\\\"index\\\",\\\"scope\\\":\\\"6020341609470193544\\\",\\\"id\\\":\\\"ob_666\\\",\\\"type\\\":\\\"observable\\\"})};\\n    var self = this;\\n    function AppViewModel() {\\n        for (var key in json_data) {\\n            var el = json_data[key];\\n            this[key] = Array.isArray(el) ? ko.observableArray(el) : ko.observable(el);\\n        }\\n        \\n        [this[\\\"formatted_val\\\"]=ko.computed(    function(){\\n        return this.formatted_vals()[parseInt(this.index())-(1)];\\n    }\\n,this)]\\n        [this[\\\"changes\\\"].subscribe((function (val){!(this.valueFromJulia[\\\"changes\\\"]) ? (WebIO.setval({\\\"name\\\":\\\"changes\\\",\\\"scope\\\":\\\"6020341609470193544\\\",\\\"id\\\":\\\"ob_667\\\",\\\"type\\\":\\\"observable\\\"},val)) : undefined; return this.valueFromJulia[\\\"changes\\\"]=false}),self),this[\\\"index\\\"].subscribe((function (val){!(this.valueFromJulia[\\\"index\\\"]) ? (WebIO.setval({\\\"name\\\":\\\"index\\\",\\\"scope\\\":\\\"6020341609470193544\\\",\\\"id\\\":\\\"ob_666\\\",\\\"type\\\":\\\"observable\\\"},val)) : undefined; return this.valueFromJulia[\\\"index\\\"]=false}),self)]\\n        \\n    }\\n    self.model = new AppViewModel();\\n    self.valueFromJulia = {};\\n    for (var key in json_data) {\\n        self.valueFromJulia[key] = false;\\n    }\\n    ko.applyBindings(self.model, self.dom);\\n}\\n);\\n    (WebIO.importBlock({\\\"data\\\":[{\\\"name\\\":\\\"knockout\\\",\\\"type\\\":\\\"js\\\",\\\"url\\\":\\\"/assetserver/0e408749c48bdf320cff510588f31e1b0173133c-knockout.js\\\"},{\\\"name\\\":\\\"knockout_punches\\\",\\\"type\\\":\\\"js\\\",\\\"url\\\":\\\"/assetserver/a3a43557819f8cc1c4cea9496b4d4a77212507ee-knockout_punches.js\\\"}],\\\"type\\\":\\\"async_block\\\"})).then((imports) => handler.apply(this, imports));\\n}\\n\")])], Dict{Symbol,Any}(:className => \"field interact-widget\")), Observable{Any} with 0 listeners. Value:\n",
       "Node{WebIO.DOM}(WebIO.DOM(:html, :div), Any[Node{WebIO.DOM}(WebIO.DOM(:svg, :svg), Any[Node{WebIO.DOM}(WebIO.DOM(:svg, :circle), Any[], Dict{Symbol,Any}(:attributes => Dict(\"cy\" => \"179.55202066613396\",\"r\" => \"30.0\",\"fill\" => \"gray\",\"cx\" => \"16.711269024649013\"))), Node{WebIO.DOM}(WebIO.DOM(:svg, :circle), Any[], Dict{Symbol,Any}(:attributes => Dict(\"cy\" => \"188.94183423086506\",\"r\" => \"30.0\",\"fill\" => \"silver\",\"cx\" => \"22.281692032865347\"))), Node{WebIO.DOM}(WebIO.DOM(:svg, :circle), Any[], Dict{Symbol,Any}(:attributes => Dict(\"cy\" => \"197.9425538604203\",\"r\" => \"30.0\",\"fill\" => \"maroon\",\"cx\" => \"27.852115041081685\"))), Node{WebIO.DOM}(WebIO.DOM(:svg, :circle), Any[], Dict{Symbol,Any}(:attributes => Dict(\"cy\" => \"206.46424733950354\",\"r\" => \"30.0\",\"fill\" => \"red\",\"cx\" => \"33.422538049298026\"))), Node{WebIO.DOM}(WebIO.DOM(:svg, :circle), Any[], Dict{Symbol,Any}(:attributes => Dict(\"cy\" => \"214.4217687237691\",\"r\" => \"30.0\",\"fill\" => \"olive\",\"cx\" => \"38.99296105751436\"))), Node{WebIO.DOM}(WebIO.DOM(:svg, :circle), Any[], Dict{Symbol,Any}(:attributes => Dict(\"cy\" => \"221.73560908995228\",\"r\" => \"30.0\",\"fill\" => \"yellow\",\"cx\" => \"44.563384065730695\"))), Node{WebIO.DOM}(WebIO.DOM(:svg, :circle), Any[], Dict{Symbol,Any}(:attributes => Dict(\"cy\" => \"228.33269096274836\",\"r\" => \"30.0\",\"fill\" => \"green\",\"cx\" => \"50.13380707394704\"))), Node{WebIO.DOM}(WebIO.DOM(:svg, :circle), Any[], Dict{Symbol,Any}(:attributes => Dict(\"cy\" => \"234.14709848078965\",\"r\" => \"30.0\",\"fill\" => \"lime\",\"cx\" => \"55.70423008216337\"))), Node{WebIO.DOM}(WebIO.DOM(:svg, :circle), Any[], Dict{Symbol,Any}(:attributes => Dict(\"cy\" => \"239.12073600614355\",\"r\" => \"30.0\",\"fill\" => \"teal\",\"cx\" => \"61.274653090379715\"))), Node{WebIO.DOM}(WebIO.DOM(:svg, :circle), Any[], Dict{Symbol,Any}(:attributes => Dict(\"cy\" => \"243.2039085967226\",\"r\" => \"30.0\",\"fill\" => \"aqua\",\"cx\" => \"66.84507609859604\")))  …  Node{WebIO.DOM}(WebIO.DOM(:svg, :circle), Any[], Dict{Symbol,Any}(:attributes => Dict(\"cy\" => \"162.44544235070634\",\"r\" => \"30.0\",\"fill\" => \"gray\",\"cx\" => \"518.0493397641193\"))), Node{WebIO.DOM}(WebIO.DOM(:svg, :circle), Any[], Dict{Symbol,Any}(:attributes => Dict(\"cy\" => \"152.47754254533578\",\"r\" => \"30.0\",\"fill\" => \"silver\",\"cx\" => \"523.6197627723357\"))), Node{WebIO.DOM}(WebIO.DOM(:svg, :circle), Any[], Dict{Symbol,Any}(:attributes => Dict(\"cy\" => \"142.48488795381908\",\"r\" => \"30.0\",\"fill\" => \"maroon\",\"cx\" => \"529.190185780552\"))), Node{WebIO.DOM}(WebIO.DOM(:svg, :circle), Any[], Dict{Symbol,Any}(:attributes => Dict(\"cy\" => \"132.56732187770203\",\"r\" => \"30.0\",\"fill\" => \"red\",\"cx\" => \"534.7606087887683\"))), Node{WebIO.DOM}(WebIO.DOM(:svg, :circle), Any[], Dict{Symbol,Any}(:attributes => Dict(\"cy\" => \"122.82393735890575\",\"r\" => \"30.0\",\"fill\" => \"olive\",\"cx\" => \"540.3310317969846\"))), Node{WebIO.DOM}(WebIO.DOM(:svg, :circle), Any[], Dict{Symbol,Any}(:attributes => Dict(\"cy\" => \"113.35208707480717\",\"r\" => \"30.0\",\"fill\" => \"yellow\",\"cx\" => \"545.9014548052011\"))), Node{WebIO.DOM}(WebIO.DOM(:svg, :circle), Any[], Dict{Symbol,Any}(:attributes => Dict(\"cy\" => \"104.24641062246786\",\"r\" => \"30.0\",\"fill\" => \"green\",\"cx\" => \"551.4718778134173\"))), Node{WebIO.DOM}(WebIO.DOM(:svg, :circle), Any[], Dict{Symbol,Any}(:attributes => Dict(\"cy\" => \"95.59788891106302\",\"r\" => \"30.0\",\"fill\" => \"lime\",\"cx\" => \"557.0423008216337\"))), Node{WebIO.DOM}(WebIO.DOM(:svg, :circle), Any[], Dict{Symbol,Any}(:attributes => Dict(\"cy\" => \"87.49293511071178\",\"r\" => \"30.0\",\"fill\" => \"teal\",\"cx\" => \"562.61272382985\"))), Node{WebIO.DOM}(WebIO.DOM(:svg, :circle), Any[], Dict{Symbol,Any}(:attributes => Dict(\"cy\" => \"80.01253124064577\",\"r\" => \"30.0\",\"fill\" => \"aqua\",\"cx\" => \"568.1831468380662\")))], Dict{Symbol,Any}(:attributes => Dict(\"height\" => \"300\",\"width\" => \"700\")))], Dict{Symbol,Any}(:className => \"interact-flex-row interact-widget\"))], Dict{Symbol,Any}())"
      ]
     },
     "execution_count": 70,
     "metadata": {
      "application/vnd.webio.node+json": {
       "kernelId": "e41bfc5e-2ffb-4092-b19b-c7a771026f69"
      }
     },
     "output_type": "execute_result"
    }
   ],
   "source": [
    "width, height = 700, 300\n",
    "colors = [\"black\", \"gray\", \"silver\", \"maroon\", \"red\", \"olive\", \"yellow\", \"green\", \"lime\", \"teal\", \"aqua\", \"navy\", \"blue\", \"purple\", \"fuchsia\"]\n",
    "color(i) = colors[i%length(colors)+1]\n",
    "ui = @manipulate for nsamples in 1:200,\n",
    "        sample_step in slider(0.01:0.01:1, value=0.1, label=\"sample step\"),\n",
    "        phase in slider(0:0.1:2pi, value=0.2, label=\"phase\"),\n",
    "        radii in 0.1:0.1:60\n",
    "    cxs_unscaled = [i*sample_step + phase for i in 1:nsamples]\n",
    "    cys = sin.(cxs_unscaled) .* height/3 .+ height/2\n",
    "    cxs = cxs_unscaled .* width/4pi\n",
    "    dom\"svg:svg[width=$width, height=$height]\"(\n",
    "        (dom\"svg:circle[cx=$(cxs[i]), cy=$(cys[i]), r=$radii, fill=$(color(i))]\"()\n",
    "            for i in 1:nsamples)...\n",
    "    )\n",
    "end"
   ]
  },
  {
   "cell_type": "code",
   "execution_count": 30,
   "metadata": {},
   "outputs": [
    {
     "name": "stdout",
     "output_type": "stream",
     "text": [
      "\u001b[32m\u001b[1m Resolving\u001b[22m\u001b[39m package versions...\n",
      "\u001b[32m\u001b[1m Installed\u001b[22m\u001b[39m RoundingIntegers ─ v0.2.0\n",
      "\u001b[32m\u001b[1m Installed\u001b[22m\u001b[39m Reactive ───────── v0.8.3\n",
      "\u001b[32m\u001b[1m Installed\u001b[22m\u001b[39m GtkReactive ────── v1.0.2\n",
      "\u001b[32m\u001b[1m Installed\u001b[22m\u001b[39m ImageView ──────── v0.10.6\n",
      "\u001b[32m\u001b[1m  Updating\u001b[22m\u001b[39m `~/.julia/environments/v1.3/Project.toml`\n",
      " \u001b[90m [86fae568]\u001b[39m\u001b[92m + ImageView v0.10.6\u001b[39m\n",
      "\u001b[32m\u001b[1m  Updating\u001b[22m\u001b[39m `~/.julia/environments/v1.3/Manifest.toml`\n",
      " \u001b[90m [da5c29d0]\u001b[39m\u001b[91m - EllipsisNotation v0.4.0\u001b[39m\n",
      " \u001b[90m [27996c0f]\u001b[39m\u001b[92m + GtkReactive v1.0.2\u001b[39m\n",
      " \u001b[90m [86fae568]\u001b[39m\u001b[92m + ImageView v0.10.6\u001b[39m\n",
      " \u001b[90m [8197267c]\u001b[39m\u001b[95m ↓ IntervalSets v0.4.0 ⇒ v0.3.2\u001b[39m\n",
      " \u001b[90m [a223df75]\u001b[39m\u001b[92m + Reactive v0.8.3\u001b[39m\n",
      " \u001b[90m [d5f540fe]\u001b[39m\u001b[92m + RoundingIntegers v0.2.0\u001b[39m\n"
     ]
    }
   ],
   "source": [
    "Pkg.add(\"ImageView\")"
   ]
  },
  {
   "cell_type": "code",
   "execution_count": 29,
   "metadata": {},
   "outputs": [
    {
     "name": "stderr",
     "output_type": "stream",
     "text": [
      "WARNING: using Images.height in module Main conflicts with an existing identifier.\n",
      "WARNING: using Images.width in module Main conflicts with an existing identifier.\n",
      "WARNING: using Images.phase in module Main conflicts with an existing identifier.\n"
     ]
    },
    {
     "ename": "ArgumentError",
     "evalue": "ArgumentError: Package ImageView not found in current path:\n- Run `import Pkg; Pkg.add(\"ImageView\")` to install the ImageView package.\n",
     "output_type": "error",
     "traceback": [
      "ArgumentError: Package ImageView not found in current path:\n- Run `import Pkg; Pkg.add(\"ImageView\")` to install the ImageView package.\n",
      "",
      "Stacktrace:",
      " [1] require(::Module, ::Symbol) at ./loading.jl:887",
      " [2] top-level scope at In[29]:2"
     ]
    }
   ],
   "source": [
    "using Images\n",
    "import ImageView\n",
    "\n",
    "imgdy = normedview(UInt8[y for y=0x00:0xff, x=0:100])\n",
    "imgdx = normedview(UInt8[x for y=1:100, x=0x00:0xff])\n",
    "imshow_now(imgdy)\n",
    "imshow_now(imgdx)\n",
    "\n",
    "A = zeros(300, 200)\n",
    "lbl = similar(A, Int)\n",
    "fill!(lbl, 0)\n",
    "A[80:120, 50:150] .= 0.8\n",
    "lbl[80:120, 50:150] .= 1\n",
    "cx, cy = 200, 100\n",
    "for j = -30:30, i = -30:30\n",
    "    if i^2+j^2 <= 900\n",
    "        A[cx+i,cy+j] = rand()\n",
    "        lbl[cx+i,cy+j] = 2\n",
    "    end\n",
    "end\n",
    "ImageView.imshowlabeled(A, lbl; name=\"circle and rectangle\")\n"
   ]
  }
 ],
 "metadata": {
  "@webio": {
   "lastCommId": "361ecac11645405382a285854e7810fc",
   "lastKernelId": "e41bfc5e-2ffb-4092-b19b-c7a771026f69"
  },
  "kernelspec": {
   "display_name": "Julia 1.3.0",
   "language": "julia",
   "name": "julia-1.3"
  },
  "language_info": {
   "file_extension": ".jl",
   "mimetype": "application/julia",
   "name": "julia",
   "version": "1.3.0"
  }
 },
 "nbformat": 4,
 "nbformat_minor": 2
}
