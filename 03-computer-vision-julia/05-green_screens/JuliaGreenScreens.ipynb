{
 "cells": [
  {
   "cell_type": "code",
   "execution_count": 1,
   "metadata": {},
   "outputs": [],
   "source": [
    "using Images, TestImages"
   ]
  },
  {
   "cell_type": "code",
   "execution_count": 15,
   "metadata": {},
   "outputs": [
    {
     "data": {
      "text/plain": [
       "screenProcessing (generic function with 2 methods)"
      ]
     },
     "execution_count": 15,
     "metadata": {},
     "output_type": "execute_result"
    }
   ],
   "source": [
    "function screenProcessing(front_img, background_img)\n",
    "    \"\"\"\n",
    "        input: a front image, the background image, \n",
    "            the hsv_lower and hsv_upper bounds (indicates the color range)\n",
    "        output: a new image with masked front_img overlayed on background_img\n",
    "    \"\"\"\n",
    "    # TASK #1: Convert front_img into hsv\n",
    "    \n",
    "    front_hsv = HSV.(front_img)\n",
    "    \n",
    "    # TASK #2: Create a mask using the hsv ranges\n",
    "    \n",
    "    channels = channelview(float.(front_hsv))###### I NEED HELP ON HOW TO DO THIS\n",
    "    hue_img = channels[1,:,:]\n",
    "    value_img = channels[3,:,:]\n",
    "    saturation_img = channels[2,:,:]\n",
    "    \n",
    "    mask = zeros(size(hue_img))\n",
    "    h, s, v = 80, 150, 150\n",
    "    for ind in eachindex(hue_img)\n",
    "        if hue_img[ind] <= h && saturation_img[ind] <= s/255 && value_img[ind] <= v/255\n",
    "            mask[ind] = 1\n",
    "        end\n",
    "    end\n",
    "    binary_img = colorview(Gray, mask)\n",
    "\n",
    "    # TASK #3: Create an inverse of the mask using cv2.bitwise_not\n",
    "    \n",
    "    front_mask_inv = .!mask\n",
    "    \n",
    "    # Make sure that background_img is the same shape as the front_img\n",
    "    cropped_background_img = background_img[0:front_img.shape[0], 0:front_img.shape[1]]\n",
    "    \n",
    "    # TASK #4: Use cv2.bitwise_and & inversed mask on the cropped_background_img (step 1)\n",
    "    # *me* not sure what to do\n",
    "    \n",
    "    just_background = cropped_background_img .& mask\n",
    "    \n",
    "    # TASK #5: Use cv2.bitwise_and & mask on front_img (step 2)\n",
    "    # *me* not sure what to do\n",
    "    \n",
    "    just_minion = front_img .& mask\n",
    "    \n",
    "    # TASK #6: Add the two masked images together (see step 3)\n",
    "    \n",
    "    result = mappedarray(just_background, just_minion)\n",
    "    \n",
    "    # TASK #7: Return the result from TASK #6 (step 4)\n",
    "    return result\n",
    "end"
   ]
  },
  {
   "cell_type": "code",
   "execution_count": 16,
   "metadata": {},
   "outputs": [
    {
     "name": "stderr",
     "output_type": "stream",
     "text": [
      "WARNING: ColorTypes.RGB4 is deprecated, use RGBX instead.\n",
      "  likely near /Users/adrita/.julia/packages/IJulia/F1GUo/src/kernel.jl:52\n",
      "WARNING: importing deprecated binding ColorTypes.RGB1 into QuartzImageIO.\n",
      "WARNING: ColorTypes.RGB1 is deprecated, use XRGB instead.\n",
      "  likely near /Users/adrita/.julia/packages/IJulia/F1GUo/src/kernel.jl:52\n",
      "WARNING: ColorTypes.RGB4 is deprecated, use RGBX instead.\n",
      "  likely near /Users/adrita/.julia/packages/IJulia/F1GUo/src/kernel.jl:52\n",
      "WARNING: ColorTypes.RGB1 is deprecated, use XRGB instead.\n",
      "  likely near /Users/adrita/.julia/packages/IJulia/F1GUo/src/kernel.jl:52\n",
      "WARNING: ColorTypes.RGB4 is deprecated, use RGBX instead.\n",
      "  likely near /Users/adrita/.julia/packages/IJulia/F1GUo/src/kernel.jl:52\n",
      "in read_and_release_imgsrc at /Users/adrita/.julia/packages/QuartzImageIO/AjiIs/src/QuartzImageIO.jl\n",
      "WARNING: ColorTypes.RGB1 is deprecated, use XRGB instead.\n",
      "  likely near /Users/adrita/.julia/packages/IJulia/F1GUo/src/kernel.jl:52\n",
      "in read_and_release_imgsrc at /Users/adrita/.julia/packages/QuartzImageIO/AjiIs/src/QuartzImageIO.jl\n"
     ]
    },
    {
     "ename": "MethodError",
     "evalue": "MethodError: no method matching !(::Float64)\nClosest candidates are:\n  !(!Matched::Missing) at missing.jl:100\n  !(!Matched::Bool) at bool.jl:35\n  !(!Matched::Function) at operators.jl:894",
     "output_type": "error",
     "traceback": [
      "MethodError: no method matching !(::Float64)\nClosest candidates are:\n  !(!Matched::Missing) at missing.jl:100\n  !(!Matched::Bool) at bool.jl:35\n  !(!Matched::Function) at operators.jl:894",
      "",
      "Stacktrace:",
      " [1] _broadcast_getindex at ./broadcast.jl:630 [inlined]",
      " [2] getindex at ./broadcast.jl:563 [inlined]",
      " [3] copy at ./broadcast.jl:853 [inlined]",
      " [4] materialize at ./broadcast.jl:819 [inlined]",
      " [5] screenProcessing(::Array{RGBX{Normed{UInt8,8}},2}, ::Array{RGBX{Normed{UInt8,8}},2}) at ./In[15]:29",
      " [6] top-level scope at In[16]:8"
     ]
    }
   ],
   "source": [
    "# TASK #8: Open a background image --> sample: background.jpg \n",
    "\n",
    "background = load(\"background.jpg\")\n",
    "\n",
    "# TASK #9: Open a greenscreen/front image --> sample: minion.jpg\n",
    "\n",
    "minion = load(\"minion.jpg\")\n",
    "\n",
    "# # TASK #10: Define the color ranges \n",
    "# hsv_lower = (54,1,0)   # Replace NONE with integers!\n",
    "# hsv_upper = (80,255,255)    # Replace NONE with integers!\n",
    "\n",
    "# TASK #11: Call screenProcessing, using the inputs we've defined above\n",
    "\n",
    "result = screenProcessing(minion, background)\n",
    "\n",
    "# TASK #12: Show the image in a popup window\n",
    "\n",
    "result"
   ]
  },
  {
   "cell_type": "code",
   "execution_count": 3,
   "metadata": {},
   "outputs": [
    {
     "name": "stdout",
     "output_type": "stream",
     "text": [
      "\u001b[32m\u001b[1m  Updating\u001b[22m\u001b[39m registry at `~/.julia/registries/General`\n",
      "\u001b[32m\u001b[1m  Updating\u001b[22m\u001b[39m git-repo `https://github.com/JuliaRegistries/General.git`\n",
      "\u001b[2K\u001b[?25h[1mFetching:\u001b[22m\u001b[39m [========================================>]  99.9 %0.0 %]  22.1 %\u001b[36m\u001b[1mFetching:\u001b[22m\u001b[39m [=================>                       ]  41.2 %\u001b[36m\u001b[1mFetching:\u001b[22m\u001b[39m [=========================>               ]  60.4 %          ]  74.2 % [====================================>    ]  88.0 %\u001b[32m\u001b[1m Resolving\u001b[22m\u001b[39m package versions...\n",
      "\u001b[32m\u001b[1m Installed\u001b[22m\u001b[39m Libglvnd_jll ───── v1.3.0+1\n",
      "\u001b[32m\u001b[1m Installed\u001b[22m\u001b[39m Tables ─────────── v1.0.1\n",
      "\u001b[32m\u001b[1m Installed\u001b[22m\u001b[39m JuliaInterpreter ─ v0.7.12\n",
      "\u001b[32m\u001b[1m Installed\u001b[22m\u001b[39m DataFrames ─────── v0.20.2\n",
      "\u001b[32m\u001b[1m Installed\u001b[22m\u001b[39m Conda ──────────── v1.4.1\n",
      "\u001b[32m\u001b[1m Installed\u001b[22m\u001b[39m ZeroMQ_jll ─────── v4.3.2+0\n",
      "\u001b[32m\u001b[1m Installed\u001b[22m\u001b[39m Xorg_libX11_jll ── v1.6.9+1\n",
      "\u001b[32m\u001b[1m Installed\u001b[22m\u001b[39m StatsBase ──────── v0.32.1\n",
      "\u001b[32m\u001b[1m Installed\u001b[22m\u001b[39m ImageAxes ──────── v0.6.4\n",
      "\u001b[32m\u001b[1m  Updating\u001b[22m\u001b[39m `~/.julia/environments/v1.3/Project.toml`\n",
      " \u001b[90m [dbb5928d]\u001b[39m\u001b[92m + MappedArrays v0.2.2\u001b[39m\n",
      "\u001b[32m\u001b[1m  Updating\u001b[22m\u001b[39m `~/.julia/environments/v1.3/Manifest.toml`\n",
      " \u001b[90m [8f4d0f93]\u001b[39m\u001b[93m ↑ Conda v1.4.0 ⇒ v1.4.1\u001b[39m\n",
      " \u001b[90m [a93c6f00]\u001b[39m\u001b[93m ↑ DataFrames v0.20.0 ⇒ v0.20.2\u001b[39m\n",
      " \u001b[90m [2803e5a7]\u001b[39m\u001b[93m ↑ ImageAxes v0.6.3 ⇒ v0.6.4\u001b[39m\n",
      " \u001b[90m [aa1ae85d]\u001b[39m\u001b[93m ↑ JuliaInterpreter v0.7.9 ⇒ v0.7.12\u001b[39m\n",
      " \u001b[90m [7e76a0d4]\u001b[39m\u001b[93m ↑ Libglvnd_jll v1.3.0+0 ⇒ v1.3.0+1\u001b[39m\n",
      " \u001b[90m [2913bbd2]\u001b[39m\u001b[93m ↑ StatsBase v0.32.0 ⇒ v0.32.1\u001b[39m\n",
      " \u001b[90m [bd369af6]\u001b[39m\u001b[93m ↑ Tables v0.2.11 ⇒ v1.0.1\u001b[39m\n",
      " \u001b[90m [4f6342f7]\u001b[39m\u001b[93m ↑ Xorg_libX11_jll v1.6.9+0 ⇒ v1.6.9+1\u001b[39m\n",
      " \u001b[90m [8f1865be]\u001b[39m\u001b[93m ↑ ZeroMQ_jll v4.3.1+0 ⇒ v4.3.2+0\u001b[39m\n",
      "\u001b[32m\u001b[1m  Building\u001b[22m\u001b[39m Conda → `~/.julia/packages/Conda/3rPhK/deps/build.log`\n"
     ]
    }
   ],
   "source": [
    "import Pkg\n",
    "Pkg.add(\"MappedArrays\")"
   ]
  },
  {
   "cell_type": "code",
   "execution_count": 4,
   "metadata": {},
   "outputs": [],
   "source": [
    "using MappedArrays"
   ]
  },
  {
   "cell_type": "code",
   "execution_count": 5,
   "metadata": {},
   "outputs": [
    {
     "data": {
      "text/plain": [
       "4-element Array{Int64,1}:\n",
       "  1\n",
       "  4\n",
       "  9\n",
       " 16"
      ]
     },
     "execution_count": 5,
     "metadata": {},
     "output_type": "execute_result"
    }
   ],
   "source": [
    "a = [1,4,9,16]"
   ]
  },
  {
   "cell_type": "code",
   "execution_count": 6,
   "metadata": {},
   "outputs": [
    {
     "data": {
      "text/plain": [
       "4-element mappedarray(sqrt, ::Array{Int64,1}) with eltype Float64:\n",
       " 1.0\n",
       " 2.0\n",
       " 3.0\n",
       " 4.0"
      ]
     },
     "execution_count": 6,
     "metadata": {},
     "output_type": "execute_result"
    }
   ],
   "source": [
    "b = mappedarray(sqrt, a)"
   ]
  },
  {
   "cell_type": "code",
   "execution_count": 12,
   "metadata": {},
   "outputs": [
    {
     "data": {
      "text/plain": [
       "4-element mappedarray(sin, ::Array{Int64,1}) with eltype Float64:\n",
       "  0.8414709848078965\n",
       " -0.7568024953079282\n",
       "  0.4121184852417566\n",
       " -0.2879033166650653"
      ]
     },
     "execution_count": 12,
     "metadata": {},
     "output_type": "execute_result"
    }
   ],
   "source": [
    "c = mappedarray(sin, a)"
   ]
  },
  {
   "cell_type": "code",
   "execution_count": 10,
   "metadata": {},
   "outputs": [
    {
     "data": {
      "image/svg+xml": [
       "<?xml version=\"1.0\" encoding=\"UTF-8\"?>\n",
       "<!DOCTYPE svg PUBLIC \"-//W3C//DTD SVG 1.1//EN\"\n",
       " \"http://www.w3.org/Graphics/SVG/1.1/DTD/svg11.dtd\">\n",
       "<svg xmlns=\"http://www.w3.org/2000/svg\" version=\"1.1\"\n",
       "     width=\"180mm\" height=\"25mm\"\n",
       "     viewBox=\"0 0 11 1\" preserveAspectRatio=\"none\"\n",
       "     shape-rendering=\"crispEdges\" stroke=\"none\">\n",
       "<rect width=\".94\" height=\".96\" x=\"0\" y=\"0\" fill=\"#000000\" />\n",
       "<rect width=\".94\" height=\".96\" x=\"1\" y=\"0\" fill=\"#1A001A\" />\n",
       "<rect width=\".94\" height=\".96\" x=\"2\" y=\"0\" fill=\"#330033\" />\n",
       "<rect width=\".94\" height=\".96\" x=\"3\" y=\"0\" fill=\"#4C004C\" />\n",
       "<rect width=\".94\" height=\".96\" x=\"4\" y=\"0\" fill=\"#660066\" />\n",
       "<rect width=\".94\" height=\".96\" x=\"5\" y=\"0\" fill=\"#800080\" />\n",
       "<rect width=\".94\" height=\".96\" x=\"6\" y=\"0\" fill=\"#990099\" />\n",
       "<rect width=\".94\" height=\".96\" x=\"7\" y=\"0\" fill=\"#B200B2\" />\n",
       "<rect width=\".94\" height=\".96\" x=\"8\" y=\"0\" fill=\"#CC00CC\" />\n",
       "<rect width=\".94\" height=\".96\" x=\"9\" y=\"0\" fill=\"#E600E6\" />\n",
       "<rect width=\".94\" height=\".96\" x=\"10\" y=\"0\" fill=\"#FF00FF\" />\n",
       "</svg>"
      ],
      "text/plain": [
       "11-element mappedarray(RGB{Float64}, ImageCore.extractchannels, ::StepRangeLen{Float64,Base.TwicePrecision{Float64},Base.TwicePrecision{Float64}}, ::ImageCore.ZeroArray{Float64,1,Base.OneTo{Int64}}, ::StepRangeLen{Float64,Base.TwicePrecision{Float64},Base.TwicePrecision{Float64}}) with eltype RGB{Float64}:\n",
       " RGB{Float64}(0.0,0.0,0.0)\n",
       " RGB{Float64}(0.1,0.0,0.1)\n",
       " RGB{Float64}(0.2,0.0,0.2)\n",
       " RGB{Float64}(0.3,0.0,0.3)\n",
       " RGB{Float64}(0.4,0.0,0.4)\n",
       " RGB{Float64}(0.5,0.0,0.5)\n",
       " RGB{Float64}(0.6,0.0,0.6)\n",
       " RGB{Float64}(0.7,0.0,0.7)\n",
       " RGB{Float64}(0.8,0.0,0.8)\n",
       " RGB{Float64}(0.9,0.0,0.9)\n",
       " RGB{Float64}(1.0,0.0,1.0)"
      ]
     },
     "execution_count": 10,
     "metadata": {},
     "output_type": "execute_result"
    }
   ],
   "source": [
    "using Colors, Images\n",
    "r = range(0,stop=1,length=11)\n",
    "b = range(0,stop=1,length=11)\n",
    "img1d = colorview(RGB, r, zeroarray, b)"
   ]
  },
  {
   "cell_type": "code",
   "execution_count": null,
   "metadata": {},
   "outputs": [],
   "source": []
  }
 ],
 "metadata": {
  "@webio": {
   "lastCommId": null,
   "lastKernelId": null
  },
  "kernelspec": {
   "display_name": "Julia 1.4.0",
   "language": "julia",
   "name": "julia-1.4"
  },
  "language_info": {
   "file_extension": ".jl",
   "mimetype": "application/julia",
   "name": "julia",
   "version": "1.4.0"
  }
 },
 "nbformat": 4,
 "nbformat_minor": 2
}
