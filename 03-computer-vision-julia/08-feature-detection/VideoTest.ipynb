{
 "cells": [
  {
   "cell_type": "code",
   "execution_count": 1,
   "metadata": {},
   "outputs": [],
   "source": [
    "using VideoIO\n",
    "\n",
    "#io = VideoIO.open(video_file)\n",
    "io = VideoIO.testvideo(\"annie_oakley\") # for testing purposes\n",
    "\n",
    "f = VideoIO.openvideo(io)\n",
    "\n",
    "img = read(f)\n",
    "\n",
    "while !eof(f)\n",
    "    read!(f, img)\n",
    "    # Do something with frames\n",
    "end\n",
    "close(f)"
   ]
  },
  {
   "cell_type": "code",
   "execution_count": 4,
   "metadata": {},
   "outputs": [],
   "source": [
    "using Makie\n",
    "using VideoIO\n",
    "\n",
    "f = VideoIO.testvideo(\"annie_oakley\")  # downloaded if not available\n",
    "VideoIO.playvideo(f)  # no sound"
   ]
  },
  {
   "cell_type": "code",
   "execution_count": 3,
   "metadata": {},
   "outputs": [],
   "source": [
    "using VideoIO\n",
    "cam = VideoIO.opencamera()\n",
    "for i in 1:100\n",
    "    img = read(cam)\n",
    "    sleep(1/cam.framerate)\n",
    "end"
   ]
  },
  {
   "cell_type": "code",
   "execution_count": 5,
   "metadata": {},
   "outputs": [],
   "source": [
    "using Makie\n",
    "using VideoIO\n",
    "VideoIO.viewcam()"
   ]
  },
  {
   "cell_type": "code",
   "execution_count": null,
   "metadata": {},
   "outputs": [],
   "source": []
  }
 ],
 "metadata": {
  "kernelspec": {
   "display_name": "Julia 1.4.0",
   "language": "julia",
   "name": "julia-1.4"
  },
  "language_info": {
   "file_extension": ".jl",
   "mimetype": "application/julia",
   "name": "julia",
   "version": "1.4.0"
  }
 },
 "nbformat": 4,
 "nbformat_minor": 2
}
