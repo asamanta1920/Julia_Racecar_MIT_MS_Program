{
 "cells": [
  {
   "cell_type": "code",
   "execution_count": 1,
   "metadata": {},
   "outputs": [],
   "source": [
    "using VideoIO\n",
    "cam = VideoIO.opencamera()\n",
    "for i in 1:100\n",
    "    img = read(cam)\n",
    "    sleep(1/cam.framerate)\n",
    "end"
   ]
  },
  {
   "cell_type": "code",
   "execution_count": 2,
   "metadata": {},
   "outputs": [
    {
     "ename": "InitError",
     "evalue": "InitError: could not load library \"/Users/adrita/.julia/artifacts/a6d3ce86d902a885e1e092882cb0ddb718aade03/lib/libass.9.dylib\"\ndlopen(/Users/adrita/.julia/artifacts/a6d3ce86d902a885e1e092882cb0ddb718aade03/lib/libass.9.dylib, 1): Library not loaded: @rpath/libfreetype.6.dylib\n  Referenced from: /Users/adrita/.julia/artifacts/a6d3ce86d902a885e1e092882cb0ddb718aade03/lib/libass.9.dylib\n  Reason: Incompatible library version: libass.9.dylib requires version 24.0.0 or later, but libfreetype.6.dylib provides version 6.0.0\nduring initialization of module libass_jll",
     "output_type": "error",
     "traceback": [
      "InitError: could not load library \"/Users/adrita/.julia/artifacts/a6d3ce86d902a885e1e092882cb0ddb718aade03/lib/libass.9.dylib\"\ndlopen(/Users/adrita/.julia/artifacts/a6d3ce86d902a885e1e092882cb0ddb718aade03/lib/libass.9.dylib, 1): Library not loaded: @rpath/libfreetype.6.dylib\n  Referenced from: /Users/adrita/.julia/artifacts/a6d3ce86d902a885e1e092882cb0ddb718aade03/lib/libass.9.dylib\n  Reason: Incompatible library version: libass.9.dylib requires version 24.0.0 or later, but libfreetype.6.dylib provides version 6.0.0\nduring initialization of module libass_jll",
      "",
      "Stacktrace:",
      " [1] dlopen(::String, ::UInt32; throw_error::Bool) at /Users/julia/buildbot/worker/package_macos64/build/usr/share/julia/stdlib/v1.4/Libdl/src/Libdl.jl:109",
      " [2] dlopen at /Users/julia/buildbot/worker/package_macos64/build/usr/share/julia/stdlib/v1.4/Libdl/src/Libdl.jl:109 [inlined] (repeats 2 times)",
      " [3] __init__() at /Users/adrita/.julia/packages/libass_jll/Ty9Kb/src/wrappers/x86_64-apple-darwin14.jl:46",
      " [4] _include_from_serialized(::String, ::Array{Any,1}) at ./loading.jl:697",
      " [5] _require_search_from_serialized(::Base.PkgId, ::String) at ./loading.jl:781",
      " [6] _tryrequire_from_serialized(::Base.PkgId, ::UInt64, ::String) at ./loading.jl:712",
      " [7] _require_search_from_serialized(::Base.PkgId, ::String) at ./loading.jl:770",
      " [8] _require(::Base.PkgId) at ./loading.jl:1006",
      " [9] require(::Base.PkgId) at ./loading.jl:927",
      " [10] require(::Module, ::Symbol) at ./loading.jl:922",
      " [11] top-level scope at In[2]:1"
     ]
    }
   ],
   "source": [
    "using Makie\n",
    "using VideoIO\n",
    "VideoIO.viewcam()"
   ]
  },
  {
   "cell_type": "code",
   "execution_count": null,
   "metadata": {},
   "outputs": [],
   "source": []
  }
 ],
 "metadata": {
  "@webio": {
   "lastCommId": null,
   "lastKernelId": null
  },
  "kernelspec": {
   "display_name": "Julia 1.4.0",
   "language": "julia",
   "name": "julia-1.4"
  },
  "language_info": {
   "file_extension": ".jl",
   "mimetype": "application/julia",
   "name": "julia",
   "version": "1.4.0"
  }
 },
 "nbformat": 4,
 "nbformat_minor": 2
}
