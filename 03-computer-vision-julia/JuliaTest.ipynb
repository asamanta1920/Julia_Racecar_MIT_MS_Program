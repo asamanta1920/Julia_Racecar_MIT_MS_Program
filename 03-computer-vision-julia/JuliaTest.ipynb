{
 "cells": [
  {
   "cell_type": "code",
   "execution_count": 1,
   "metadata": {},
   "outputs": [
    {
     "name": "stdout",
     "output_type": "stream",
     "text": [
      "\u001b[32m\u001b[1m  Updating\u001b[22m\u001b[39m registry at `~/.julia/registries/General`\n",
      "\u001b[32m\u001b[1m  Updating\u001b[22m\u001b[39m git-repo `https://github.com/JuliaRegistries/General.git`\n",
      "\u001b[2K\u001b[?25h[1mFetching:\u001b[22m\u001b[39m [========================================>]  100.0 %.0 %          ]  72.7 %\u001b[32m\u001b[1m Resolving\u001b[22m\u001b[39m package versions...\n",
      "\u001b[32m\u001b[1m  Updating\u001b[22m\u001b[39m `~/.julia/environments/v1.3/Project.toml`\n",
      "\u001b[90m [no changes]\u001b[39m\n",
      "\u001b[32m\u001b[1m  Updating\u001b[22m\u001b[39m `~/.julia/environments/v1.3/Manifest.toml`\n",
      "\u001b[90m [no changes]\u001b[39m\n"
     ]
    }
   ],
   "source": [
    "using Pkg\n",
    "Pkg.add(\"ProgressMeter\")"
   ]
  },
  {
   "cell_type": "code",
   "execution_count": 2,
   "metadata": {},
   "outputs": [
    {
     "name": "stderr",
     "output_type": "stream",
     "text": [
      "\u001b[32mYour first Trackbar...100%|█████████████████████████████| Time: 0:00:05\u001b[39m\n"
     ]
    }
   ],
   "source": [
    "using ProgressMeter\n",
    "\n",
    "@showprogress 1 \"Your first Trackbar...\" for i in 1:50\n",
    "    sleep(0.1)\n",
    "end"
   ]
  },
  {
   "cell_type": "code",
   "execution_count": 3,
   "metadata": {},
   "outputs": [
    {
     "name": "stdout",
     "output_type": "stream",
     "text": [
      "\u001b[32m\u001b[1m Resolving\u001b[22m\u001b[39m package versions...\n",
      "\u001b[32m\u001b[1m  Updating\u001b[22m\u001b[39m `~/.julia/environments/v1.3/Project.toml`\n",
      "\u001b[90m [no changes]\u001b[39m\n",
      "\u001b[32m\u001b[1m  Updating\u001b[22m\u001b[39m `~/.julia/environments/v1.3/Manifest.toml`\n",
      "\u001b[90m [no changes]\u001b[39m\n"
     ]
    }
   ],
   "source": [
    "import Pkg\n",
    "Pkg.add(\"WebIO\")"
   ]
  },
  {
   "cell_type": "code",
   "execution_count": 4,
   "metadata": {},
   "outputs": [
    {
     "data": {
      "text/html": [
       "<script>\n",
       "// Immediately-invoked-function-expression to avoid global variables.\n",
       "(function() {\n",
       "    var warning_div = document.getElementById(\"webio-warning-5529683159792704783\");\n",
       "    var hide = function () {\n",
       "        var script = document.getElementById(\"webio-setup-15240919713099084365\");\n",
       "        var parent = script && script.parentElement;\n",
       "        var grandparent = parent && parent.parentElement;\n",
       "        if (grandparent) {\n",
       "            grandparent.style.display = \"none\";\n",
       "        }\n",
       "        warning_div.style.display = \"none\";\n",
       "    };\n",
       "    if (typeof Jupyter !== \"undefined\") {\n",
       "        console.log(\"WebIO detected Jupyter notebook environment.\");\n",
       "        // Jupyter notebook.\n",
       "        var extensions = (\n",
       "            Jupyter\n",
       "            && Jupyter.notebook.config.data\n",
       "            && Jupyter.notebook.config.data.load_extensions\n",
       "        );\n",
       "        if (extensions && extensions[\"webio-jupyter-notebook\"]) {\n",
       "            // Extension already loaded.\n",
       "            console.log(\"Jupyter WebIO nbextension detected; not loading ad-hoc.\");\n",
       "            hide();\n",
       "            return;\n",
       "        }\n",
       "    } else if (window.location.pathname.includes(\"/lab\")) {\n",
       "        // Guessing JupyterLa\n",
       "        console.log(\"Jupyter Lab detected; make sure the @webio/jupyter-lab-provider labextension is installed.\");\n",
       "        hide();\n",
       "        return;\n",
       "    }\n",
       "})();\n",
       "\n",
       "</script>\n",
       "<p\n",
       "    id=\"webio-warning-5529683159792704783\"\n",
       "    class=\"output_text output_stderr\"\n",
       "    style=\"padding: 1em; font-weight: bold;\"\n",
       ">\n",
       "    Unable to load WebIO. Please make sure WebIO works for your Jupyter client.\n",
       "    For troubleshooting, please see <a href=\"https://juliagizmos.github.io/WebIO.jl/latest/providers/ijulia/\">\n",
       "    the WebIO/IJulia documentation</a>.\n",
       "    <!-- TODO: link to installation docs. -->\n",
       "</p>\n"
      ],
      "text/plain": [
       "HTML{String}(\"<script>\\n// Immediately-invoked-function-expression to avoid global variables.\\n(function() {\\n    var warning_div = document.getElementById(\\\"webio-warning-5529683159792704783\\\");\\n    var hide = function () {\\n        var script = document.getElementById(\\\"webio-setup-15240919713099084365\\\");\\n        var parent = script && script.parentElement;\\n        var grandparent = parent && parent.parentElement;\\n        if (grandparent) {\\n            grandparent.style.display = \\\"none\\\";\\n        }\\n        warning_div.style.display = \\\"none\\\";\\n    };\\n    if (typeof Jupyter !== \\\"undefined\\\") {\\n        console.log(\\\"WebIO detected Jupyter notebook environment.\\\");\\n        // Jupyter notebook.\\n        var extensions = (\\n            Jupyter\\n            && Jupyter.notebook.config.data\\n            && Jupyter.notebook.config.data.load_extensions\\n        );\\n        if (extensions && extensions[\\\"webio-jupyter-notebook\\\"]) {\\n            // Extension already loaded.\\n            console.log(\\\"Jupyter WebIO nbextension detected; not loading ad-hoc.\\\");\\n            hide();\\n            return;\\n        }\\n    } else if (window.location.pathname.includes(\\\"/lab\\\")) {\\n        // Guessing JupyterLa\\n        console.log(\\\"Jupyter Lab detected; make sure the @webio/jupyter-lab-provider labextension is installed.\\\");\\n        hide();\\n        return;\\n    }\\n})();\\n\\n</script>\\n<p\\n    id=\\\"webio-warning-5529683159792704783\\\"\\n    class=\\\"output_text output_stderr\\\"\\n    style=\\\"padding: 1em; font-weight: bold;\\\"\\n>\\n    Unable to load WebIO. Please make sure WebIO works for your Jupyter client.\\n    For troubleshooting, please see <a href=\\\"https://juliagizmos.github.io/WebIO.jl/latest/providers/ijulia/\\\">\\n    the WebIO/IJulia documentation</a>.\\n    <!-- TODO: link to installation docs. -->\\n</p>\\n\")"
      ]
     },
     "metadata": {},
     "output_type": "display_data"
    },
    {
     "name": "stderr",
     "output_type": "stream",
     "text": [
      "┌ Info: Installing Jupyter WebIO extension...\n",
      "│   cmd = `\u001b[4m/Users/adrita/opt/anaconda2/bin/jupyter\u001b[24m \u001b[4mnbextension\u001b[24m \u001b[4minstall\u001b[24m \u001b[4m--user\u001b[24m \u001b[4m/Users/adrita/.julia/packages/WebIO/2nnB1/deps/bundles/webio-jupyter-notebook.js\u001b[24m`\n",
      "└ @ WebIO /Users/adrita/.julia/packages/WebIO/2nnB1/deps/jupyter.jl:237\n",
      "Up to date: /Users/adrita/Library/Jupyter/nbextensions/webio-jupyter-notebook.js\n",
      "\n",
      "    To initialize this nbextension in the browser every time the notebook (or other app) loads:\n",
      "    \n",
      "          jupyter nbextension enable <the entry point> --user\n",
      "    \n",
      "┌ Info: Enabling Jupyter WebIO extension...\n",
      "│   cmd = `\u001b[4m/Users/adrita/opt/anaconda2/bin/jupyter\u001b[24m \u001b[4mnbextension\u001b[24m \u001b[4menable\u001b[24m \u001b[4m--user\u001b[24m \u001b[4mwebio-jupyter-notebook\u001b[24m`\n",
      "└ @ WebIO /Users/adrita/.julia/packages/WebIO/2nnB1/deps/jupyter.jl:241\n",
      "Enabling notebook extension webio-jupyter-notebook...\n",
      "      - Validating: \u001b[32mOK\u001b[0m\n"
     ]
    }
   ],
   "source": [
    "using WebIO\n",
    "WebIO.install_jupyter_nbextension()"
   ]
  },
  {
   "cell_type": "code",
   "execution_count": 9,
   "metadata": {},
   "outputs": [
    {
     "name": "stdout",
     "output_type": "stream",
     "text": [
      "\u001b[32m\u001b[1m Resolving\u001b[22m\u001b[39m package versions...\n",
      "\u001b[32m\u001b[1m  Updating\u001b[22m\u001b[39m `~/.julia/environments/v1.3/Project.toml`\n",
      " \u001b[90m [189a3867]\u001b[39m\u001b[92m + Reexport v0.2.0\u001b[39m\n",
      "\u001b[32m\u001b[1m  Updating\u001b[22m\u001b[39m `~/.julia/environments/v1.3/Manifest.toml`\n",
      "\u001b[90m [no changes]\u001b[39m\n"
     ]
    }
   ],
   "source": [
    "Pkg.add(\"Reexport\")"
   ]
  },
  {
   "cell_type": "code",
   "execution_count": 11,
   "metadata": {},
   "outputs": [
    {
     "name": "stdout",
     "output_type": "stream",
     "text": [
      "\u001b[32m\u001b[1m Resolving\u001b[22m\u001b[39m package versions...\n",
      "\u001b[32m\u001b[1m Installed\u001b[22m\u001b[39m JSExpr ─────── v0.5.1\n",
      "\u001b[32m\u001b[1m Installed\u001b[22m\u001b[39m CSSUtil ────── v0.1.0\n",
      "\u001b[32m\u001b[1m Installed\u001b[22m\u001b[39m Knockout ───── v0.2.3\n",
      "\u001b[32m\u001b[1m Installed\u001b[22m\u001b[39m InteractBase ─ v0.10.3\n",
      "\u001b[32m\u001b[1m  Updating\u001b[22m\u001b[39m `~/.julia/environments/v1.3/Project.toml`\n",
      " \u001b[90m [d3863d7c]\u001b[39m\u001b[92m + InteractBase v0.10.3\u001b[39m\n",
      "\u001b[32m\u001b[1m  Updating\u001b[22m\u001b[39m `~/.julia/environments/v1.3/Manifest.toml`\n",
      " \u001b[90m [70588ee8]\u001b[39m\u001b[92m + CSSUtil v0.1.0\u001b[39m\n",
      " \u001b[90m [d3863d7c]\u001b[39m\u001b[92m + InteractBase v0.10.3\u001b[39m\n",
      " \u001b[90m [97c1335a]\u001b[39m\u001b[92m + JSExpr v0.5.1\u001b[39m\n",
      " \u001b[90m [bcebb21b]\u001b[39m\u001b[92m + Knockout v0.2.3\u001b[39m\n",
      "\u001b[32m\u001b[1m  Building\u001b[22m\u001b[39m Knockout ────→ `~/.julia/packages/Knockout/1sDlc/deps/build.log`\n",
      "\u001b[32m\u001b[1m  Building\u001b[22m\u001b[39m InteractBase → `~/.julia/packages/InteractBase/9mFwe/deps/build.log`\n"
     ]
    }
   ],
   "source": [
    "Pkg.add(\"InteractBase\")"
   ]
  },
  {
   "cell_type": "code",
   "execution_count": 13,
   "metadata": {},
   "outputs": [
    {
     "name": "stdout",
     "output_type": "stream",
     "text": [
      "\u001b[32m\u001b[1m Resolving\u001b[22m\u001b[39m package versions...\n",
      "\u001b[32m\u001b[1m  Updating\u001b[22m\u001b[39m `~/.julia/environments/v1.3/Project.toml`\n",
      " \u001b[90m [cc8bc4a8]\u001b[39m\u001b[92m + Widgets v0.6.2\u001b[39m\n",
      "\u001b[32m\u001b[1m  Updating\u001b[22m\u001b[39m `~/.julia/environments/v1.3/Manifest.toml`\n",
      "\u001b[90m [no changes]\u001b[39m\n"
     ]
    }
   ],
   "source": [
    "Pkg.add(\"Widgets\")"
   ]
  },
  {
   "cell_type": "code",
   "execution_count": 15,
   "metadata": {},
   "outputs": [
    {
     "name": "stdout",
     "output_type": "stream",
     "text": [
      "\u001b[32m\u001b[1m Resolving\u001b[22m\u001b[39m package versions...\n",
      "\u001b[32m\u001b[1m  Updating\u001b[22m\u001b[39m `~/.julia/environments/v1.3/Project.toml`\n",
      " \u001b[90m [510215fc]\u001b[39m\u001b[92m + Observables v0.2.3\u001b[39m\n",
      "\u001b[32m\u001b[1m  Updating\u001b[22m\u001b[39m `~/.julia/environments/v1.3/Manifest.toml`\n",
      "\u001b[90m [no changes]\u001b[39m\n"
     ]
    }
   ],
   "source": [
    "Pkg.add(\"Observables\")"
   ]
  },
  {
   "cell_type": "code",
   "execution_count": 17,
   "metadata": {},
   "outputs": [
    {
     "name": "stdout",
     "output_type": "stream",
     "text": [
      "\u001b[32m\u001b[1m Resolving\u001b[22m\u001b[39m package versions...\n",
      "\u001b[32m\u001b[1m  Updating\u001b[22m\u001b[39m `~/.julia/environments/v1.3/Project.toml`\n",
      " \u001b[90m [bac558e1]\u001b[39m\u001b[92m + OrderedCollections v1.1.0\u001b[39m\n",
      "\u001b[32m\u001b[1m  Updating\u001b[22m\u001b[39m `~/.julia/environments/v1.3/Manifest.toml`\n",
      "\u001b[90m [no changes]\u001b[39m\n"
     ]
    }
   ],
   "source": [
    "Pkg.add(\"OrderedCollections\")"
   ]
  },
  {
   "cell_type": "code",
   "execution_count": 19,
   "metadata": {},
   "outputs": [
    {
     "name": "stdout",
     "output_type": "stream",
     "text": [
      "\u001b[32m\u001b[1m Resolving\u001b[22m\u001b[39m package versions...\n",
      "\u001b[32m\u001b[1m  Updating\u001b[22m\u001b[39m `~/.julia/environments/v1.3/Project.toml`\n",
      " \u001b[90m [bcebb21b]\u001b[39m\u001b[92m + Knockout v0.2.3\u001b[39m\n",
      "\u001b[32m\u001b[1m  Updating\u001b[22m\u001b[39m `~/.julia/environments/v1.3/Manifest.toml`\n",
      "\u001b[90m [no changes]\u001b[39m\n"
     ]
    }
   ],
   "source": [
    "Pkg.add(\"Knockout\")"
   ]
  },
  {
   "cell_type": "code",
   "execution_count": 21,
   "metadata": {},
   "outputs": [
    {
     "name": "stdout",
     "output_type": "stream",
     "text": [
      "\u001b[32m\u001b[1m Resolving\u001b[22m\u001b[39m package versions...\n",
      "\u001b[32m\u001b[1m  Updating\u001b[22m\u001b[39m `~/.julia/environments/v1.3/Project.toml`\n",
      " \u001b[90m [70588ee8]\u001b[39m\u001b[92m + CSSUtil v0.1.0\u001b[39m\n",
      "\u001b[32m\u001b[1m  Updating\u001b[22m\u001b[39m `~/.julia/environments/v1.3/Manifest.toml`\n",
      "\u001b[90m [no changes]\u001b[39m\n"
     ]
    }
   ],
   "source": [
    "Pkg.add(\"CSSUtil\")"
   ]
  },
  {
   "cell_type": "code",
   "execution_count": 5,
   "metadata": {},
   "outputs": [
    {
     "data": {
      "text/plain": [
       "Main.Interact"
      ]
     },
     "execution_count": 5,
     "metadata": {},
     "output_type": "execute_result"
    }
   ],
   "source": [
    "module Interact\n",
    "\n",
    "using Reexport\n",
    "\n",
    "@reexport using InteractBase\n",
    "import InteractBase: notifications\n",
    "import Widgets: Widget, @layout, @nodeps\n",
    "import Observables: @on, @map!, @map\n",
    "\n",
    "@reexport using OrderedCollections\n",
    "@reexport using Observables\n",
    "@reexport using Knockout\n",
    "@reexport using CSSUtil\n",
    "@reexport using WebIO\n",
    "@reexport using Widgets\n",
    "\n",
    "struct Bulma<:InteractBase.WidgetTheme; end\n",
    "\n",
    "const notebookdir = joinpath(@__DIR__, \"..\", \"doc\", \"notebooks\")\n",
    "\n",
    "const bulma_css = joinpath(@__DIR__, \"..\", \"assets\", \"bulma.min.css\")\n",
    "const bulma_confined_css = joinpath(@__DIR__, \"..\", \"assets\", \"bulma_confined.min.css\")\n",
    "\n",
    "function InteractBase.libraries(::Bulma)\n",
    "    bulmalib = InteractBase.isijulia() ? bulma_confined_css : bulma_css\n",
    "    vcat(InteractBase.font_awesome, InteractBase.style_css, bulmalib)\n",
    "end\n",
    "\n",
    "function __init__()\n",
    "    InteractBase.registertheme!(:bulma, Bulma())\n",
    "    settheme!(Bulma())\n",
    "    nothing\n",
    "end\n",
    "\n",
    "end"
   ]
  },
  {
   "cell_type": "code",
   "execution_count": 6,
   "metadata": {},
   "outputs": [
    {
     "name": "stdout",
     "output_type": "stream",
     "text": [
      "\u001b[32m\u001b[1m Resolving\u001b[22m\u001b[39m package versions...\n",
      "\u001b[32m\u001b[1m  Updating\u001b[22m\u001b[39m `~/.julia/environments/v1.3/Project.toml`\n",
      "\u001b[90m [no changes]\u001b[39m\n",
      "\u001b[32m\u001b[1m  Updating\u001b[22m\u001b[39m `~/.julia/environments/v1.3/Manifest.toml`\n",
      "\u001b[90m [no changes]\u001b[39m\n"
     ]
    }
   ],
   "source": [
    "Pkg.add(\"Interact\")"
   ]
  },
  {
   "cell_type": "code",
   "execution_count": 7,
   "metadata": {},
   "outputs": [
    {
     "ename": "LoadError",
     "evalue": "UndefVarError: @manipulate not defined",
     "output_type": "error",
     "traceback": [
      "UndefVarError: @manipulate not defined",
      ""
     ]
    }
   ],
   "source": [
    "width, height = 700, 300\n",
    "colors = [\"black\", \"gray\", \"silver\", \"maroon\", \"red\", \"olive\", \"yellow\", \"green\", \"lime\", \"teal\", \"aqua\", \"navy\", \"blue\", \"purple\", \"fuchsia\"]\n",
    "color(i) = colors[i%length(colors)+1]\n",
    "ui = @manipulate for nsamples in 1:200,\n",
    "        sample_step in slider(0.01:0.01:1, value=0.1, label=\"sample step\"),\n",
    "        phase in slider(0:0.1:2pi, value=0.2, label=\"phase\"),\n",
    "        radii in 0.1:0.1:60\n",
    "    cxs_unscaled = [i*sample_step + phase for i in 1:nsamples]\n",
    "    cys = sin.(cxs_unscaled) .* height/3 .+ height/2\n",
    "    cxs = cxs_unscaled .* width/4pi\n",
    "    dom\"svg:svg[width=$width, height=$height]\"(\n",
    "        (dom\"svg:circle[cx=$(cxs[i]), cy=$(cys[i]), r=$radii, fill=$(color(i))]\"()\n",
    "            for i in 1:nsamples)...\n",
    "    )\n",
    "end"
   ]
  },
  {
   "cell_type": "code",
   "execution_count": 30,
   "metadata": {},
   "outputs": [
    {
     "name": "stdout",
     "output_type": "stream",
     "text": [
      "\u001b[32m\u001b[1m Resolving\u001b[22m\u001b[39m package versions...\n",
      "\u001b[32m\u001b[1m Installed\u001b[22m\u001b[39m RoundingIntegers ─ v0.2.0\n",
      "\u001b[32m\u001b[1m Installed\u001b[22m\u001b[39m Reactive ───────── v0.8.3\n",
      "\u001b[32m\u001b[1m Installed\u001b[22m\u001b[39m GtkReactive ────── v1.0.2\n",
      "\u001b[32m\u001b[1m Installed\u001b[22m\u001b[39m ImageView ──────── v0.10.6\n",
      "\u001b[32m\u001b[1m  Updating\u001b[22m\u001b[39m `~/.julia/environments/v1.3/Project.toml`\n",
      " \u001b[90m [86fae568]\u001b[39m\u001b[92m + ImageView v0.10.6\u001b[39m\n",
      "\u001b[32m\u001b[1m  Updating\u001b[22m\u001b[39m `~/.julia/environments/v1.3/Manifest.toml`\n",
      " \u001b[90m [da5c29d0]\u001b[39m\u001b[91m - EllipsisNotation v0.4.0\u001b[39m\n",
      " \u001b[90m [27996c0f]\u001b[39m\u001b[92m + GtkReactive v1.0.2\u001b[39m\n",
      " \u001b[90m [86fae568]\u001b[39m\u001b[92m + ImageView v0.10.6\u001b[39m\n",
      " \u001b[90m [8197267c]\u001b[39m\u001b[95m ↓ IntervalSets v0.4.0 ⇒ v0.3.2\u001b[39m\n",
      " \u001b[90m [a223df75]\u001b[39m\u001b[92m + Reactive v0.8.3\u001b[39m\n",
      " \u001b[90m [d5f540fe]\u001b[39m\u001b[92m + RoundingIntegers v0.2.0\u001b[39m\n"
     ]
    }
   ],
   "source": [
    "Pkg.add(\"ImageView\")"
   ]
  },
  {
   "cell_type": "code",
   "execution_count": 29,
   "metadata": {},
   "outputs": [
    {
     "name": "stderr",
     "output_type": "stream",
     "text": [
      "WARNING: using Images.height in module Main conflicts with an existing identifier.\n",
      "WARNING: using Images.width in module Main conflicts with an existing identifier.\n",
      "WARNING: using Images.phase in module Main conflicts with an existing identifier.\n"
     ]
    },
    {
     "ename": "ArgumentError",
     "evalue": "ArgumentError: Package ImageView not found in current path:\n- Run `import Pkg; Pkg.add(\"ImageView\")` to install the ImageView package.\n",
     "output_type": "error",
     "traceback": [
      "ArgumentError: Package ImageView not found in current path:\n- Run `import Pkg; Pkg.add(\"ImageView\")` to install the ImageView package.\n",
      "",
      "Stacktrace:",
      " [1] require(::Module, ::Symbol) at ./loading.jl:887",
      " [2] top-level scope at In[29]:2"
     ]
    }
   ],
   "source": [
    "using Images\n",
    "import ImageView\n",
    "\n",
    "imgdy = normedview(UInt8[y for y=0x00:0xff, x=0:100])\n",
    "imgdx = normedview(UInt8[x for y=1:100, x=0x00:0xff])\n",
    "imshow_now(imgdy)\n",
    "imshow_now(imgdx)\n",
    "\n",
    "A = zeros(300, 200)\n",
    "lbl = similar(A, Int)\n",
    "fill!(lbl, 0)\n",
    "A[80:120, 50:150] .= 0.8\n",
    "lbl[80:120, 50:150] .= 1\n",
    "cx, cy = 200, 100\n",
    "for j = -30:30, i = -30:30\n",
    "    if i^2+j^2 <= 900\n",
    "        A[cx+i,cy+j] = rand()\n",
    "        lbl[cx+i,cy+j] = 2\n",
    "    end\n",
    "end\n",
    "ImageView.imshowlabeled(A, lbl; name=\"circle and rectangle\")\n"
   ]
  }
 ],
 "metadata": {
  "@webio": {
   "lastCommId": "d27b6671b1a54584856f146e9b134065",
   "lastKernelId": "66ee183a-3874-4763-9651-df2d479ddfd8"
  },
  "kernelspec": {
   "display_name": "Julia 1.4.0",
   "language": "julia",
   "name": "julia-1.4"
  },
  "language_info": {
   "file_extension": ".jl",
   "mimetype": "application/julia",
   "name": "julia",
   "version": "1.4.0"
  }
 },
 "nbformat": 4,
 "nbformat_minor": 2
}
