{
 "cells": [
  {
   "cell_type": "code",
   "execution_count": 1,
   "metadata": {},
   "outputs": [
    {
     "name": "stderr",
     "output_type": "stream",
     "text": [
      "┌ Info: Precompiling ImageInpainting [2bcd8d84-2ef9-5317-bfa0-0ed5605635ad]\n",
      "└ @ Base loading.jl:1273\n",
      "┌ Info: Precompiling VisualRegressionTests [34922c18-7c2a-561c-bac1-01e79b2c4c92]\n",
      "└ @ Base loading.jl:1273\n"
     ]
    },
    {
     "name": "stdout",
     "output_type": "stream",
     "text": [
      "\u001b[32m\u001b[1m  Updating\u001b[22m\u001b[39m registry at `~/.julia/registries/General`\n",
      "\u001b[32m\u001b[1m  Updating\u001b[22m\u001b[39m git-repo `https://github.com/JuliaRegistries/General.git`\n",
      "\u001b[2K\u001b[?25h[1mFetching:\u001b[22m\u001b[39m [========================================>]  100.0 %.0 %35.4 %=============================>           ]  71.1 %\u001b[36m\u001b[1mFetching:\u001b[22m\u001b[39m [==============================>          ]  72.6 %\u001b[32m\u001b[1m Resolving\u001b[22m\u001b[39m package versions...\n",
      "\u001b[32m\u001b[1m  Updating\u001b[22m\u001b[39m `~/.julia/environments/v1.3/Project.toml`\n",
      "\u001b[90m [no changes]\u001b[39m\n",
      "\u001b[32m\u001b[1m  Updating\u001b[22m\u001b[39m `~/.julia/environments/v1.3/Manifest.toml`\n",
      "\u001b[90m [no changes]\u001b[39m\n"
     ]
    },
    {
     "name": "stderr",
     "output_type": "stream",
     "text": [
      "┌ Info: Precompiling Gtk [4c0ca9eb-093a-5379-98c5-f87ac0bbbf44]\n",
      "└ @ Base loading.jl:1273\n",
      "ERROR: LoadError: EOFError: read end of file\n",
      "Stacktrace:\n",
      " [1] read(::IOStream, ::Type{Int64}) at ./iostream.jl:361\n",
      " [2] parse_cache_header(::IOStream) at ./loading.jl:1334\n",
      " [3] stale_cachefile(::String, ::String) at ./loading.jl:1413\n",
      " [4] _require_search_from_serialized(::Base.PkgId, ::String) at ./loading.jl:752\n",
      " [5] _require(::Base.PkgId) at ./loading.jl:1001\n",
      " [6] require(::Base.PkgId) at ./loading.jl:922\n",
      " [7] require(::Module, ::Symbol) at ./loading.jl:917\n",
      " [8] include at ./boot.jl:328 [inlined]\n",
      " [9] include_relative(::Module, ::String) at ./loading.jl:1105\n",
      " [10] include(::Module, ::String) at ./Base.jl:31\n",
      " [11] top-level scope at none:2\n",
      " [12] eval at ./boot.jl:330 [inlined]\n",
      " [13] eval(::Expr) at ./client.jl:425\n",
      " [14] top-level scope at ./none:3\n",
      "in expression starting at /Users/adrita/.julia/packages/Gtk/5KVNb/src/Gtk.jl:5\n"
     ]
    },
    {
     "ename": "ErrorException",
     "evalue": "Failed to precompile Gtk [4c0ca9eb-093a-5379-98c5-f87ac0bbbf44] to /Users/adrita/.julia/compiled/v1.3/Gtk/Vjnq0_eEwBz.ji.",
     "output_type": "error",
     "traceback": [
      "Failed to precompile Gtk [4c0ca9eb-093a-5379-98c5-f87ac0bbbf44] to /Users/adrita/.julia/compiled/v1.3/Gtk/Vjnq0_eEwBz.ji.",
      "",
      "Stacktrace:",
      " [1] error(::String) at ./error.jl:33",
      " [2] compilecache(::Base.PkgId, ::String) at ./loading.jl:1283",
      " [3] _require(::Base.PkgId) at ./loading.jl:1024",
      " [4] require(::Base.PkgId) at ./loading.jl:922",
      " [5] require(::Module, ::Symbol) at ./loading.jl:917",
      " [6] top-level scope at In[1]:17"
     ]
    }
   ],
   "source": [
    "using ImageInpainting\n",
    "using ColorTypes\n",
    "using TestImages\n",
    "using Plots, VisualRegressionTests\n",
    "using Test, Pkg\n",
    "\n",
    "# workaround GR warnings\n",
    "ENV[\"GKSwstype\"] = \"100\"\n",
    "\n",
    "# environment settings\n",
    "islinux = Sys.islinux()\n",
    "istravis = \"TRAVIS\" ∈ keys(ENV)\n",
    "datadir = joinpath(@__DIR__,\"data\")\n",
    "visualtests = !istravis || (istravis && islinux)\n",
    "if !istravis\n",
    "  Pkg.add(\"Gtk\")\n",
    "  using Gtk\n",
    "end\n",
    "\n",
    "# helper functions\n",
    "function plot_before_after(before, mask, after)\n",
    "  gr(size=(800,400),yflip=true,colorbar=false,ticks=false)\n",
    "  B = copy(before); B[mask] .= NaN\n",
    "  p1 = heatmap(B,title=\"before\")\n",
    "  p2 = heatmap(after,title=\"after\")\n",
    "  plot(p1, p2, aspect_ratio=:equal)\n",
    "end\n",
    "\n",
    "# list of tests\n",
    "testfiles = [\n",
    "  \"criminisi.jl\"\n",
    "]\n",
    "\n",
    "@testset \"ImageInpainting.jl\" begin\n",
    "  for testfile in testfiles\n",
    "    include(testfile)\n",
    "  end\n",
    "end"
   ]
  },
  {
   "cell_type": "code",
   "execution_count": null,
   "metadata": {},
   "outputs": [],
   "source": []
  }
 ],
 "metadata": {
  "kernelspec": {
   "display_name": "Julia 1.3.0",
   "language": "julia",
   "name": "julia-1.3"
  },
  "language_info": {
   "file_extension": ".jl",
   "mimetype": "application/julia",
   "name": "julia",
   "version": "1.3.0"
  }
 },
 "nbformat": 4,
 "nbformat_minor": 2
}
