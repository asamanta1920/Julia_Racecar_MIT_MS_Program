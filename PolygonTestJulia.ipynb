{
 "cells": [
  {
   "cell_type": "code",
   "execution_count": 4,
   "metadata": {},
   "outputs": [
    {
     "name": "stderr",
     "output_type": "stream",
     "text": [
      "┌ Info: Precompiling Luxor [ae8d54c2-7ccd-5906-9d76-62fc9837b5bc]\n",
      "└ @ Base loading.jl:1273\n"
     ]
    },
    {
     "ename": "UndefVarError",
     "evalue": "UndefVarError: distinguishable_colors not defined",
     "output_type": "error",
     "traceback": [
      "UndefVarError: distinguishable_colors not defined",
      "",
      "Stacktrace:",
      " [1] top-level scope at In[4]:2"
     ]
    }
   ],
   "source": [
    "using Luxor\n",
    "\n",
    "cols = distinguishable_colors(10)\n",
    "setline(2)\n",
    "fontsize(12)\n",
    "tiles = Tiler(700, 600, 3, 3)\n",
    "\n",
    "for (pos, n) in tiles\n",
    "    @layer begin\n",
    "        translate(pos)\n",
    "\n",
    "        p = ngon(O, 80, n, vertices=true)\n",
    "\n",
    "        sethue(cols[n])\n",
    "\n",
    "        poly(p, :fill, close=true)\n",
    "        sethue(\"black\")\n",
    "        poly(p, :stroke, close=true)\n",
    "\n",
    "        circle(O, 4, :fill)\n",
    "\n",
    "        label.([string(i) for i in 1:n], slope.(O, p), p, offset=5)\n",
    "    end\n",
    "end"
   ]
  },
  {
   "cell_type": "code",
   "execution_count": null,
   "metadata": {},
   "outputs": [],
   "source": []
  }
 ],
 "metadata": {
  "kernelspec": {
   "display_name": "Julia 1.3.0",
   "language": "julia",
   "name": "julia-1.3"
  },
  "language_info": {
   "file_extension": ".jl",
   "mimetype": "application/julia",
   "name": "julia",
   "version": "1.3.0"
  }
 },
 "nbformat": 4,
 "nbformat_minor": 2
}
